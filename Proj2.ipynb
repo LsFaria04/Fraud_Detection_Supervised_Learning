{
 "cells": [
  {
   "cell_type": "markdown",
   "id": "3ac23555",
   "metadata": {},
   "source": [
    "# Supervised Learning: Fraud Detection in E-Commerce\n",
    "\n",
    "## Problem Definition\n",
    "The objective of this study is to develop a binary classification model capable of detecting fraudulent e-commerce transactions. The target variable represents whether a transaction is fraudulent (`1`) or legitimate (`0`). The outcome of this model is intended to support the early identification of fraudulent activity, improving online transaction security.\n",
    "\n",
    "## Dataset Description\n",
    "This project utilizes two publicly available datasets:\n",
    "- `Dataset1.csv`: A detailed transactional dataset that includes demographic, behavioral, and transactional features.\n",
    "- `Dataset2.csv`: A more compact dataset focused on user and transaction metadata.\n",
    "\n",
    "Given their complementary nature, these datasets will be merged to construct a richer feature space for model training.\n",
    "However, the datasets present differences in their structure and attribute naming, which necessitates a standardization process before merging.\n",
    "\n",
    "## Setup and Data Loading\n",
    "We begin by importing the necessary libraries and loading the datasets."
   ]
  },
  {
   "cell_type": "code",
   "execution_count": 1,
   "id": "196401ae",
   "metadata": {},
   "outputs": [],
   "source": [
    "# Libraries\n",
    "import pandas as pd\n",
    "import numpy as np\n",
    "import matplotlib.pyplot as plt\n",
    "import seaborn as sb\n",
    "\n",
    "from sklearn.model_selection import train_test_split\n",
    "from sklearn.preprocessing import StandardScaler\n",
    "from sklearn.tree import DecisionTreeClassifier\n",
    "from sklearn.neighbors import KNeighborsClassifier\n",
    "from sklearn.svm import SVC\n",
    "from sklearn.metrics import accuracy_score, precision_score, recall_score, f1_score, confusion_matrix\n",
    "\n",
    "# Load datasets\n",
    "dataset1 = pd.read_csv('Datasets/Dataset1.csv')\n",
    "dataset2 = pd.read_csv('Datasets/Dataset2.csv')"
   ]
  },
  {
   "cell_type": "markdown",
   "id": "0a70db73",
   "metadata": {},
   "source": [
    "### Column Comparison\n",
    "We first inspect the structure of both datasets to identify differences in column names and schema."
   ]
  },
  {
   "cell_type": "code",
   "execution_count": 2,
   "id": "220a215c",
   "metadata": {},
   "outputs": [
    {
     "name": "stdout",
     "output_type": "stream",
     "text": [
      "Dataset 1 Columns:\n",
      " Index(['Transaction ID', 'Customer ID', 'Transaction Amount',\n",
      "       'Transaction Date', 'Payment Method', 'Product Category', 'Quantity',\n",
      "       'Customer Age', 'Customer Location', 'Device Used', 'IP Address',\n",
      "       'Shipping Address', 'Billing Address', 'Is Fraudulent',\n",
      "       'Account Age Days', 'Transaction Hour'],\n",
      "      dtype='object') \n",
      "\n",
      "Dataset 2 Columns:\n",
      " Index(['user_id', 'signup_time', 'purchase_time', 'purchase_value',\n",
      "       'device_id', 'source', 'browser', 'sex', 'age', 'ip_address', 'class'],\n",
      "      dtype='object')\n"
     ]
    }
   ],
   "source": [
    "print(\"Dataset 1 Columns:\\n\", dataset1.columns, \"\\n\")\n",
    "print(\"Dataset 2 Columns:\\n\", dataset2.columns)"
   ]
  },
  {
   "cell_type": "markdown",
   "id": "2e288d05",
   "metadata": {},
   "source": [
    "### Standardization\n",
    "Several columns in dataset2 refer to similar concepts as those in dataset1, although with different names. We rename those columns to ensure semantic alignment."
   ]
  },
  {
   "cell_type": "code",
   "execution_count": 3,
   "id": "a99043b9",
   "metadata": {},
   "outputs": [],
   "source": [
    "dataset2_renamed = dataset2.rename(columns={\n",
    "    'user_id': 'Customer ID',\n",
    "    'purchase_time': 'Transaction Date',\n",
    "    'purchase_value': 'Transaction Amount',\n",
    "    'device_id': 'Device Used',\n",
    "    'ip_address': 'IP Address',\n",
    "    'age': 'Customer Age',\n",
    "    'class': 'Is Fraudulent'\n",
    "})"
   ]
  },
  {
   "cell_type": "markdown",
   "id": "ac677612",
   "metadata": {},
   "source": [
    "Additionally, we add missing columns with 'NaN' to maintain consistency across datasets."
   ]
  },
  {
   "cell_type": "code",
   "execution_count": 4,
   "id": "e084c823",
   "metadata": {},
   "outputs": [],
   "source": [
    "missing_columns = set(dataset1.columns) - set(dataset2_renamed.columns)\n",
    "for col in missing_columns:\n",
    "    dataset2_renamed[col] = np.nan\n",
    "\n",
    "# Align column order to match dataset1\n",
    "dataset2_aligned = dataset2_renamed[dataset1.columns]"
   ]
  },
  {
   "cell_type": "markdown",
   "id": "2914c8e7",
   "metadata": {},
   "source": [
    "### Merging the Datasets\n",
    "With both datasets now aligned in schema, we concatenate them into a single unified dataset."
   ]
  },
  {
   "cell_type": "code",
   "execution_count": 5,
   "id": "c5400a88",
   "metadata": {},
   "outputs": [
    {
     "data": {
      "text/html": [
       "<div>\n",
       "<style scoped>\n",
       "    .dataframe tbody tr th:only-of-type {\n",
       "        vertical-align: middle;\n",
       "    }\n",
       "\n",
       "    .dataframe tbody tr th {\n",
       "        vertical-align: top;\n",
       "    }\n",
       "\n",
       "    .dataframe thead th {\n",
       "        text-align: right;\n",
       "    }\n",
       "</style>\n",
       "<table border=\"1\" class=\"dataframe\">\n",
       "  <thead>\n",
       "    <tr style=\"text-align: right;\">\n",
       "      <th></th>\n",
       "      <th>Transaction ID</th>\n",
       "      <th>Customer ID</th>\n",
       "      <th>Transaction Amount</th>\n",
       "      <th>Transaction Date</th>\n",
       "      <th>Payment Method</th>\n",
       "      <th>Product Category</th>\n",
       "      <th>Quantity</th>\n",
       "      <th>Customer Age</th>\n",
       "      <th>Customer Location</th>\n",
       "      <th>Device Used</th>\n",
       "      <th>IP Address</th>\n",
       "      <th>Shipping Address</th>\n",
       "      <th>Billing Address</th>\n",
       "      <th>Is Fraudulent</th>\n",
       "      <th>Account Age Days</th>\n",
       "      <th>Transaction Hour</th>\n",
       "    </tr>\n",
       "  </thead>\n",
       "  <tbody>\n",
       "    <tr>\n",
       "      <th>0</th>\n",
       "      <td>15d2e414-8735-46fc-9e02-80b472b2580f</td>\n",
       "      <td>d1b87f62-51b2-493b-ad6a-77e0fe13e785</td>\n",
       "      <td>58.09</td>\n",
       "      <td>2024-02-20 05:58:41</td>\n",
       "      <td>bank transfer</td>\n",
       "      <td>electronics</td>\n",
       "      <td>1.0</td>\n",
       "      <td>17</td>\n",
       "      <td>Amandaborough</td>\n",
       "      <td>tablet</td>\n",
       "      <td>212.195.49.198</td>\n",
       "      <td>Unit 8934 Box 0058\\nDPO AA 05437</td>\n",
       "      <td>Unit 8934 Box 0058\\nDPO AA 05437</td>\n",
       "      <td>0</td>\n",
       "      <td>30.0</td>\n",
       "      <td>5.0</td>\n",
       "    </tr>\n",
       "    <tr>\n",
       "      <th>1</th>\n",
       "      <td>0bfee1a0-6d5e-40da-a446-d04e73b1b177</td>\n",
       "      <td>37de64d5-e901-4a56-9ea0-af0c24c069cf</td>\n",
       "      <td>389.96</td>\n",
       "      <td>2024-02-25 08:09:45</td>\n",
       "      <td>debit card</td>\n",
       "      <td>electronics</td>\n",
       "      <td>2.0</td>\n",
       "      <td>40</td>\n",
       "      <td>East Timothy</td>\n",
       "      <td>desktop</td>\n",
       "      <td>208.106.249.121</td>\n",
       "      <td>634 May Keys\\nPort Cherylview, NV 75063</td>\n",
       "      <td>634 May Keys\\nPort Cherylview, NV 75063</td>\n",
       "      <td>0</td>\n",
       "      <td>72.0</td>\n",
       "      <td>8.0</td>\n",
       "    </tr>\n",
       "    <tr>\n",
       "      <th>2</th>\n",
       "      <td>e588eef4-b754-468e-9d90-d0e0abfc1af0</td>\n",
       "      <td>1bac88d6-4b22-409a-a06b-425119c57225</td>\n",
       "      <td>134.19</td>\n",
       "      <td>2024-03-18 03:42:55</td>\n",
       "      <td>PayPal</td>\n",
       "      <td>home &amp; garden</td>\n",
       "      <td>2.0</td>\n",
       "      <td>22</td>\n",
       "      <td>Davismouth</td>\n",
       "      <td>tablet</td>\n",
       "      <td>76.63.88.212</td>\n",
       "      <td>16282 Dana Falls Suite 790\\nRothhaven, IL 15564</td>\n",
       "      <td>16282 Dana Falls Suite 790\\nRothhaven, IL 15564</td>\n",
       "      <td>0</td>\n",
       "      <td>63.0</td>\n",
       "      <td>3.0</td>\n",
       "    </tr>\n",
       "    <tr>\n",
       "      <th>3</th>\n",
       "      <td>4de46e52-60c3-49d9-be39-636681009789</td>\n",
       "      <td>2357c76e-9253-4ceb-b44e-ef4b71cb7d4d</td>\n",
       "      <td>226.17</td>\n",
       "      <td>2024-03-16 20:41:31</td>\n",
       "      <td>bank transfer</td>\n",
       "      <td>clothing</td>\n",
       "      <td>5.0</td>\n",
       "      <td>31</td>\n",
       "      <td>Lynnberg</td>\n",
       "      <td>desktop</td>\n",
       "      <td>207.208.171.73</td>\n",
       "      <td>828 Strong Loaf Apt. 646\\nNew Joshua, UT 84798</td>\n",
       "      <td>828 Strong Loaf Apt. 646\\nNew Joshua, UT 84798</td>\n",
       "      <td>0</td>\n",
       "      <td>124.0</td>\n",
       "      <td>20.0</td>\n",
       "    </tr>\n",
       "    <tr>\n",
       "      <th>4</th>\n",
       "      <td>074a76de-fe2d-443e-a00c-f044cdb68e21</td>\n",
       "      <td>45071bc5-9588-43ea-8093-023caec8ea1c</td>\n",
       "      <td>121.53</td>\n",
       "      <td>2024-01-15 05:08:17</td>\n",
       "      <td>bank transfer</td>\n",
       "      <td>clothing</td>\n",
       "      <td>2.0</td>\n",
       "      <td>51</td>\n",
       "      <td>South Nicole</td>\n",
       "      <td>tablet</td>\n",
       "      <td>190.172.14.169</td>\n",
       "      <td>29799 Jason Hills Apt. 439\\nWest Richardtown, ...</td>\n",
       "      <td>29799 Jason Hills Apt. 439\\nWest Richardtown, ...</td>\n",
       "      <td>0</td>\n",
       "      <td>158.0</td>\n",
       "      <td>5.0</td>\n",
       "    </tr>\n",
       "  </tbody>\n",
       "</table>\n",
       "</div>"
      ],
      "text/plain": [
       "                         Transaction ID                           Customer ID  \\\n",
       "0  15d2e414-8735-46fc-9e02-80b472b2580f  d1b87f62-51b2-493b-ad6a-77e0fe13e785   \n",
       "1  0bfee1a0-6d5e-40da-a446-d04e73b1b177  37de64d5-e901-4a56-9ea0-af0c24c069cf   \n",
       "2  e588eef4-b754-468e-9d90-d0e0abfc1af0  1bac88d6-4b22-409a-a06b-425119c57225   \n",
       "3  4de46e52-60c3-49d9-be39-636681009789  2357c76e-9253-4ceb-b44e-ef4b71cb7d4d   \n",
       "4  074a76de-fe2d-443e-a00c-f044cdb68e21  45071bc5-9588-43ea-8093-023caec8ea1c   \n",
       "\n",
       "   Transaction Amount     Transaction Date Payment Method Product Category  \\\n",
       "0               58.09  2024-02-20 05:58:41  bank transfer      electronics   \n",
       "1              389.96  2024-02-25 08:09:45     debit card      electronics   \n",
       "2              134.19  2024-03-18 03:42:55         PayPal    home & garden   \n",
       "3              226.17  2024-03-16 20:41:31  bank transfer         clothing   \n",
       "4              121.53  2024-01-15 05:08:17  bank transfer         clothing   \n",
       "\n",
       "   Quantity  Customer Age Customer Location Device Used       IP Address  \\\n",
       "0       1.0            17     Amandaborough      tablet   212.195.49.198   \n",
       "1       2.0            40      East Timothy     desktop  208.106.249.121   \n",
       "2       2.0            22        Davismouth      tablet     76.63.88.212   \n",
       "3       5.0            31          Lynnberg     desktop   207.208.171.73   \n",
       "4       2.0            51      South Nicole      tablet   190.172.14.169   \n",
       "\n",
       "                                    Shipping Address  \\\n",
       "0                   Unit 8934 Box 0058\\nDPO AA 05437   \n",
       "1            634 May Keys\\nPort Cherylview, NV 75063   \n",
       "2    16282 Dana Falls Suite 790\\nRothhaven, IL 15564   \n",
       "3     828 Strong Loaf Apt. 646\\nNew Joshua, UT 84798   \n",
       "4  29799 Jason Hills Apt. 439\\nWest Richardtown, ...   \n",
       "\n",
       "                                     Billing Address  Is Fraudulent  \\\n",
       "0                   Unit 8934 Box 0058\\nDPO AA 05437              0   \n",
       "1            634 May Keys\\nPort Cherylview, NV 75063              0   \n",
       "2    16282 Dana Falls Suite 790\\nRothhaven, IL 15564              0   \n",
       "3     828 Strong Loaf Apt. 646\\nNew Joshua, UT 84798              0   \n",
       "4  29799 Jason Hills Apt. 439\\nWest Richardtown, ...              0   \n",
       "\n",
       "   Account Age Days  Transaction Hour  \n",
       "0              30.0               5.0  \n",
       "1              72.0               8.0  \n",
       "2              63.0               3.0  \n",
       "3             124.0              20.0  \n",
       "4             158.0               5.0  "
      ]
     },
     "execution_count": 5,
     "metadata": {},
     "output_type": "execute_result"
    }
   ],
   "source": [
    "merged_data = pd.concat([dataset1, dataset2_aligned], ignore_index=True)\n",
    "\n",
    "# Preview the merged dataset\n",
    "merged_data.head()"
   ]
  },
  {
   "cell_type": "markdown",
   "id": "37de86b8",
   "metadata": {},
   "source": [
    "### Removal of Non-Analytical Columns\n",
    "The merged dataset contains several columns; however, some of these, such as 'Transaction ID' and 'Customer ID', do not provide meaningful analytical value. As such, we will exclude these from the dataset.\n",
    "The 'Shipping Address' and 'Billing Address' columns, while not directly useful for analysis on their own, may hold important insights regarding the potential for fraudulent activity when compared. Specifically, the match between these two addresses could indicate suspicious behavior. Therefore, instead of keeping both columns, we will create a new binary column, \"Address Match,\" that will store 1 if the shipping and billing addresses match, and 0 if they do not."
   ]
  },
  {
   "cell_type": "code",
   "execution_count": 6,
   "id": "a809580a",
   "metadata": {},
   "outputs": [
    {
     "data": {
      "text/plain": [
       "('Transaction.Hour',\n",
       " 'source',\n",
       " 'browser',\n",
       " 'sex',\n",
       " 'Payment.Method',\n",
       " 'Product.Category',\n",
       " 'Quantity',\n",
       " 'Device.Used',\n",
       " 'Address.Match')"
      ]
     },
     "execution_count": 6,
     "metadata": {},
     "output_type": "execute_result"
    }
   ],
   "source": [
    "merged_data.drop(columns=['Transaction ID', 'Customer ID'], inplace=True)\n",
    "\n",
    "merged_data['Address Match'] = (merged_data['Shipping Address'] == merged_data['Billing Address']).astype(int)\n",
    "\n",
    "merged_data.drop(columns=['Shipping Address', 'Billing Address'], inplace=True)\n",
    "\n",
    "# Preview the merged dataset\n",
    "merged_data.head()\n",
    "\"Transaction.Hour\",\"source\",\"browser\",\"sex\",\"Payment.Method\",\"Product.Category\",\"Quantity\",\"Device.Used\",\"Address.Match\"\n"
   ]
  },
  {
   "cell_type": "markdown",
   "id": "6208bc88",
   "metadata": {},
   "source": [
    "### Missing Value Analysis\n",
    "We evaluate the presence of missing data in the merged dataset, which will guide the preprocessing steps that follow."
   ]
  },
  {
   "cell_type": "code",
   "execution_count": 7,
   "id": "cd4f57b3",
   "metadata": {},
   "outputs": [
    {
     "name": "stdout",
     "output_type": "stream",
     "text": [
      "Missing values per column:\n",
      " Transaction Amount         0\n",
      "Transaction Date           0\n",
      "Payment Method        151112\n",
      "Product Category      151112\n",
      "Quantity              151112\n",
      "Customer Age               0\n",
      "Customer Location     151112\n",
      "Device Used                0\n",
      "IP Address                 0\n",
      "Is Fraudulent              0\n",
      "Account Age Days      151112\n",
      "Transaction Hour      151112\n",
      "Address Match              0\n",
      "dtype: int64\n"
     ]
    }
   ],
   "source": [
    "print(\"Missing values per column:\\n\", merged_data.isnull().sum())\n"
   ]
  }
 ],
 "metadata": {
  "kernelspec": {
   "display_name": "Python 3",
   "language": "python",
   "name": "python3"
  },
  "language_info": {
   "codemirror_mode": {
    "name": "ipython",
    "version": 3
   },
   "file_extension": ".py",
   "mimetype": "text/x-python",
   "name": "python",
   "nbconvert_exporter": "python",
   "pygments_lexer": "ipython3",
   "version": "3.13.3"
  }
 },
 "nbformat": 4,
 "nbformat_minor": 5
}
