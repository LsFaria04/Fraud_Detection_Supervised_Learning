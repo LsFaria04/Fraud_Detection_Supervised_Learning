{
 "cells": [
  {
   "cell_type": "markdown",
   "id": "3ac23555",
   "metadata": {},
   "source": [
    "# Supervised Learning: Fraud Detection in E-Commerce\n",
    "\n",
    "## Problem Definition\n",
    "The objective of this study is to develop a binary classification model capable of detecting fraudulent e-commerce transactions. The target variable represents whether a transaction is fraudulent (`1`) or legitimate (`0`). The outcome of this model is intended to support the early identification of fraudulent activity, improving online transaction security.\n",
    "\n",
    "## Dataset Description\n",
    "This project utilizes two publicly available datasets:\n",
    "- `Dataset1.csv`: A detailed transactional dataset that includes demographic, behavioral, and transactional features.\n",
    "- `Dataset2.csv`: A more compact dataset focused on user and transaction metadata.\n",
    "\n",
    "Given their complementary nature, these datasets will be merged to construct a richer feature space for model training.\n",
    "However, the datasets present differences in their structure and attribute naming, which necessitates a standardization process before merging.\n",
    "\n",
    "## Setup and Data Loading\n",
    "We begin by importing the necessary libraries and loading the datasets."
   ]
  },
  {
   "cell_type": "code",
   "execution_count": 68,
   "id": "196401ae",
   "metadata": {},
   "outputs": [],
   "source": [
    "# Libraries\n",
    "import pandas as pd\n",
    "import numpy as np\n",
    "import matplotlib.pyplot as plt\n",
    "import seaborn as sb\n",
    "\n",
    "from sklearn.model_selection import train_test_split\n",
    "from sklearn.preprocessing import StandardScaler\n",
    "from sklearn.tree import DecisionTreeClassifier\n",
    "from sklearn.neighbors import KNeighborsClassifier\n",
    "from sklearn.svm import SVC\n",
    "from sklearn.metrics import accuracy_score, precision_score, recall_score, f1_score, confusion_matrix\n",
    "\n",
    "\n",
    "\n",
    "# Load datasets\n",
    "dataset1 = pd.read_csv('Datasets/Dataset1.csv')\n",
    "dataset2 = pd.read_csv('Datasets/Dataset2.csv')"
   ]
  },
  {
   "cell_type": "markdown",
   "id": "0a70db73",
   "metadata": {},
   "source": [
    "### Column Comparison\n",
    "We first inspect the structure of both datasets to identify differences in column names and schema."
   ]
  },
  {
   "cell_type": "code",
   "execution_count": 69,
   "id": "220a215c",
   "metadata": {},
   "outputs": [
    {
     "name": "stdout",
     "output_type": "stream",
     "text": [
      "Dataset 1 Columns:\n",
      " Index(['Transaction ID', 'Customer ID', 'Transaction Amount',\n",
      "       'Transaction Date', 'Payment Method', 'Product Category', 'Quantity',\n",
      "       'Customer Age', 'Customer Location', 'Device Used', 'IP Address',\n",
      "       'Shipping Address', 'Billing Address', 'Is Fraudulent',\n",
      "       'Account Age Days', 'Transaction Hour'],\n",
      "      dtype='object') \n",
      "\n",
      "Dataset 2 Columns:\n",
      " Index(['user_id', 'signup_time', 'purchase_time', 'purchase_value',\n",
      "       'device_id', 'source', 'browser', 'sex', 'age', 'ip_address', 'class'],\n",
      "      dtype='object')\n"
     ]
    }
   ],
   "source": [
    "print(\"Dataset 1 Columns:\\n\", dataset1.columns, \"\\n\")\n",
    "print(\"Dataset 2 Columns:\\n\", dataset2.columns)"
   ]
  },
  {
   "cell_type": "markdown",
   "id": "2e288d05",
   "metadata": {},
   "source": [
    "### Standardization\n",
    "Several columns in dataset2 refer to similar concepts as those in dataset1, although with different names. We rename those columns to ensure semantic alignment."
   ]
  },
  {
   "cell_type": "code",
   "execution_count": 70,
   "id": "a99043b9",
   "metadata": {},
   "outputs": [],
   "source": [
    "dataset2_renamed = dataset2.rename(columns={\n",
    "    'user_id': 'Customer ID',\n",
    "    'purchase_time': 'Transaction Date',\n",
    "    'purchase_value': 'Transaction Amount',\n",
    "    'ip_address': 'IP Address',\n",
    "    'age': 'Customer Age',\n",
    "    'class': 'Is Fraudulent'\n",
    "})"
   ]
  },
  {
   "cell_type": "markdown",
   "id": "ac677612",
   "metadata": {},
   "source": [
    "Additionally, we add missing columns with 'NaN' to maintain consistency across datasets."
   ]
  },
  {
   "cell_type": "code",
   "execution_count": 71,
   "id": "e084c823",
   "metadata": {},
   "outputs": [
    {
     "data": {
      "text/html": [
       "<div>\n",
       "<style scoped>\n",
       "    .dataframe tbody tr th:only-of-type {\n",
       "        vertical-align: middle;\n",
       "    }\n",
       "\n",
       "    .dataframe tbody tr th {\n",
       "        vertical-align: top;\n",
       "    }\n",
       "\n",
       "    .dataframe thead th {\n",
       "        text-align: right;\n",
       "    }\n",
       "</style>\n",
       "<table border=\"1\" class=\"dataframe\">\n",
       "  <thead>\n",
       "    <tr style=\"text-align: right;\">\n",
       "      <th></th>\n",
       "      <th>Transaction ID</th>\n",
       "      <th>Customer ID</th>\n",
       "      <th>Transaction Amount</th>\n",
       "      <th>Transaction Date</th>\n",
       "      <th>Payment Method</th>\n",
       "      <th>Product Category</th>\n",
       "      <th>Quantity</th>\n",
       "      <th>Customer Age</th>\n",
       "      <th>Customer Location</th>\n",
       "      <th>Device Used</th>\n",
       "      <th>IP Address</th>\n",
       "      <th>Shipping Address</th>\n",
       "      <th>Billing Address</th>\n",
       "      <th>Is Fraudulent</th>\n",
       "      <th>Account Age Days</th>\n",
       "      <th>Transaction Hour</th>\n",
       "    </tr>\n",
       "  </thead>\n",
       "  <tbody>\n",
       "    <tr>\n",
       "      <th>0</th>\n",
       "      <td>NaN</td>\n",
       "      <td>22058</td>\n",
       "      <td>34</td>\n",
       "      <td>2015-04-18 02:47:11</td>\n",
       "      <td>NaN</td>\n",
       "      <td>NaN</td>\n",
       "      <td>NaN</td>\n",
       "      <td>39</td>\n",
       "      <td>NaN</td>\n",
       "      <td>NaN</td>\n",
       "      <td>7.327584e+08</td>\n",
       "      <td>NaN</td>\n",
       "      <td>NaN</td>\n",
       "      <td>0</td>\n",
       "      <td>NaN</td>\n",
       "      <td>NaN</td>\n",
       "    </tr>\n",
       "    <tr>\n",
       "      <th>1</th>\n",
       "      <td>NaN</td>\n",
       "      <td>333320</td>\n",
       "      <td>16</td>\n",
       "      <td>2015-06-08 01:38:54</td>\n",
       "      <td>NaN</td>\n",
       "      <td>NaN</td>\n",
       "      <td>NaN</td>\n",
       "      <td>53</td>\n",
       "      <td>NaN</td>\n",
       "      <td>NaN</td>\n",
       "      <td>3.503114e+08</td>\n",
       "      <td>NaN</td>\n",
       "      <td>NaN</td>\n",
       "      <td>0</td>\n",
       "      <td>NaN</td>\n",
       "      <td>NaN</td>\n",
       "    </tr>\n",
       "    <tr>\n",
       "      <th>2</th>\n",
       "      <td>NaN</td>\n",
       "      <td>1359</td>\n",
       "      <td>15</td>\n",
       "      <td>2015-01-01 18:52:45</td>\n",
       "      <td>NaN</td>\n",
       "      <td>NaN</td>\n",
       "      <td>NaN</td>\n",
       "      <td>53</td>\n",
       "      <td>NaN</td>\n",
       "      <td>NaN</td>\n",
       "      <td>2.621474e+09</td>\n",
       "      <td>NaN</td>\n",
       "      <td>NaN</td>\n",
       "      <td>1</td>\n",
       "      <td>NaN</td>\n",
       "      <td>NaN</td>\n",
       "    </tr>\n",
       "    <tr>\n",
       "      <th>3</th>\n",
       "      <td>NaN</td>\n",
       "      <td>150084</td>\n",
       "      <td>44</td>\n",
       "      <td>2015-05-04 13:54:50</td>\n",
       "      <td>NaN</td>\n",
       "      <td>NaN</td>\n",
       "      <td>NaN</td>\n",
       "      <td>41</td>\n",
       "      <td>NaN</td>\n",
       "      <td>NaN</td>\n",
       "      <td>3.840542e+09</td>\n",
       "      <td>NaN</td>\n",
       "      <td>NaN</td>\n",
       "      <td>0</td>\n",
       "      <td>NaN</td>\n",
       "      <td>NaN</td>\n",
       "    </tr>\n",
       "    <tr>\n",
       "      <th>4</th>\n",
       "      <td>NaN</td>\n",
       "      <td>221365</td>\n",
       "      <td>39</td>\n",
       "      <td>2015-09-09 18:40:53</td>\n",
       "      <td>NaN</td>\n",
       "      <td>NaN</td>\n",
       "      <td>NaN</td>\n",
       "      <td>45</td>\n",
       "      <td>NaN</td>\n",
       "      <td>NaN</td>\n",
       "      <td>4.155831e+08</td>\n",
       "      <td>NaN</td>\n",
       "      <td>NaN</td>\n",
       "      <td>0</td>\n",
       "      <td>NaN</td>\n",
       "      <td>NaN</td>\n",
       "    </tr>\n",
       "    <tr>\n",
       "      <th>...</th>\n",
       "      <td>...</td>\n",
       "      <td>...</td>\n",
       "      <td>...</td>\n",
       "      <td>...</td>\n",
       "      <td>...</td>\n",
       "      <td>...</td>\n",
       "      <td>...</td>\n",
       "      <td>...</td>\n",
       "      <td>...</td>\n",
       "      <td>...</td>\n",
       "      <td>...</td>\n",
       "      <td>...</td>\n",
       "      <td>...</td>\n",
       "      <td>...</td>\n",
       "      <td>...</td>\n",
       "      <td>...</td>\n",
       "    </tr>\n",
       "    <tr>\n",
       "      <th>151107</th>\n",
       "      <td>NaN</td>\n",
       "      <td>345170</td>\n",
       "      <td>43</td>\n",
       "      <td>2015-03-29 00:30:47</td>\n",
       "      <td>NaN</td>\n",
       "      <td>NaN</td>\n",
       "      <td>NaN</td>\n",
       "      <td>28</td>\n",
       "      <td>NaN</td>\n",
       "      <td>NaN</td>\n",
       "      <td>3.451155e+09</td>\n",
       "      <td>NaN</td>\n",
       "      <td>NaN</td>\n",
       "      <td>1</td>\n",
       "      <td>NaN</td>\n",
       "      <td>NaN</td>\n",
       "    </tr>\n",
       "    <tr>\n",
       "      <th>151108</th>\n",
       "      <td>NaN</td>\n",
       "      <td>274471</td>\n",
       "      <td>35</td>\n",
       "      <td>2015-05-26 12:24:39</td>\n",
       "      <td>NaN</td>\n",
       "      <td>NaN</td>\n",
       "      <td>NaN</td>\n",
       "      <td>32</td>\n",
       "      <td>NaN</td>\n",
       "      <td>NaN</td>\n",
       "      <td>2.439047e+09</td>\n",
       "      <td>NaN</td>\n",
       "      <td>NaN</td>\n",
       "      <td>0</td>\n",
       "      <td>NaN</td>\n",
       "      <td>NaN</td>\n",
       "    </tr>\n",
       "    <tr>\n",
       "      <th>151109</th>\n",
       "      <td>NaN</td>\n",
       "      <td>368416</td>\n",
       "      <td>40</td>\n",
       "      <td>2015-05-20 07:07:47</td>\n",
       "      <td>NaN</td>\n",
       "      <td>NaN</td>\n",
       "      <td>NaN</td>\n",
       "      <td>26</td>\n",
       "      <td>NaN</td>\n",
       "      <td>NaN</td>\n",
       "      <td>2.748471e+09</td>\n",
       "      <td>NaN</td>\n",
       "      <td>NaN</td>\n",
       "      <td>0</td>\n",
       "      <td>NaN</td>\n",
       "      <td>NaN</td>\n",
       "    </tr>\n",
       "    <tr>\n",
       "      <th>151110</th>\n",
       "      <td>NaN</td>\n",
       "      <td>207709</td>\n",
       "      <td>46</td>\n",
       "      <td>2015-09-07 09:34:46</td>\n",
       "      <td>NaN</td>\n",
       "      <td>NaN</td>\n",
       "      <td>NaN</td>\n",
       "      <td>37</td>\n",
       "      <td>NaN</td>\n",
       "      <td>NaN</td>\n",
       "      <td>3.601175e+09</td>\n",
       "      <td>NaN</td>\n",
       "      <td>NaN</td>\n",
       "      <td>0</td>\n",
       "      <td>NaN</td>\n",
       "      <td>NaN</td>\n",
       "    </tr>\n",
       "    <tr>\n",
       "      <th>151111</th>\n",
       "      <td>NaN</td>\n",
       "      <td>138208</td>\n",
       "      <td>20</td>\n",
       "      <td>2015-07-21 02:03:53</td>\n",
       "      <td>NaN</td>\n",
       "      <td>NaN</td>\n",
       "      <td>NaN</td>\n",
       "      <td>38</td>\n",
       "      <td>NaN</td>\n",
       "      <td>NaN</td>\n",
       "      <td>4.103825e+09</td>\n",
       "      <td>NaN</td>\n",
       "      <td>NaN</td>\n",
       "      <td>0</td>\n",
       "      <td>NaN</td>\n",
       "      <td>NaN</td>\n",
       "    </tr>\n",
       "  </tbody>\n",
       "</table>\n",
       "<p>151112 rows × 16 columns</p>\n",
       "</div>"
      ],
      "text/plain": [
       "        Transaction ID  Customer ID  Transaction Amount     Transaction Date  \\\n",
       "0                  NaN        22058                  34  2015-04-18 02:47:11   \n",
       "1                  NaN       333320                  16  2015-06-08 01:38:54   \n",
       "2                  NaN         1359                  15  2015-01-01 18:52:45   \n",
       "3                  NaN       150084                  44  2015-05-04 13:54:50   \n",
       "4                  NaN       221365                  39  2015-09-09 18:40:53   \n",
       "...                ...          ...                 ...                  ...   \n",
       "151107             NaN       345170                  43  2015-03-29 00:30:47   \n",
       "151108             NaN       274471                  35  2015-05-26 12:24:39   \n",
       "151109             NaN       368416                  40  2015-05-20 07:07:47   \n",
       "151110             NaN       207709                  46  2015-09-07 09:34:46   \n",
       "151111             NaN       138208                  20  2015-07-21 02:03:53   \n",
       "\n",
       "        Payment Method  Product Category  Quantity  Customer Age  \\\n",
       "0                  NaN               NaN       NaN            39   \n",
       "1                  NaN               NaN       NaN            53   \n",
       "2                  NaN               NaN       NaN            53   \n",
       "3                  NaN               NaN       NaN            41   \n",
       "4                  NaN               NaN       NaN            45   \n",
       "...                ...               ...       ...           ...   \n",
       "151107             NaN               NaN       NaN            28   \n",
       "151108             NaN               NaN       NaN            32   \n",
       "151109             NaN               NaN       NaN            26   \n",
       "151110             NaN               NaN       NaN            37   \n",
       "151111             NaN               NaN       NaN            38   \n",
       "\n",
       "        Customer Location  Device Used    IP Address  Shipping Address  \\\n",
       "0                     NaN          NaN  7.327584e+08               NaN   \n",
       "1                     NaN          NaN  3.503114e+08               NaN   \n",
       "2                     NaN          NaN  2.621474e+09               NaN   \n",
       "3                     NaN          NaN  3.840542e+09               NaN   \n",
       "4                     NaN          NaN  4.155831e+08               NaN   \n",
       "...                   ...          ...           ...               ...   \n",
       "151107                NaN          NaN  3.451155e+09               NaN   \n",
       "151108                NaN          NaN  2.439047e+09               NaN   \n",
       "151109                NaN          NaN  2.748471e+09               NaN   \n",
       "151110                NaN          NaN  3.601175e+09               NaN   \n",
       "151111                NaN          NaN  4.103825e+09               NaN   \n",
       "\n",
       "        Billing Address  Is Fraudulent  Account Age Days  Transaction Hour  \n",
       "0                   NaN              0               NaN               NaN  \n",
       "1                   NaN              0               NaN               NaN  \n",
       "2                   NaN              1               NaN               NaN  \n",
       "3                   NaN              0               NaN               NaN  \n",
       "4                   NaN              0               NaN               NaN  \n",
       "...                 ...            ...               ...               ...  \n",
       "151107              NaN              1               NaN               NaN  \n",
       "151108              NaN              0               NaN               NaN  \n",
       "151109              NaN              0               NaN               NaN  \n",
       "151110              NaN              0               NaN               NaN  \n",
       "151111              NaN              0               NaN               NaN  \n",
       "\n",
       "[151112 rows x 16 columns]"
      ]
     },
     "execution_count": 71,
     "metadata": {},
     "output_type": "execute_result"
    }
   ],
   "source": [
    "missing_columns = set(dataset1.columns) - set(dataset2_renamed.columns)\n",
    "for col in missing_columns:\n",
    "    dataset2_renamed[col] = np.nan\n",
    "\n",
    "# Align column order to match dataset1\n",
    "dataset2_aligned = dataset2_renamed[dataset1.columns]\n",
    "\n",
    "dataset2_aligned[dataset2_aligned.isna().any(axis=1)] #display the rows with na values"
   ]
  },
  {
   "cell_type": "markdown",
   "id": "2914c8e7",
   "metadata": {},
   "source": [
    "### Merging the Datasets\n",
    "With both datasets now aligned in schema, we concatenate them into a single unified dataset."
   ]
  },
  {
   "cell_type": "code",
   "execution_count": 72,
   "id": "c5400a88",
   "metadata": {},
   "outputs": [
    {
     "data": {
      "text/html": [
       "<div>\n",
       "<style scoped>\n",
       "    .dataframe tbody tr th:only-of-type {\n",
       "        vertical-align: middle;\n",
       "    }\n",
       "\n",
       "    .dataframe tbody tr th {\n",
       "        vertical-align: top;\n",
       "    }\n",
       "\n",
       "    .dataframe thead th {\n",
       "        text-align: right;\n",
       "    }\n",
       "</style>\n",
       "<table border=\"1\" class=\"dataframe\">\n",
       "  <thead>\n",
       "    <tr style=\"text-align: right;\">\n",
       "      <th></th>\n",
       "      <th>Transaction ID</th>\n",
       "      <th>Customer ID</th>\n",
       "      <th>Transaction Amount</th>\n",
       "      <th>Transaction Date</th>\n",
       "      <th>Payment Method</th>\n",
       "      <th>Product Category</th>\n",
       "      <th>Quantity</th>\n",
       "      <th>Customer Age</th>\n",
       "      <th>Customer Location</th>\n",
       "      <th>Device Used</th>\n",
       "      <th>IP Address</th>\n",
       "      <th>Shipping Address</th>\n",
       "      <th>Billing Address</th>\n",
       "      <th>Is Fraudulent</th>\n",
       "      <th>Account Age Days</th>\n",
       "      <th>Transaction Hour</th>\n",
       "    </tr>\n",
       "  </thead>\n",
       "  <tbody>\n",
       "    <tr>\n",
       "      <th>0</th>\n",
       "      <td>15d2e414-8735-46fc-9e02-80b472b2580f</td>\n",
       "      <td>d1b87f62-51b2-493b-ad6a-77e0fe13e785</td>\n",
       "      <td>58.09</td>\n",
       "      <td>2024-02-20 05:58:41</td>\n",
       "      <td>bank transfer</td>\n",
       "      <td>electronics</td>\n",
       "      <td>1.0</td>\n",
       "      <td>17</td>\n",
       "      <td>Amandaborough</td>\n",
       "      <td>tablet</td>\n",
       "      <td>212.195.49.198</td>\n",
       "      <td>Unit 8934 Box 0058\\nDPO AA 05437</td>\n",
       "      <td>Unit 8934 Box 0058\\nDPO AA 05437</td>\n",
       "      <td>0</td>\n",
       "      <td>30.0</td>\n",
       "      <td>5.0</td>\n",
       "    </tr>\n",
       "    <tr>\n",
       "      <th>1</th>\n",
       "      <td>0bfee1a0-6d5e-40da-a446-d04e73b1b177</td>\n",
       "      <td>37de64d5-e901-4a56-9ea0-af0c24c069cf</td>\n",
       "      <td>389.96</td>\n",
       "      <td>2024-02-25 08:09:45</td>\n",
       "      <td>debit card</td>\n",
       "      <td>electronics</td>\n",
       "      <td>2.0</td>\n",
       "      <td>40</td>\n",
       "      <td>East Timothy</td>\n",
       "      <td>desktop</td>\n",
       "      <td>208.106.249.121</td>\n",
       "      <td>634 May Keys\\nPort Cherylview, NV 75063</td>\n",
       "      <td>634 May Keys\\nPort Cherylview, NV 75063</td>\n",
       "      <td>0</td>\n",
       "      <td>72.0</td>\n",
       "      <td>8.0</td>\n",
       "    </tr>\n",
       "    <tr>\n",
       "      <th>2</th>\n",
       "      <td>e588eef4-b754-468e-9d90-d0e0abfc1af0</td>\n",
       "      <td>1bac88d6-4b22-409a-a06b-425119c57225</td>\n",
       "      <td>134.19</td>\n",
       "      <td>2024-03-18 03:42:55</td>\n",
       "      <td>PayPal</td>\n",
       "      <td>home &amp; garden</td>\n",
       "      <td>2.0</td>\n",
       "      <td>22</td>\n",
       "      <td>Davismouth</td>\n",
       "      <td>tablet</td>\n",
       "      <td>76.63.88.212</td>\n",
       "      <td>16282 Dana Falls Suite 790\\nRothhaven, IL 15564</td>\n",
       "      <td>16282 Dana Falls Suite 790\\nRothhaven, IL 15564</td>\n",
       "      <td>0</td>\n",
       "      <td>63.0</td>\n",
       "      <td>3.0</td>\n",
       "    </tr>\n",
       "    <tr>\n",
       "      <th>3</th>\n",
       "      <td>4de46e52-60c3-49d9-be39-636681009789</td>\n",
       "      <td>2357c76e-9253-4ceb-b44e-ef4b71cb7d4d</td>\n",
       "      <td>226.17</td>\n",
       "      <td>2024-03-16 20:41:31</td>\n",
       "      <td>bank transfer</td>\n",
       "      <td>clothing</td>\n",
       "      <td>5.0</td>\n",
       "      <td>31</td>\n",
       "      <td>Lynnberg</td>\n",
       "      <td>desktop</td>\n",
       "      <td>207.208.171.73</td>\n",
       "      <td>828 Strong Loaf Apt. 646\\nNew Joshua, UT 84798</td>\n",
       "      <td>828 Strong Loaf Apt. 646\\nNew Joshua, UT 84798</td>\n",
       "      <td>0</td>\n",
       "      <td>124.0</td>\n",
       "      <td>20.0</td>\n",
       "    </tr>\n",
       "    <tr>\n",
       "      <th>4</th>\n",
       "      <td>074a76de-fe2d-443e-a00c-f044cdb68e21</td>\n",
       "      <td>45071bc5-9588-43ea-8093-023caec8ea1c</td>\n",
       "      <td>121.53</td>\n",
       "      <td>2024-01-15 05:08:17</td>\n",
       "      <td>bank transfer</td>\n",
       "      <td>clothing</td>\n",
       "      <td>2.0</td>\n",
       "      <td>51</td>\n",
       "      <td>South Nicole</td>\n",
       "      <td>tablet</td>\n",
       "      <td>190.172.14.169</td>\n",
       "      <td>29799 Jason Hills Apt. 439\\nWest Richardtown, ...</td>\n",
       "      <td>29799 Jason Hills Apt. 439\\nWest Richardtown, ...</td>\n",
       "      <td>0</td>\n",
       "      <td>158.0</td>\n",
       "      <td>5.0</td>\n",
       "    </tr>\n",
       "  </tbody>\n",
       "</table>\n",
       "</div>"
      ],
      "text/plain": [
       "                         Transaction ID                           Customer ID  \\\n",
       "0  15d2e414-8735-46fc-9e02-80b472b2580f  d1b87f62-51b2-493b-ad6a-77e0fe13e785   \n",
       "1  0bfee1a0-6d5e-40da-a446-d04e73b1b177  37de64d5-e901-4a56-9ea0-af0c24c069cf   \n",
       "2  e588eef4-b754-468e-9d90-d0e0abfc1af0  1bac88d6-4b22-409a-a06b-425119c57225   \n",
       "3  4de46e52-60c3-49d9-be39-636681009789  2357c76e-9253-4ceb-b44e-ef4b71cb7d4d   \n",
       "4  074a76de-fe2d-443e-a00c-f044cdb68e21  45071bc5-9588-43ea-8093-023caec8ea1c   \n",
       "\n",
       "   Transaction Amount     Transaction Date Payment Method Product Category  \\\n",
       "0               58.09  2024-02-20 05:58:41  bank transfer      electronics   \n",
       "1              389.96  2024-02-25 08:09:45     debit card      electronics   \n",
       "2              134.19  2024-03-18 03:42:55         PayPal    home & garden   \n",
       "3              226.17  2024-03-16 20:41:31  bank transfer         clothing   \n",
       "4              121.53  2024-01-15 05:08:17  bank transfer         clothing   \n",
       "\n",
       "   Quantity  Customer Age Customer Location Device Used       IP Address  \\\n",
       "0       1.0            17     Amandaborough      tablet   212.195.49.198   \n",
       "1       2.0            40      East Timothy     desktop  208.106.249.121   \n",
       "2       2.0            22        Davismouth      tablet     76.63.88.212   \n",
       "3       5.0            31          Lynnberg     desktop   207.208.171.73   \n",
       "4       2.0            51      South Nicole      tablet   190.172.14.169   \n",
       "\n",
       "                                    Shipping Address  \\\n",
       "0                   Unit 8934 Box 0058\\nDPO AA 05437   \n",
       "1            634 May Keys\\nPort Cherylview, NV 75063   \n",
       "2    16282 Dana Falls Suite 790\\nRothhaven, IL 15564   \n",
       "3     828 Strong Loaf Apt. 646\\nNew Joshua, UT 84798   \n",
       "4  29799 Jason Hills Apt. 439\\nWest Richardtown, ...   \n",
       "\n",
       "                                     Billing Address  Is Fraudulent  \\\n",
       "0                   Unit 8934 Box 0058\\nDPO AA 05437              0   \n",
       "1            634 May Keys\\nPort Cherylview, NV 75063              0   \n",
       "2    16282 Dana Falls Suite 790\\nRothhaven, IL 15564              0   \n",
       "3     828 Strong Loaf Apt. 646\\nNew Joshua, UT 84798              0   \n",
       "4  29799 Jason Hills Apt. 439\\nWest Richardtown, ...              0   \n",
       "\n",
       "   Account Age Days  Transaction Hour  \n",
       "0              30.0               5.0  \n",
       "1              72.0               8.0  \n",
       "2              63.0               3.0  \n",
       "3             124.0              20.0  \n",
       "4             158.0               5.0  "
      ]
     },
     "execution_count": 72,
     "metadata": {},
     "output_type": "execute_result"
    }
   ],
   "source": [
    "merged_data = pd.concat([dataset1, dataset2_aligned], ignore_index=True)\n",
    "\n",
    "# Preview the merged dataset\n",
    "merged_data.head()"
   ]
  },
  {
   "cell_type": "markdown",
   "id": "37de86b8",
   "metadata": {},
   "source": [
    "### Removal of Non-Analytical Columns\n",
    "The merged dataset contains several columns; however, some of these, such as 'Transaction ID' and 'Customer ID', do not provide meaningful analytical value. As such, we will exclude these from the dataset.\n",
    "The 'Shipping Address' and 'Billing Address' columns, while not directly useful for analysis on their own, may hold important insights regarding the potential for fraudulent activity when compared. Specifically, the match between these two addresses could indicate suspicious behavior. Therefore, instead of keeping both columns, we will create a new binary column, \"Address Match,\" that will store 1 if the shipping and billing addresses match, and 0 if they do not."
   ]
  },
  {
   "cell_type": "code",
   "execution_count": 73,
   "id": "a809580a",
   "metadata": {},
   "outputs": [
    {
     "data": {
      "text/plain": [
       "('Transaction.Hour',\n",
       " 'source',\n",
       " 'browser',\n",
       " 'sex',\n",
       " 'Payment.Method',\n",
       " 'Product.Category',\n",
       " 'Quantity',\n",
       " 'Device.Used',\n",
       " 'Address.Match')"
      ]
     },
     "execution_count": 73,
     "metadata": {},
     "output_type": "execute_result"
    }
   ],
   "source": [
    "merged_data.drop(columns=['Transaction ID', 'Customer ID', 'IP Address'], inplace=True)\n",
    "\n",
    "merged_data['Address Match'] = (merged_data['Shipping Address'] == merged_data['Billing Address']).astype(int)\n",
    "\n",
    "merged_data.drop(columns=['Shipping Address', 'Billing Address'], inplace=True)\n",
    "\n",
    "# Preview the merged dataset\n",
    "merged_data.head()\n",
    "\"Transaction.Hour\",\"source\",\"browser\",\"sex\",\"Payment.Method\",\"Product.Category\",\"Quantity\",\"Device.Used\",\"Address.Match\"\n"
   ]
  },
  {
   "cell_type": "markdown",
   "id": "6208bc88",
   "metadata": {},
   "source": [
    "### Missing Value Analysis and Processing\n",
    "We evaluate the presence of missing data in the merged dataset, which will guide the preprocessing steps that follow."
   ]
  },
  {
   "cell_type": "code",
   "execution_count": 74,
   "id": "cd4f57b3",
   "metadata": {},
   "outputs": [
    {
     "name": "stdout",
     "output_type": "stream",
     "text": [
      "Missing values per column:\n",
      " Transaction Amount         0\n",
      "Transaction Date           0\n",
      "Payment Method        151112\n",
      "Product Category      151112\n",
      "Quantity              151112\n",
      "Customer Age               0\n",
      "Customer Location     151112\n",
      "Device Used           151112\n",
      "Is Fraudulent              0\n",
      "Account Age Days      151112\n",
      "Transaction Hour      151112\n",
      "Address Match              0\n",
      "dtype: int64\n"
     ]
    }
   ],
   "source": [
    "print(\"Missing values per column:\\n\", merged_data.isnull().sum())"
   ]
  },
  {
   "cell_type": "markdown",
   "id": "9767896b",
   "metadata": {},
   "source": [
    "To address missing values effectively, we will employ probability-based imputation. This approach leverages the distribution of known values within the dataset to generate plausible replacements for missing entries. By doing so, we maintain the integrity of the data while minimizing potential biases introduced by arbitrary filling methods."
   ]
  },
  {
   "cell_type": "code",
   "execution_count": 75,
   "id": "b9c01ed0",
   "metadata": {},
   "outputs": [
    {
     "name": "stdout",
     "output_type": "stream",
     "text": [
      "Device Used\n",
      "mobile     0.333849\n",
      "tablet     0.333302\n",
      "desktop    0.332849\n",
      "Name: proportion, dtype: float64\n"
     ]
    }
   ],
   "source": [
    "def calculate_probabilities(col):\n",
    "    '''Calculates the probability of the value appearing in the data frame'''\n",
    "    data = merged_data[col][merged_data[col].notna()]\n",
    "    probabilities = data.value_counts(normalize = True)\n",
    "    return probabilities\n",
    "print(calculate_probabilities(\"Device Used\")) #just to show how the function works\n"
   ]
  },
  {
   "cell_type": "code",
   "execution_count": 76,
   "id": "4119a298",
   "metadata": {},
   "outputs": [],
   "source": [
    "#Perform the insertion of value in NA cells\n",
    "for column in merged_data.columns:\n",
    "    probabilities = calculate_probabilities(column)\n",
    "    \n",
    "    # Identify missing values\n",
    "    na_mask = merged_data[column].isna()\n",
    "\n",
    "    # Efficiently replace missing values using NumPy's choice function\n",
    "    merged_data.loc[na_mask, column] = np.random.choice(list(probabilities.index), size=len(merged_data.loc[na_mask, column]), p=probabilities.values)"
   ]
  },
  {
   "cell_type": "markdown",
   "id": "9acf82f4",
   "metadata": {},
   "source": [
    "Now, there should not be any NA value in the dataframe."
   ]
  },
  {
   "cell_type": "code",
   "execution_count": 77,
   "id": "56970c06",
   "metadata": {},
   "outputs": [
    {
     "name": "stdout",
     "output_type": "stream",
     "text": [
      "Number of NA values in column \"Device Used \" : 0\n"
     ]
    }
   ],
   "source": [
    "print(f'Number of NA values in column \\\"Device Used \\\" : {merged_data.loc[merged_data[\"Device Used\"].isna(), \"Device Used\"].count()}')"
   ]
  },
  {
   "cell_type": "markdown",
   "id": "22990989",
   "metadata": {},
   "source": [
    "## Row Selection\n",
    "\n",
    "The merged dataset has more than 1.5 milion rows. This huge number of rows makes the algorithms and other computaions very hard to perform. To make the dataset easier to process, we are going to select, randomly, 20% of the rows to procede the analysis."
   ]
  },
  {
   "cell_type": "code",
   "execution_count": 78,
   "id": "d2d68932",
   "metadata": {},
   "outputs": [],
   "source": [
    "import os\n",
    "\n",
    "# only creates and stores a sample if it doesn't exists yet\n",
    "if not os.path.exists(\"Datasets/sample_dataset.csv\"):\n",
    "    data_sample = merged_data.sample(frac=0.2)\n",
    "    data_sample.to_csv(\"Datasets/sample_dataset.csv\", index=False)\n",
    "\n",
    "merged_data = pd.read_csv(\"Datasets/sample_dataset.csv\")"
   ]
  },
  {
   "cell_type": "markdown",
   "id": "a62fb938",
   "metadata": {},
   "source": [
    "## Outliers and Strange Values\n",
    "\n",
    "In this section, we will identify outliers and other anomalies that may introduce biases or distort the integrity of the dataset. By detecting and addressing these irregular values, we aim to enhance data reliability and improve analytical accuracy.\n",
    "\n",
    "Firstly, we need to plot the data to better visualize it."
   ]
  },
  {
   "cell_type": "code",
   "execution_count": 79,
   "id": "ec749dbb",
   "metadata": {},
   "outputs": [
    {
     "data": {
      "image/png": "[encoded data removed]",
      "text/plain": [
       "<Figure size 640x480 with 1 Axes>"
      ]
     },
     "metadata": {},
     "output_type": "display_data"
    }
   ],
   "source": [
    "#Transaction amount comparison between fraudulent and legitimate transactions\n",
    "sb.boxplot(x=\"Is Fraudulent\", y=\"Transaction Amount\", data=merged_data)\n",
    "plt.show()"
   ]
  },
  {
   "cell_type": "markdown",
   "id": "58034e8b",
   "metadata": {},
   "source": [
    "The plot reveals that fraudulent transactions exhibit a wider range of transaction amounts, but they tend to be larger than non-fraudulent transactions overall. Additionally, some values significantly exceed expected ranges, particularly within fraudulent transactions. \n",
    "To enhance precision and maintain data consistency, we need to remove rows where fraudulent transactions exceed 7,000 and non-fraudulent transactions surpass 2,500"
   ]
  },
  {
   "cell_type": "code",
   "execution_count": 80,
   "id": "45f9a183",
   "metadata": {},
   "outputs": [
    {
     "data": {
      "image/png": "[encoded data removed]",
      "text/plain": [
       "<Figure size 640x480 with 1 Axes>"
      ]
     },
     "metadata": {},
     "output_type": "display_data"
    }
   ],
   "source": [
    "merged_data = merged_data[((merged_data[\"Transaction Amount\"] < 7000) & (merged_data[\"Is Fraudulent\"] == 1)) | ((merged_data[\"Transaction Amount\"] < 2500) & (merged_data[\"Is Fraudulent\"] == 0))]\n",
    "\n",
    "sb.boxplot(x=\"Is Fraudulent\", y=\"Transaction Amount\", data=merged_data)\n",
    "plt.show()"
   ]
  },
  {
   "cell_type": "markdown",
   "id": "4cbe2c66",
   "metadata": {},
   "source": [
    "The data is now more consistent. However, some values in the fraudulent transactions still appear abnormal. To enhance precision, we can filter out rows where fraudulent transaction amounts exceed 5,500. This step will help eliminate significant outliers. Additionally, as a precautionary measure, we should remove any rows with transaction amounts below zero."
   ]
  },
  {
   "cell_type": "code",
   "execution_count": 81,
   "id": "76c19dd4",
   "metadata": {},
   "outputs": [
    {
     "data": {
      "image/png": "[encoded data removed]",
      "text/plain": [
       "<Figure size 640x480 with 1 Axes>"
      ]
     },
     "metadata": {},
     "output_type": "display_data"
    }
   ],
   "source": [
    "merged_data = merged_data[((merged_data[\"Transaction Amount\"] < 5500) & (merged_data[\"Is Fraudulent\"] == 1)) | ((merged_data[\"Transaction Amount\"] < 2500) & (merged_data[\"Is Fraudulent\"] == 0)) & (merged_data[\"Transaction Amount\"] >= 0)]\n",
    "sb.boxplot(x=\"Is Fraudulent\", y=\"Transaction Amount\", data=merged_data)\n",
    "plt.show()"
   ]
  },
  {
   "cell_type": "markdown",
   "id": "5ced2127",
   "metadata": {},
   "source": [
    "The next step is to analyse the dates an see if there is any strange pattern or outliers in the date values."
   ]
  },
  {
   "cell_type": "code",
   "execution_count": 82,
   "id": "478dc08d",
   "metadata": {},
   "outputs": [
    {
     "data": {
      "image/png": "[encoded data removed]",
      "text/plain": [
       "<Figure size 640x480 with 1 Axes>"
      ]
     },
     "metadata": {},
     "output_type": "display_data"
    },
    {
     "data": {
      "image/png": "[encoded data removed]",
      "text/plain": [
       "<Figure size 640x480 with 1 Axes>"
      ]
     },
     "metadata": {},
     "output_type": "display_data"
    },
    {
     "data": {
      "image/png": "[encoded data removed]",
      "text/plain": [
       "<Figure size 640x480 with 1 Axes>"
      ]
     },
     "metadata": {},
     "output_type": "display_data"
    },
    {
     "data": {
      "image/png": "[encoded data removed]",
      "text/plain": [
       "<Figure size 640x480 with 1 Axes>"
      ]
     },
     "metadata": {},
     "output_type": "display_data"
    }
   ],
   "source": [
    "# Transaction Date comparison between fraudulent and legitimate transactions\n",
    "merged_data[\"Transaction Date\"] = pd.to_datetime(merged_data[\"Transaction Date\"])\n",
    "merged_data[\"Transaction Month\"] = merged_data[\"Transaction Date\"].dt.month\n",
    "merged_data[\"Transaction Day\"] = merged_data[\"Transaction Date\"].dt.day\n",
    "merged_data[\"Transaction Year\"] = merged_data[\"Transaction Date\"].dt.year\n",
    "\n",
    "monthly_fraud = merged_data.groupby([\"Transaction Month\", \"Is Fraudulent\"]).size().reset_index(name=\"Count\")\n",
    "sb.lineplot(x=\"Transaction Month\", y=\"Count\", hue=\"Is Fraudulent\", data=monthly_fraud)\n",
    "plt.xticks(rotation=45)\n",
    "plt.title(\"Fraudulent Transactions Per Month\")\n",
    "plt.show()\n",
    "\n",
    "daily_fraud = merged_data.groupby([\"Transaction Day\", \"Is Fraudulent\"]).size().reset_index(name=\"Count\")\n",
    "sb.lineplot(x=\"Transaction Day\", y=\"Count\", hue=\"Is Fraudulent\", data=daily_fraud)\n",
    "plt.xticks(rotation=45)\n",
    "plt.title(\"Fraudulent Transactions Per Day\")\n",
    "plt.show()\n",
    "\n",
    "hour_fraud = merged_data.groupby([\"Transaction Hour\", \"Is Fraudulent\"]).size().reset_index(name=\"Count\")\n",
    "sb.lineplot(x=\"Transaction Hour\", y=\"Count\", hue=\"Is Fraudulent\", data=hour_fraud)\n",
    "plt.xticks(rotation=45)\n",
    "plt.title(\"Fraudulent Transactions Per Hour\")\n",
    "plt.show()\n",
    "\n",
    "year_fraud = merged_data.groupby([\"Transaction Year\", \"Is Fraudulent\"]).size().reset_index(name=\"Count\")\n",
    "sb.lineplot(x=\"Transaction Year\", y=\"Count\", hue=\"Is Fraudulent\", data=year_fraud)\n",
    "plt.xticks(rotation=45)\n",
    "plt.title(\"Fraudulent Transactions Per Year\")\n",
    "plt.show()\n"
   ]
  },
  {
   "cell_type": "markdown",
   "id": "c55860b7",
   "metadata": {},
   "source": [
    "The plots do not indicate any abnormalities in the data, such as outliers or unexpected values. The dataset contains only two years—2024 and 2015—due to the merging process at the beginning, where one dataset exclusively featured 2024 dates and the other contained records from 2015. Additionally, **fraudulent transactions** are more frequent between **midnight and 5 AM**, whereas non-fraudulent transactions remain relatively stable throughout this period. A slight increase in fraud is also noticeable in the early months of the year. However, since non-fraudulent transactions also rise during this period, this likely reflects a higher number of recorded transactions from the beginning of the year rather than an isolated fraud pattern.\n",
    "\n",
    "\n",
    "Now, we will analyse the payment methods. "
   ]
  },
  {
   "cell_type": "code",
   "execution_count": 83,
   "id": "4eb2f7e1",
   "metadata": {},
   "outputs": [
    {
     "data": {
      "image/png": "[encoded data removed]",
      "text/plain": [
       "<Figure size 640x480 with 1 Axes>"
      ]
     },
     "metadata": {},
     "output_type": "display_data"
    }
   ],
   "source": [
    "# Count fraudulent transactions\n",
    "fraud_counts = merged_data[merged_data[\"Is Fraudulent\"] == 1].groupby(\"Payment Method\").size().reset_index(name=\"Fraud Count\")\n",
    "\n",
    "sb.barplot(x=\"Payment Method\", y=\"Fraud Count\", data=fraud_counts)\n",
    "plt.xticks(rotation=45)\n",
    "plt.title(\"Fraudulent Transactions Per Payment Method\")\n",
    "plt.show()"
   ]
  },
  {
   "cell_type": "markdown",
   "id": "8a2bc204",
   "metadata": {},
   "source": [
    "The plot indicates that the number of fraudulent transactions across payment methods is nearly identical. To enhance visualization and gain deeper insights into how payment methods influence fraud, we should compare the ratio of fraudulent transactions per method to total transactions per method."
   ]
  },
  {
   "cell_type": "code",
   "execution_count": 84,
   "id": "9559b970",
   "metadata": {},
   "outputs": [
    {
     "name": "stdout",
     "output_type": "stream",
     "text": [
      "  Payment Method  Fraud Transactions  Total Transactions\n",
      "0         PayPal                4442               80898\n",
      "1  bank transfer                4485               81324\n",
      "2    credit card                4380               81151\n",
      "3     debit card                4446               81423\n"
     ]
    },
    {
     "data": {
      "image/png": "[encoded data removed]",
      "text/plain": [
       "<Figure size 640x480 with 1 Axes>"
      ]
     },
     "metadata": {},
     "output_type": "display_data"
    }
   ],
   "source": [
    "# Count total transactions per payment method\n",
    "total_transactions = merged_data.groupby(\"Payment Method\").size().reset_index(name=\"Total Transactions\")\n",
    "\n",
    "# Count fraudulent transactions per payment method\n",
    "fraud_transactions = merged_data[merged_data[\"Is Fraudulent\"] == 1].groupby(\"Payment Method\").size().reset_index(name=\"Fraud Transactions\")\n",
    "\n",
    "# Merge both counts\n",
    "fraud_ratio = fraud_transactions.merge(total_transactions, on=\"Payment Method\", how=\"left\")\n",
    "\n",
    "print(fraud_ratio)\n",
    "\n",
    "# Calculate fraud ratio\n",
    "fraud_ratio[\"Fraud Ratio\"] = fraud_ratio[\"Fraud Transactions\"] / fraud_ratio[\"Total Transactions\"]\n",
    "\n",
    "sb.barplot(x=\"Payment Method\", y=\"Fraud Ratio\", data=fraud_ratio)\n",
    "plt.xticks(rotation=45)\n",
    "plt.title(\"Fraudulent Transactions Per Payment Method\")\n",
    "plt.show()"
   ]
  },
  {
   "cell_type": "markdown",
   "id": "7c11b10a",
   "metadata": {},
   "source": [
    "After analyzing the ratio, we can see that it remains fairly consistent across different payment methods. As a result, it does not provide meaningful insights for identifying fraudulent transactions.\n",
    "\n",
    "Now we are going to analyse the product category."
   ]
  },
  {
   "cell_type": "code",
   "execution_count": 85,
   "id": "e3f16020",
   "metadata": {},
   "outputs": [
    {
     "data": {
      "image/png": "[encoded data removed]",
      "text/plain": [
       "<Figure size 640x480 with 1 Axes>"
      ]
     },
     "metadata": {},
     "output_type": "display_data"
    }
   ],
   "source": [
    "# Count fraudulent transactions per product category\n",
    "fraud_transactions = merged_data[merged_data[\"Is Fraudulent\"] == 1].groupby(\"Product Category\").size().reset_index(name=\"Fraud Transactions\")\n",
    "\n",
    "sb.barplot(x=\"Product Category\", y=\"Fraud Transactions\", data=fraud_transactions)\n",
    "plt.xticks(rotation=45)\n",
    "plt.title(\"Fraudulent Transactions Per Product Category Method\")\n",
    "plt.show()"
   ]
  },
  {
   "cell_type": "markdown",
   "id": "51f655ad",
   "metadata": {},
   "source": [
    "The plot indicates no clear relationship between product category and fraudulent transactions. To gain deeper insights, we should analyze the ratio of fraudulent transactions per product category relative to the total number of transactions in each category."
   ]
  },
  {
   "cell_type": "code",
   "execution_count": 86,
   "id": "98324c73",
   "metadata": {},
   "outputs": [
    {
     "name": "stdout",
     "output_type": "stream",
     "text": [
      "  Product Category  Fraud Transactions  Total Transactions\n",
      "0         clothing                3569               64813\n",
      "1      electronics                3454               65328\n",
      "2  health & beauty                3584               65016\n",
      "3    home & garden                3488               64864\n",
      "4     toys & games                3658               64775\n"
     ]
    },
    {
     "data": {
      "image/png": "[encoded data removed]",
      "text/plain": [
       "<Figure size 640x480 with 1 Axes>"
      ]
     },
     "metadata": {},
     "output_type": "display_data"
    }
   ],
   "source": [
    "# Count total transactions per Product Category\n",
    "total_transactions = merged_data.groupby(\"Product Category\").size().reset_index(name=\"Total Transactions\")\n",
    "\n",
    "# Count fraudulent transactions per Product Category\n",
    "fraud_transactions = merged_data[merged_data[\"Is Fraudulent\"] == 1].groupby(\"Product Category\").size().reset_index(name=\"Fraud Transactions\")\n",
    "\n",
    "# Merge both counts\n",
    "fraud_ratio = fraud_transactions.merge(total_transactions, on=\"Product Category\", how=\"left\")\n",
    "\n",
    "print(fraud_ratio)\n",
    "\n",
    "# Calculate fraud ratio\n",
    "fraud_ratio[\"Fraud Ratio\"] = fraud_ratio[\"Fraud Transactions\"] / fraud_ratio[\"Total Transactions\"]\n",
    "\n",
    "sb.barplot(x=\"Product Category\", y=\"Fraud Ratio\", data=fraud_ratio)\n",
    "plt.xticks(rotation=45)\n",
    "plt.title(\"Fraudulent Transactions Per Product Category\")\n",
    "plt.show()"
   ]
  },
  {
   "cell_type": "markdown",
   "id": "b1415c6b",
   "metadata": {},
   "source": [
    "The ratio indicates that product category is not a strong predictor of fraudulent transactions. While the **\"Toys and Games\"** category shows a slightly higher fraud ratio, the difference is minimal and not statistically significant.\n",
    "\n",
    "The next column to analyse is the Quantity"
   ]
  },
  {
   "cell_type": "code",
   "execution_count": 87,
   "id": "62f3c617",
   "metadata": {},
   "outputs": [
    {
     "name": "stdout",
     "output_type": "stream",
     "text": [
      "count    324796.000000\n",
      "mean          2.999292\n",
      "std           1.416152\n",
      "min           1.000000\n",
      "25%           2.000000\n",
      "50%           3.000000\n",
      "75%           4.000000\n",
      "max           5.000000\n",
      "Name: Quantity, dtype: float64\n"
     ]
    },
    {
     "data": {
      "image/png": "[encoded data removed]",
      "text/plain": [
       "<Figure size 640x480 with 1 Axes>"
      ]
     },
     "metadata": {},
     "output_type": "display_data"
    }
   ],
   "source": [
    "#Quantity comparison between fraudulent and legitimate transactions\n",
    "print(merged_data[\"Quantity\"].describe())\n",
    "sb.boxplot(x=\"Is Fraudulent\", y=\"Quantity\", data=merged_data)\n",
    "plt.show()"
   ]
  },
  {
   "cell_type": "markdown",
   "id": "23104aa3",
   "metadata": {},
   "source": [
    "The quantity of items in transactions is similar for both fraudulent and non-fraudulent cases, with no detectable outliers in either category. In general, this column does not appear to be a strong indicator for identifying fraudulent transactions. \n",
    "\n",
    "Now we are going to analyse the customer age."
   ]
  },
  {
   "cell_type": "code",
   "execution_count": 88,
   "id": "c619eb8f",
   "metadata": {},
   "outputs": [
    {
     "name": "stdout",
     "output_type": "stream",
     "text": [
      "count    324796.000000\n",
      "mean         34.384962\n",
      "std           9.907287\n",
      "min         -13.000000\n",
      "25%          28.000000\n",
      "50%          34.000000\n",
      "75%          41.000000\n",
      "max          80.000000\n",
      "Name: Customer Age, dtype: float64\n"
     ]
    },
    {
     "data": {
      "image/png": "[encoded data removed]",
      "text/plain": [
       "<Figure size 640x480 with 1 Axes>"
      ]
     },
     "metadata": {},
     "output_type": "display_data"
    }
   ],
   "source": [
    "#Customer age comparison between fraudulent and legitimate transactions\n",
    "print(merged_data[\"Customer Age\"].describe())\n",
    "sb.boxplot(x=\"Is Fraudulent\", y=\"Customer Age\", data=merged_data)\n",
    "plt.show()"
   ]
  },
  {
   "cell_type": "markdown",
   "id": "2cfe0448",
   "metadata": {},
   "source": [
    "The data reveals some negative ages that need to be removed. While non-fraudulent transactions show more outliers than fraudulent ones, the average remains the same in both cases. Additionally, certain ages appear suspicious—customers under 18 should generally not be able to make transactions. The plot even shows transactions from customers under 10 years old, which is practically impossible. However, since we do not have access to the platform's age restrictions, we will only remove rows where the customer age is less than zero. In this case, outliers should not be removed—except for values over zero—since they do not significantly deviate from the average and the maximum value is a normal age for a person(80 years old). Additionally, these outliers primarily represent individuals who engage in fewer online transactions, such as the elderly and teenagers."
   ]
  },
  {
   "cell_type": "code",
   "execution_count": 89,
   "id": "e3f6e753",
   "metadata": {},
   "outputs": [
    {
     "name": "stdout",
     "output_type": "stream",
     "text": [
      "count    324743.000000\n",
      "mean         34.391063\n",
      "std           9.896536\n",
      "min           0.000000\n",
      "25%          28.000000\n",
      "50%          34.000000\n",
      "75%          41.000000\n",
      "max          80.000000\n",
      "Name: Customer Age, dtype: float64\n"
     ]
    },
    {
     "data": {
      "image/png": "[encoded data removed]",
      "text/plain": [
       "<Figure size 640x480 with 1 Axes>"
      ]
     },
     "metadata": {},
     "output_type": "display_data"
    }
   ],
   "source": [
    "#Filter the data\n",
    "merged_data = merged_data[merged_data[\"Customer Age\"] >= 0]\n",
    "\n",
    "#Customer age comparison between fraudulent and legitimate transactions with the filtered data\n",
    "print(merged_data[\"Customer Age\"].describe())\n",
    "sb.boxplot(x=\"Is Fraudulent\", y=\"Customer Age\", data=merged_data)\n",
    "plt.show()"
   ]
  },
  {
   "cell_type": "markdown",
   "id": "52795d49",
   "metadata": {},
   "source": [
    "Now, we are going to analyse the customer location."
   ]
  },
  {
   "cell_type": "code",
   "execution_count": 90,
   "id": "6d8c3c39",
   "metadata": {},
   "outputs": [
    {
     "name": "stdout",
     "output_type": "stream",
     "text": [
      "      Customer Location  Fraud Transactions  Total Transactions  Fraud Ratio\n",
      "294        Aprilchester                   3                   7     0.428571\n",
      "602          Brandyfort                   3                   7     0.428571\n",
      "835          Carriefort                   3                   7     0.428571\n",
      "1226     Cunninghamstad                   3                   6     0.500000\n",
      "2280        East Sherri                   3                   6     0.500000\n",
      "5001         Leslieport                   4                  10     0.400000\n",
      "5119       Lucaschester                   3                   6     0.500000\n",
      "5493          Meyerview                   3                   6     0.500000\n",
      "5678    Morrisonchester                   3                   7     0.428571\n",
      "5718         Murraystad                   3                   7     0.428571\n",
      "5721          Myersfort                   3                   7     0.428571\n",
      "6722     North Amyshire                   3                   6     0.500000\n",
      "6723       North Amyton                   3                   6     0.500000\n",
      "8993          Rileystad                   3                   7     0.428571\n",
      "10353       Stanleyberg                   3                   6     0.500000\n",
      "10958        Wellsburgh                   3                   7     0.428571\n",
      "10960         Wellsfurt                   3                   7     0.428571\n",
      "Average Transactions per Location: 4.999584321211935\n",
      "Average Fraudulent Transactions per Location: 0.27330110539766606\n"
     ]
    },
    {
     "data": {
      "image/png": "[encoded data removed]",
      "text/plain": [
       "<Figure size 640x480 with 1 Axes>"
      ]
     },
     "metadata": {},
     "output_type": "display_data"
    }
   ],
   "source": [
    "# Count total transactions per customer location\n",
    "total_transactions = merged_data.groupby(\"Customer Location\").size().reset_index(name=\"Total Transactions\")\n",
    "\n",
    "# Count fraudulent transactions per Customer Location\n",
    "fraud_transactions = merged_data[merged_data[\"Is Fraudulent\"] == 1].groupby(\"Customer Location\").size().reset_index(name=\"Fraud Transactions\")\n",
    "\n",
    "# Merge both counts\n",
    "fraud_ratio = fraud_transactions.merge(total_transactions, on=\"Customer Location\", how=\"left\")\n",
    "\n",
    "# Calculate fraud ratio\n",
    "fraud_ratio[\"Fraud Ratio\"] = fraud_ratio[\"Fraud Transactions\"] / fraud_ratio[\"Total Transactions\"]\n",
    "\n",
    "filtered_ratio = fraud_ratio[(fraud_ratio[\"Fraud Ratio\"] >= 0.4) & (fraud_ratio[\"Total Transactions\"] > 5)] #only shows the higher ratios (above average)\n",
    "print(filtered_ratio)\n",
    "print(\"Average Transactions per Location: \" + str(total_transactions[\"Total Transactions\"].sum() / len(total_transactions[\"Customer Location\"].unique())))\n",
    "print(\"Average Fraudulent Transactions per Location: \" + str(fraud_transactions[\"Fraud Transactions\"].sum() / len(total_transactions[\"Customer Location\"].unique())))\n",
    "\n",
    "sb.barplot(x=\"Customer Location\", y=\"Fraud Ratio\", data=filtered_ratio)\n",
    "plt.xticks(rotation=45)\n",
    "plt.title(\"Fraudulent Transactions Per Customer Location\")\n",
    "plt.show()"
   ]
  },
  {
   "cell_type": "markdown",
   "id": "f5b2b09b",
   "metadata": {},
   "source": [
    "The plot shows a big ratio in 17 locations considering the average number of total transactions and fraudulent transactions per location. These locations have more than 5 registered transactions and more than 40% of the transactions where flagged as fraudulent.\n",
    "\n",
    "Now, we will analyse the devices used in the transactions."
   ]
  },
  {
   "cell_type": "code",
   "execution_count": 91,
   "id": "b17597e3",
   "metadata": {},
   "outputs": [
    {
     "name": "stdout",
     "output_type": "stream",
     "text": [
      "  Device Used  Fraud Transactions  Total Transactions\n",
      "0     desktop                5901              108303\n",
      "1      mobile                6039              108142\n",
      "2      tablet                5812              108298\n"
     ]
    },
    {
     "data": {
      "image/png": "[encoded data removed]",
      "text/plain": [
       "<Figure size 640x480 with 1 Axes>"
      ]
     },
     "metadata": {},
     "output_type": "display_data"
    }
   ],
   "source": [
    "# Count total transactions per Device Used\n",
    "total_transactions = merged_data.groupby(\"Device Used\").size().reset_index(name=\"Total Transactions\")\n",
    "\n",
    "# Count fraudulent transactions per Device Used\n",
    "fraud_transactions = merged_data[merged_data[\"Is Fraudulent\"] == 1].groupby(\"Device Used\").size().reset_index(name=\"Fraud Transactions\")\n",
    "\n",
    "# Merge both counts\n",
    "fraud_ratio = fraud_transactions.merge(total_transactions, on=\"Device Used\", how=\"left\")\n",
    "\n",
    "print(fraud_ratio)\n",
    "\n",
    "# Calculate fraud ratio\n",
    "fraud_ratio[\"Fraud Ratio\"] = fraud_ratio[\"Fraud Transactions\"] / fraud_ratio[\"Total Transactions\"]\n",
    "\n",
    "sb.barplot(x=\"Device Used\", y=\"Fraud Ratio\", data=fraud_ratio)\n",
    "plt.xticks(rotation=45)\n",
    "plt.title(\"Fraudulent Transactions Per Device Used\")\n",
    "plt.show()"
   ]
  },
  {
   "cell_type": "markdown",
   "id": "7f19a375",
   "metadata": {},
   "source": [
    "The plot shows that mobile devices have the highest ratio of frauds but the difference compared to other kinds of devices is minimal. The device used may not be the best to predict fraudulent transactions.\n",
    "\n",
    "The next step will be the analysis of the adress match."
   ]
  },
  {
   "cell_type": "code",
   "execution_count": 92,
   "id": "2c2b84be",
   "metadata": {},
   "outputs": [
    {
     "name": "stdout",
     "output_type": "stream",
     "text": [
      "   Address Match  Fraud Transactions  Total Transactions\n",
      "0              0                4351               59782\n",
      "1              1               13401              264961\n"
     ]
    },
    {
     "data": {
      "image/png": "[encoded data removed]",
      "text/plain": [
       "<Figure size 640x480 with 1 Axes>"
      ]
     },
     "metadata": {},
     "output_type": "display_data"
    }
   ],
   "source": [
    "# Count total transactions per Device Used\n",
    "total_transactions = merged_data.groupby(\"Address Match\").size().reset_index(name=\"Total Transactions\")\n",
    "\n",
    "# Count fraudulent transactions per Device Used\n",
    "fraud_transactions = merged_data[merged_data[\"Is Fraudulent\"] == 1].groupby(\"Address Match\").size().reset_index(name=\"Fraud Transactions\")\n",
    "\n",
    "# Merge both counts\n",
    "fraud_ratio = fraud_transactions.merge(total_transactions, on=\"Address Match\", how=\"left\")\n",
    "\n",
    "print(fraud_ratio)\n",
    "\n",
    "# Calculate fraud ratio\n",
    "fraud_ratio[\"Fraud Ratio\"] = fraud_ratio[\"Fraud Transactions\"] / fraud_ratio[\"Total Transactions\"]\n",
    "\n",
    "sb.barplot(x=\"Address Match\", y=\"Fraud Ratio\", data=fraud_ratio)\n",
    "plt.xticks(rotation=45)\n",
    "plt.title(\"Fraudulent Transactions Per Address Match\")\n",
    "plt.show()"
   ]
  },
  {
   "cell_type": "markdown",
   "id": "af4453b5",
   "metadata": {},
   "source": [
    "Its clear that, when the billing and shipping addresses don't match, it is more likely the transaction to be fraudulent. However, the ratios are low in both cases.\n",
    "\n",
    "\n",
    "The next step is to analyse the  account age."
   ]
  },
  {
   "cell_type": "code",
   "execution_count": 93,
   "id": "94f8d21d",
   "metadata": {},
   "outputs": [
    {
     "name": "stdout",
     "output_type": "stream",
     "text": [
      "count    324743.000000\n",
      "mean        179.569185\n",
      "std         106.954029\n",
      "min           1.000000\n",
      "25%          86.000000\n",
      "50%         179.000000\n",
      "75%         272.000000\n",
      "max         365.000000\n",
      "Name: Account Age Days, dtype: float64\n"
     ]
    },
    {
     "data": {
      "image/png": "[encoded data removed]",
      "text/plain": [
       "<Figure size 640x480 with 1 Axes>"
      ]
     },
     "metadata": {},
     "output_type": "display_data"
    }
   ],
   "source": [
    "#Account age comparison between fraudulent and legitimate transactions\n",
    "print(merged_data[\"Account Age Days\"].describe())\n",
    "sb.boxplot(x=\"Is Fraudulent\", y=\"Account Age Days\", data=merged_data)\n",
    "plt.show()"
   ]
  },
  {
   "cell_type": "markdown",
   "id": "3b5dee67",
   "metadata": {},
   "source": [
    "The plot shows a clearly that the Fraudulent transactions are more predominat in newer accounts."
   ]
  },
  {
   "cell_type": "markdown",
   "id": "74458b14",
   "metadata": {},
   "source": [
    "## ML Algorithms\n",
    "\n",
    "\n",
    "The first thing we need to do is spliting the data into training and testing sets. To do this we will use scikit learn train_test_split method."
   ]
  },
  {
   "cell_type": "code",
   "execution_count": 94,
   "id": "25a59d8a",
   "metadata": {},
   "outputs": [],
   "source": [
    "import pandas as pd\n",
    "import matplotlib.pyplot as plt\n",
    "import seaborn as sns\n",
    "import numpy as np\n",
    "\n",
    "# Create dictionary to store all model results\n",
    "results = {}\n",
    "\n",
    "# Function to add model results to the dictionary\n",
    "def add_model_results(model_name, scenario, accuracy, precision, recall, f1):\n",
    "    if model_name not in results:\n",
    "        results[model_name] = {}\n",
    "    \n",
    "    results[model_name][scenario] = {\n",
    "        'accuracy': accuracy,\n",
    "        'precision': precision,\n",
    "        'recall': recall,\n",
    "        'f1': f1\n",
    "    }"
   ]
  },
  {
   "cell_type": "code",
   "execution_count": 95,
   "id": "a325bd1a",
   "metadata": {},
   "outputs": [],
   "source": [
    "#We need to convert the categorical data into a number format. To do this we will use the label encoder from scikit learn\n",
    "from sklearn.preprocessing import LabelEncoder\n",
    "#Initialize LabelEncoder\n",
    "label_encoder = LabelEncoder()\n",
    "\n",
    "# Apply label encoding to the categorical column\n",
    "merged_data['Payment Method Encoded'] = label_encoder.fit_transform(merged_data['Payment Method'])\n",
    "merged_data['Product Category Encoded'] = label_encoder.fit_transform(merged_data['Product Category'])\n",
    "merged_data['Customer Location Encoded'] = label_encoder.fit_transform(merged_data['Customer Location'])\n",
    "merged_data['Device Used Encoded'] = label_encoder.fit_transform(merged_data['Device Used'])\n",
    "\n",
    "#Get the data from pandas. We are using almost all the columns, except the transation data but we will use the transaction day, month and hour separated. These data is going to get us the base line results \n",
    "data_for_input = merged_data[[\"Transaction Amount\",\"Payment Method Encoded\",\"Product Category Encoded\",\"Quantity\",\"Customer Age\",\"Customer Location Encoded\",\"Device Used Encoded\",\"Account Age Days\",\"Transaction Hour\",\"Address Match\", \"Transaction Month\", \"Transaction Day\"]]\n",
    "inputs = data_for_input.values\n",
    "\n",
    "labels = merged_data[\"Is Fraudulent\"].values\n",
    "\n",
    "(training_inputs,\n",
    " testing_inputs,\n",
    " training_classes,\n",
    " testing_classes) = train_test_split(inputs, labels, test_size=0.25, random_state=1)"
   ]
  },
  {
   "cell_type": "markdown",
   "id": "f99d226d",
   "metadata": {},
   "source": [
    "### K Nearest Neighbors\n",
    "\n",
    "Firstly, we will use the k nearest neighbors algorithm, one of the most simple, as a base line for other algorithms. It makes predictions based on the similarity between data points. It does not need a training phase; just stores data and calculates as needed."
   ]
  },
  {
   "cell_type": "code",
   "execution_count": 96,
   "id": "19c69b31",
   "metadata": {},
   "outputs": [
    {
     "name": "stdout",
     "output_type": "stream",
     "text": [
      "Model Accuracy: 0.95\n",
      "Model Precision: 0.60\n",
      "Model recall: 0.10\n",
      "Model f1_score: 0.17\n",
      "Model confusion matrix: [[76434   292]\n",
      " [ 4014   446]]\n",
      "Testing time: 3.75\n",
      "Training time: 1.55\n"
     ]
    }
   ],
   "source": [
    "import time\n",
    "\n",
    "classifier = KNeighborsClassifier(n_neighbors=5,n_jobs=-1)\n",
    "\n",
    "init_time = time.time()\n",
    "#train the model with the training data (not really training but more like a data store on this algorithm)\n",
    "classifier.fit(training_inputs, training_classes)\n",
    "training_time = time.time() - init_time\n",
    "\n",
    "init_time = time.time()\n",
    "#test the model with the testing data\n",
    "pred = classifier.predict(testing_inputs)\n",
    "testing_time = time.time() - init_time\n",
    "\n",
    "#Get the model results\n",
    "accuracy = accuracy_score(testing_classes, pred)\n",
    "precision = precision_score(testing_classes, pred)\n",
    "recall = recall_score(testing_classes, pred)\n",
    "f1= f1_score(testing_classes, pred)\n",
    "c_matrix = confusion_matrix(testing_classes, pred)\n",
    "\n",
    "add_model_results(\"KNN\", \"Baseline\", accuracy, precision, recall, f1)\n",
    "\n",
    "print(f\"Model Accuracy: {accuracy:.2f}\")\n",
    "print(f\"Model Precision: {precision:.2f}\")\n",
    "print(f\"Model recall: {recall:.2f}\")\n",
    "print(f\"Model f1_score: {f1:.2f}\")\n",
    "print(f\"Model confusion matrix: {c_matrix}\")\n",
    "print(f\"Testing time: {testing_time:.2f}\")\n",
    "print(f\"Training time: {training_time:.2f}\")"
   ]
  },
  {
   "cell_type": "markdown",
   "id": "5342323c",
   "metadata": {},
   "source": [
    "The initial performance appears promising, especially given the **95% accuracy**. However, the **recall** and **F1-score** are significantly low, suggesting a **high rate of false positives**. This issue is likely due to the dataset's imbalance, causing the algorithm to favor the **non-fraudulent class**, which is more prevalent. As we will observe, this problem affects all evaluated algorithms—some performing slightly better, others worse. To address these challenges, we will explore possible improvements in a dedicated section of the notebook.\n",
    "\n",
    "Now, we will attempt to enhance the results and improve consistency using cross-validation. As previously mentioned, additional improvements will be explored in a dedicated section of the notebook."
   ]
  },
  {
   "cell_type": "code",
   "execution_count": 97,
   "id": "901ea51e",
   "metadata": {},
   "outputs": [
    {
     "name": "stdout",
     "output_type": "stream",
     "text": [
      "{'fit_time': array([2.57637358, 3.15376878, 2.56237292, 2.65137672, 2.82711124,\n",
      "       3.001127  , 2.29712629, 2.32647109, 2.43785119, 2.5670042 ]), 'score_time': array([2.16355991, 1.89615798, 2.06926179, 2.34757304, 2.016891  ,\n",
      "       2.04944253, 1.77123356, 1.74010348, 1.580796  , 1.50064731]), 'test_precision': array([0.59150327, 0.61682243, 0.61512027, 0.55081967, 0.5621118 ,\n",
      "       0.57507987, 0.61976048, 0.57741935, 0.60365854, 0.60126582]), 'test_recall': array([0.10197183, 0.11148649, 0.10078829, 0.09464789, 0.10197183,\n",
      "       0.10140845, 0.11661972, 0.10084507, 0.1115493 , 0.10704225]), 'test_f1': array([0.17395483, 0.1888412 , 0.17319787, 0.16153846, 0.17262756,\n",
      "       0.17241379, 0.19630156, 0.17170264, 0.18830243, 0.18173123]), 'test_accuracy': array([0.94706697, 0.94762125, 0.9473749 , 0.9462955 , 0.94657264,\n",
      "       0.9467882 , 0.9478044 , 0.94681899, 0.94743487, 0.9473117 ])}\n",
      "Average Model Accuracy: 0.95\n",
      "Average Model Precision: 0.59\n",
      "Average Model Recall: 0.10\n",
      "Average Model f1_score: 0.18\n",
      "Average Testing time: 1.91\n",
      "Training time: 2.64\n"
     ]
    }
   ],
   "source": [
    "from sklearn.model_selection import cross_validate\n",
    "\n",
    "cv_decision_tree = cross_validate(classifier, inputs, labels, cv=10, scoring=['precision', 'recall', 'f1', 'accuracy'], n_jobs= -1)\n",
    "\n",
    "print(cv_decision_tree)\n",
    "print(f\"Average Model Accuracy: {cv_decision_tree['test_accuracy'].mean():.2f}\")\n",
    "print(f\"Average Model Precision: {cv_decision_tree['test_precision'].mean():.2f}\")\n",
    "print(f\"Average Model Recall: {cv_decision_tree['test_recall'].mean():.2f}\")\n",
    "print(f\"Average Model f1_score: {cv_decision_tree['test_f1'].mean():.2f}\")\n",
    "print(f\"Average Testing time: {cv_decision_tree['score_time'].mean():.2f}\")\n",
    "print(f\"Training time: {cv_decision_tree['fit_time'].mean():.2f}\")"
   ]
  },
  {
   "cell_type": "markdown",
   "id": "4a098d5d",
   "metadata": {},
   "source": [
    "As we can see, the results are not better than the standard algorithm but they are more consistent overall when we rerun the algorithm."
   ]
  },
  {
   "cell_type": "markdown",
   "id": "7b3a6140",
   "metadata": {},
   "source": [
    "### Decision Tree\n",
    "\n",
    "The second algorithm we will analyze is the decison tree. This algorithm  is a rule-based model that is easy to interpret and visualize and can handle both numerical and categorical data. It is also a good base line to compare with other algorithms"
   ]
  },
  {
   "cell_type": "code",
   "execution_count": 98,
   "id": "dcc5dd83",
   "metadata": {},
   "outputs": [
    {
     "name": "stdout",
     "output_type": "stream",
     "text": [
      "Model Accuracy: 0.92\n",
      "Model Precision: 0.25\n",
      "Model recall: 0.25\n",
      "Model f1_score: 0.25\n",
      "Model confusion matrix: [[73403  3323]\n",
      " [ 3361  1099]]\n",
      "Testing time: 0.02\n",
      "Training time: 3.16\n"
     ]
    }
   ],
   "source": [
    "import time\n",
    "\n",
    "#Get the decision tree classifier\n",
    "classifier = DecisionTreeClassifier(class_weight=\"balanced\")\n",
    "\n",
    "init_time = time.time()\n",
    "#train the model with the training data\n",
    "classifier.fit(training_inputs, training_classes)\n",
    "training_time = time.time() - init_time\n",
    "\n",
    "init_time = time.time()\n",
    "#test the model with the testing data\n",
    "pred = classifier.predict(testing_inputs)\n",
    "testing_time = time.time() - init_time\n",
    "\n",
    "#Get the model results\n",
    "accuracy = accuracy_score(testing_classes, pred)\n",
    "precision = precision_score(testing_classes, pred)\n",
    "recall = recall_score(testing_classes, pred)\n",
    "f1= f1_score(testing_classes, pred)\n",
    "c_matrix = confusion_matrix(testing_classes, pred)\n",
    "\n",
    "add_model_results(\"Decision Tree\", \"Baseline\", accuracy, precision, recall, f1)\n",
    "\n",
    "print(f\"Model Accuracy: {accuracy:.2f}\")\n",
    "print(f\"Model Precision: {precision:.2f}\")\n",
    "print(f\"Model recall: {recall:.2f}\")\n",
    "print(f\"Model f1_score: {f1:.2f}\")\n",
    "print(f\"Model confusion matrix: {c_matrix}\")\n",
    "print(f\"Testing time: {testing_time:.2f}\")\n",
    "print(f\"Training time: {training_time:.2f}\")"
   ]
  },
  {
   "cell_type": "markdown",
   "id": "00083756",
   "metadata": {},
   "source": [
    "The initial performance of the model was promising, achieving **91% accuracy** on the first attempt. However, accuracy alone can be misleading, as the results vary significantly depending on the data split. To enhance **consistency and reliability**, we will apply **cross-validation**, ensuring a more stable evaluation across different subsets of the dataset.\n",
    "\n",
    "Additionally, we observed that the model exhibits **low precision, recall, and F1-score**, indicating a **high number of false positives and false negatives**—particularly false positives. This is problematic since **misclassifying a legitimate transaction as fraudulent** can have negative consequences. The apparent high accuracy is deceptive, as it does not account for the imbalance between fraudulent and non-fraudulent transactions; the latter constitutes a much larger proportion of the dataset. These problems were previously observed in the K nearest neighbors algorithm.\n",
    "\n",
    "Now, we will implement cross-validation, which—while only providing modest improvements due to the large dataset—will contribute to more consistent results. The sheer size of the dataset already facilitates stability, but cross-validation further reinforces the reliability of our model’s performance. Further enhancements, such as feature selection, will be addressed in a dedicated section of the notebook to allow a more structured approach to model optimization.\n"
   ]
  },
  {
   "cell_type": "code",
   "execution_count": 99,
   "id": "5f390447",
   "metadata": {},
   "outputs": [
    {
     "name": "stdout",
     "output_type": "stream",
     "text": [
      "{'fit_time': array([3.78423238, 3.81478834, 3.76609564, 4.02158809, 3.81910491,\n",
      "       3.66761446, 3.90267658, 3.87953424, 3.93174648, 3.74659204]), 'score_time': array([0.02444243, 0.02341008, 0.05200386, 0.02342916, 0.02321696,\n",
      "       0.02319956, 0.02199936, 0.02218413, 0.02262735, 0.02202487]), 'test_precision': array([0.25397727, 0.25832846, 0.25639568, 0.23374439, 0.24689966,\n",
      "       0.24742268, 0.26826484, 0.25306838, 0.26508742, 0.24785346]), 'test_recall': array([0.25183099, 0.24887387, 0.25394144, 0.23492958, 0.24676056,\n",
      "       0.24338028, 0.26478873, 0.24394366, 0.26478873, 0.24394366]), 'test_f1': array([0.25289958, 0.25351305, 0.25516266, 0.23433549, 0.24683009,\n",
      "       0.24538483, 0.26651545, 0.24842226, 0.26493799, 0.24588302]), 'test_accuracy': array([0.9186759 , 0.91984604, 0.91892225, 0.91608672, 0.917688  ,\n",
      "       0.9181807 , 0.92033627, 0.91932007, 0.9196896 , 0.91821149])}\n",
      "Average Model Accuracy: 0.92\n",
      "Average Model Precision: 0.25\n",
      "Average Model Recall: 0.25\n",
      "Average Model f1_score: 0.25\n",
      "Average Testing time: 0.03\n",
      "Training time: 3.83\n"
     ]
    }
   ],
   "source": [
    "\n",
    "classifier = DecisionTreeClassifier(class_weight=\"balanced\")\n",
    "\n",
    "cv_decision_tree = cross_validate(classifier, inputs, labels, cv=10, scoring=['precision', 'recall', 'f1', 'accuracy'])\n",
    "\n",
    "print(cv_decision_tree)\n",
    "print(f\"Average Model Accuracy: {cv_decision_tree['test_accuracy'].mean():.2f}\")\n",
    "print(f\"Average Model Precision: {cv_decision_tree['test_precision'].mean():.2f}\")\n",
    "print(f\"Average Model Recall: {cv_decision_tree['test_recall'].mean():.2f}\")\n",
    "print(f\"Average Model f1_score: {cv_decision_tree['test_f1'].mean():.2f}\")\n",
    "print(f\"Average Testing time: {cv_decision_tree['score_time'].mean():.2f}\")\n",
    "print(f\"Training time: {cv_decision_tree['fit_time'].mean():.2f}\")"
   ]
  },
  {
   "cell_type": "markdown",
   "id": "0749d8c6",
   "metadata": {},
   "source": [
    "As previously mentioned, the cross-validation yielded little to no improvement."
   ]
  },
  {
   "cell_type": "markdown",
   "id": "f36a4ae8",
   "metadata": {},
   "source": [
    "### Support Vector Machine\n",
    "\n",
    "The third algorithm we will analyze is the Support Vector Machine (SVM). Unlike decision trees, which use a set of rules to split the data, SVM focuses on finding the optimal boundary (hyperplane) that best separates fraudulent and legitimate transactions. SVM works by maximizing the margin between the two classes, making it effective for both linear and non-linear data through the use of different kernels. While SVM models are less interpretable than decision trees, they often provide higher accuracy, especially when the distinction between classes is not obvious. This makes SVM a strong alternative for fraud detection and a valuable comparison point for our baseline results.\n"
   ]
  },
  {
   "cell_type": "code",
   "execution_count": 100,
   "id": "a6151f4a",
   "metadata": {},
   "outputs": [
    {
     "name": "stdout",
     "output_type": "stream",
     "text": [
      "Model Accuracy: 0.95\n",
      "Model Precision: 1.00\n",
      "Model recall: 0.04\n",
      "Model f1_score: 0.08\n",
      "Model confusion matrix: [[76726     0]\n",
      " [ 4284   176]]\n",
      "Testing time: 0.00\n",
      "Training time: 0.27\n"
     ]
    }
   ],
   "source": [
    "from sklearn.svm import LinearSVC\n",
    "from sklearn.preprocessing import StandardScaler\n",
    "\n",
    "scaler = StandardScaler()\n",
    "training_inputs_scaled = scaler.fit_transform(training_inputs)\n",
    "testing_inputs_scaled = scaler.transform(testing_inputs)\n",
    "\n",
    "classifier = LinearSVC(max_iter=10000, random_state=1)\n",
    "init_time = time.time()\n",
    "classifier.fit(training_inputs_scaled, training_classes)\n",
    "training_time = time.time() - init_time\n",
    "\n",
    "init_time = time.time()\n",
    "pred = classifier.predict(testing_inputs_scaled)\n",
    "testing_time = time.time() - init_time\n",
    "\n",
    "accuracy = accuracy_score(testing_classes, pred)\n",
    "precision = precision_score(testing_classes, pred)\n",
    "recall = recall_score(testing_classes, pred)\n",
    "f1 = f1_score(testing_classes, pred)\n",
    "c_matrix = confusion_matrix(testing_classes, pred)\n",
    "\n",
    "print(f\"Model Accuracy: {accuracy:.2f}\")\n",
    "print(f\"Model Precision: {precision:.2f}\")\n",
    "print(f\"Model recall: {recall:.2f}\")\n",
    "print(f\"Model f1_score: {f1:.2f}\")\n",
    "print(f\"Model confusion matrix: {c_matrix}\")\n",
    "print(f\"Testing time: {testing_time:.2f}\")\n",
    "print(f\"Training time: {training_time:.2f}\")\n"
   ]
  },
  {
   "cell_type": "markdown",
   "id": "808a6322",
   "metadata": {},
   "source": [
    "The initial performance of the Support Vector Machine (SVM) model appeared strong, achieving a 95% accuracy on the first attempt. However, this high accuracy is misleading due to the significant class imbalance present in the dataset. The model achieved a precision of 1.00, indicating that when it predicts a transaction as fraudulent, it is always correct. Despite this, the recall is extremely low at 0.04, meaning the model is only able to identify 4% of actual fraudulent transactions. This results in a very low F1-score of 0.08, highlighting the model’s inability to effectively detect fraud.\n",
    "\n",
    "The confusion matrix further illustrates this issue, as the model predicts almost all transactions as non-fraudulent, missing the vast majority of fraudulent cases. This is problematic in a fraud detection context, where failing to identify fraudulent transactions (high false negatives) can have serious consequences. The high accuracy is primarily a reflection of the overwhelming number of legitimate transactions, rather than the model’s ability to detect fraud.\n",
    "\n",
    "To address these shortcomings, we will explore techniques such as class balancing, threshold adjustment, and cross-validation to improve the model’s recall and overall robustness. These steps are essential to ensure the model is not only accurate but also effective at identifying fraudulent activity. Further enhancements, including feature selection and algorithm tuning, will be discussed in subsequent sections of the notebook."
   ]
  },
  {
   "cell_type": "code",
   "execution_count": 101,
   "id": "5b7a0a4a",
   "metadata": {},
   "outputs": [
    {
     "name": "stdout",
     "output_type": "stream",
     "text": [
      "Class-Balanced Model Results:\n",
      "Model Accuracy: 0.70\n",
      "Model Precision: 0.11\n",
      "Model Recall: 0.65\n",
      "Model F1-score: 0.19\n",
      "Model Confusion Matrix:\n",
      "[[54258 22468]\n",
      " [ 1581  2879]]\n",
      "Testing time: 0.00\n",
      "Training time: 0.33\n",
      "\n",
      "Cross-Validation Results:\n",
      "CV Average Accuracy: 0.70 ± 0.00\n",
      "CV Average Precision: 0.11 ± 0.00\n",
      "CV Average Recall: 0.64 ± 0.01\n",
      "CV Average F1-score: 0.19 ± 0.00\n",
      "CV Average Fit Time: 0.73 seconds\n",
      "CV Average Score Time: 0.03 seconds\n"
     ]
    }
   ],
   "source": [
    "from sklearn.svm import LinearSVC\n",
    "from sklearn.preprocessing import StandardScaler\n",
    "from sklearn.model_selection import cross_validate\n",
    "from sklearn.metrics import accuracy_score, precision_score, recall_score, f1_score, confusion_matrix\n",
    "import time\n",
    "import numpy as np\n",
    "\n",
    "# Scale features for better SVM performance\n",
    "scaler = StandardScaler()\n",
    "training_inputs_scaled = scaler.fit_transform(training_inputs)\n",
    "testing_inputs_scaled = scaler.transform(testing_inputs)\n",
    "\n",
    "# First, let's improve the model with class_weight='balanced'\n",
    "classifier = LinearSVC(max_iter=10000, random_state=1, class_weight='balanced')\n",
    "init_time = time.time()\n",
    "classifier.fit(training_inputs_scaled, training_classes)\n",
    "training_time = time.time() - init_time\n",
    "\n",
    "init_time = time.time()\n",
    "pred = classifier.predict(testing_inputs_scaled)\n",
    "testing_time = time.time() - init_time\n",
    "\n",
    "accuracy = accuracy_score(testing_classes, pred)\n",
    "precision = precision_score(testing_classes, pred)\n",
    "recall = recall_score(testing_classes, pred)\n",
    "f1 = f1_score(testing_classes, pred)\n",
    "c_matrix = confusion_matrix(testing_classes, pred)\n",
    "\n",
    "add_model_results(\"SVM\", \"baseline\", accuracy, precision, recall, f1)\n",
    "    \n",
    "print(f\"Class-Balanced Model Results:\")\n",
    "print(f\"Model Accuracy: {accuracy:.2f}\")\n",
    "print(f\"Model Precision: {precision:.2f}\")\n",
    "print(f\"Model Recall: {recall:.2f}\")\n",
    "print(f\"Model F1-score: {f1:.2f}\")\n",
    "print(f\"Model Confusion Matrix:\\n{c_matrix}\")\n",
    "print(f\"Testing time: {testing_time:.2f}\")\n",
    "print(f\"Training time: {training_time:.2f}\")\n",
    "\n",
    "# Now, let's apply cross-validation to ensure robustness\n",
    "print(\"\\nCross-Validation Results:\")\n",
    "cv_results = cross_validate(\n",
    "    classifier, \n",
    "    scaler.fit_transform(inputs),  # Scale all inputs for CV\n",
    "    labels, \n",
    "    cv=5,\n",
    "    scoring=['precision', 'recall', 'f1', 'accuracy'],\n",
    "    n_jobs=-1\n",
    ")\n",
    "\n",
    "print(f\"CV Average Accuracy: {cv_results['test_accuracy'].mean():.2f} ± {cv_results['test_accuracy'].std():.2f}\")\n",
    "print(f\"CV Average Precision: {cv_results['test_precision'].mean():.2f} ± {cv_results['test_precision'].std():.2f}\")\n",
    "print(f\"CV Average Recall: {cv_results['test_recall'].mean():.2f} ± {cv_results['test_recall'].std():.2f}\")\n",
    "print(f\"CV Average F1-score: {cv_results['test_f1'].mean():.2f} ± {cv_results['test_f1'].std():.2f}\")\n",
    "print(f\"CV Average Fit Time: {cv_results['fit_time'].mean():.2f} seconds\")\n",
    "print(f\"CV Average Score Time: {cv_results['score_time'].mean():.2f} seconds\")\n"
   ]
  },
  {
   "cell_type": "markdown",
   "id": "cce15a5c",
   "metadata": {},
   "source": [
    "The introduction of class balancing to the SVM model caused a significant shift in performance metrics. While overall accuracy dropped to 70%, the model's ability to identify fraudulent transactions dramatically improved, with recall increasing from 0.04 to 0.65. This means the model now detects 65% of actual fraud cases, compared to only 4% previously.\n",
    "\n",
    "This improvement in recall came at the cost of precision, which decreased to 0.11. The confusion matrix clearly illustrates this trade-off: the model now correctly identifies 2,879 fraudulent transactions (true positives) but also incorrectly flags 22,468 legitimate transactions as fraudulent (false positives).\n",
    "\n",
    "Despite the lower precision, the F1-score improved to 0.19, representing a better balance between precision and recall than the original model. Cross-validation confirmed these results are consistent, with minimal variation across different data splits.\n",
    "\n",
    "This pattern is expected when applying class balancing to highly imbalanced datasets, as the decision boundary shifts to favor the minority class. While the model now successfully identifies more fraudulent transactions, further refinement would be needed to reduce false positives."
   ]
  },
  {
   "cell_type": "markdown",
   "id": "015633bd",
   "metadata": {},
   "source": [
    "### Logistic Regression\n",
    "\n",
    "The next algorithm we will analyze is Logistic Regression. This is a linear model that estimates the probability of a transaction being fraudulent or legitimate using a logistic function. It is simple yet effective, especially for problems where the relationship between features and the target is roughly linear.\n",
    "\n",
    "Unlike decision trees, which create explicit rules, Logistic Regression produces a model that outputs probabilities, which can be useful for ranking or threshold tuning. However, it can be sensitive to class imbalance, often underperforming on the minority class (fraudulent transactions). Techniques such as class weighting or resampling are often needed to address this."
   ]
  },
  {
   "cell_type": "code",
   "execution_count": 102,
   "id": "9d7e8a19",
   "metadata": {},
   "outputs": [
    {
     "name": "stdout",
     "output_type": "stream",
     "text": [
      "Model Accuracy: 0.95\n",
      "Model Precision: 0.91\n",
      "Model Recall: 0.08\n",
      "Model F1-Score: 0.15\n",
      "Confusion Matrix:\n",
      "[[76690    36]\n",
      " [ 4095   365]]\n",
      "Training time: 0.13 seconds\n",
      "Testing time: 0.00 seconds\n"
     ]
    }
   ],
   "source": [
    "from sklearn.linear_model import LogisticRegression\n",
    "from sklearn.preprocessing import StandardScaler\n",
    "from sklearn.metrics import accuracy_score, precision_score, recall_score, f1_score, confusion_matrix\n",
    "import time\n",
    "\n",
    "# Scale features for better Logistic Regression performance\n",
    "scaler = StandardScaler()\n",
    "training_inputs_scaled = scaler.fit_transform(training_inputs)\n",
    "testing_inputs_scaled = scaler.transform(testing_inputs)\n",
    "\n",
    "classifier = LogisticRegression(max_iter=10000, random_state=1)\n",
    "init_time = time.time()\n",
    "classifier.fit(training_inputs_scaled, training_classes)\n",
    "training_time = time.time() - init_time\n",
    "\n",
    "init_time = time.time()\n",
    "pred = classifier.predict(testing_inputs_scaled)\n",
    "testing_time = time.time() - init_time\n",
    "\n",
    "accuracy = accuracy_score(testing_classes, pred)\n",
    "precision = precision_score(testing_classes, pred)\n",
    "recall = recall_score(testing_classes, pred)\n",
    "f1 = f1_score(testing_classes, pred)\n",
    "c_matrix = confusion_matrix(testing_classes, pred)\n",
    "\n",
    "add_model_results(\"Logistic Regression\", \"baseline\", accuracy, precision, recall, f1)\n",
    "\n",
    "print(f\"Model Accuracy: {accuracy:.2f}\")\n",
    "print(f\"Model Precision: {precision:.2f}\")\n",
    "print(f\"Model Recall: {recall:.2f}\")\n",
    "print(f\"Model F1-Score: {f1:.2f}\")\n",
    "print(f\"Confusion Matrix:\\n{c_matrix}\")\n",
    "print(f\"Training time: {training_time:.2f} seconds\")\n",
    "print(f\"Testing time: {testing_time:.2f} seconds\")\n"
   ]
  },
  {
   "cell_type": "markdown",
   "id": "02d2ff94",
   "metadata": {},
   "source": [
    "The initial model shows high accuracy (95%) and high precision (91%), but very low recall (8%). This means that while most legitimate transactions are correctly identified, the model fails to detect most fraud cases, which is a common problem in imbalanced datasets.\n"
   ]
  },
  {
   "cell_type": "markdown",
   "id": "822e21cd",
   "metadata": {},
   "source": [
    "To gain a more reliable estimate of model performance across the dataset, we perform cross-validation using the same Logistic Regression model."
   ]
  },
  {
   "cell_type": "code",
   "execution_count": 103,
   "id": "162d2628",
   "metadata": {},
   "outputs": [
    {
     "name": "stdout",
     "output_type": "stream",
     "text": [
      "Cross-Validation Results:\n",
      "  Accuracy: 0.95 ± 0.00\n",
      "  Precision: 0.90 ± 0.01\n",
      "  Recall: 0.09 ± 0.00\n",
      "  F1: 0.16 ± 0.00\n"
     ]
    }
   ],
   "source": [
    "from sklearn.model_selection import cross_validate, StratifiedKFold\n",
    "from sklearn.linear_model import LogisticRegression\n",
    "import numpy as np\n",
    "\n",
    "cv = StratifiedKFold(n_splits=5, shuffle=True, random_state=1)\n",
    "\n",
    "classifier = LogisticRegression(max_iter=10000, random_state=1)\n",
    "\n",
    "cv_results = cross_validate(\n",
    "    classifier,\n",
    "    training_inputs_scaled,\n",
    "    training_classes,\n",
    "    cv=cv,\n",
    "    scoring=['accuracy', 'precision', 'recall', 'f1'],\n",
    "    n_jobs=-1\n",
    ")\n",
    "\n",
    "print(\"Cross-Validation Results:\")\n",
    "for metric in ['accuracy', 'precision', 'recall', 'f1']:\n",
    "    scores = cv_results[f'test_{metric}']\n",
    "    print(f\"  {metric.capitalize()}: {np.mean(scores):.2f} ± {np.std(scores):.2f}\")\n"
   ]
  },
  {
   "cell_type": "markdown",
   "id": "37a24ae8",
   "metadata": {},
   "source": [
    "### CatBoost Classifier\n",
    "CatBoost is a gradient boosting algorithm that performs especially well on tabular datasets like the one used in this fraud detection task. It is known for its strong performance with minimal preprocessing and is robust to class imbalance when using class weights.\n",
    "\n",
    "In the context of fraud detection, where fraudulent transactions are rare and hard to detect, CatBoost is a powerful model choice. It captures complex patterns in the data and can help improve recall without severely sacrificing precision, making it suitable for identifying more fraudulent cases.\n",
    "\n",
    "Below, we train a CatBoost classifier with adjusted class_weights to account for the imbalance between legitimate and fraudulent transactions, and then evaluate its performance."
   ]
  },
  {
   "cell_type": "code",
   "execution_count": 104,
   "id": "ad497ddf",
   "metadata": {},
   "outputs": [
    {
     "name": "stdout",
     "output_type": "stream",
     "text": [
      "CatBoost Accuracy: 0.88\n",
      "CatBoost Precision: 0.25\n",
      "CatBoost Recall: 0.57\n",
      "CatBoost F1-Score: 0.35\n",
      "CatBoost Confusion Matrix:\n",
      "[[69073  7653]\n",
      " [ 1897  2563]]\n",
      "Training time: 12.00 seconds\n",
      "Testing time: 0.37 seconds\n"
     ]
    }
   ],
   "source": [
    "from catboost import CatBoostClassifier\n",
    "from sklearn.metrics import accuracy_score, precision_score, recall_score, f1_score, confusion_matrix\n",
    "import time\n",
    "\n",
    "# Initialize CatBoostClassifier\n",
    "classifier_cb = CatBoostClassifier(\n",
    "    iterations=500,\n",
    "    learning_rate=0.1,\n",
    "    depth=6,\n",
    "    random_seed=1,\n",
    "    verbose=0,  # suppress training output\n",
    "    class_weights=[1, 12]  # penalize minority class (fraud) more heavily\n",
    ")\n",
    "\n",
    "init_time = time.time()\n",
    "classifier_cb.fit(training_inputs, training_classes)\n",
    "training_time = time.time() - init_time\n",
    "\n",
    "init_time = time.time()\n",
    "pred_cb = classifier_cb.predict(testing_inputs)\n",
    "testing_time = time.time() - init_time\n",
    "\n",
    "accuracy_cb = accuracy_score(testing_classes, pred_cb)\n",
    "precision_cb = precision_score(testing_classes, pred_cb)\n",
    "recall_cb = recall_score(testing_classes, pred_cb)\n",
    "f1_cb = f1_score(testing_classes, pred_cb)\n",
    "c_matrix_cb = confusion_matrix(testing_classes, pred_cb)\n",
    "\n",
    "add_model_results(\"CatBoost\", \"baseline\", accuracy_cb, precision_cb, recall_cb, f1_cb)\n",
    "\n",
    "print(f\"CatBoost Accuracy: {accuracy_cb:.2f}\")\n",
    "print(f\"CatBoost Precision: {precision_cb:.2f}\")\n",
    "print(f\"CatBoost Recall: {recall_cb:.2f}\")\n",
    "print(f\"CatBoost F1-Score: {f1_cb:.2f}\")\n",
    "print(f\"CatBoost Confusion Matrix:\\n{c_matrix_cb}\")\n",
    "print(f\"Training time: {training_time:.2f} seconds\")\n",
    "print(f\"Testing time: {testing_time:.2f} seconds\")\n"
   ]
  },
  {
   "cell_type": "markdown",
   "id": "cf2f03eb",
   "metadata": {},
   "source": [
    "The CatBoost model achieves a balanced improvement, with recall at 0.57—slightly below the highest recall observed (0.65)—but significantly better F1-score (0.35), outperforming all other tested algorithms. This indicates CatBoost is better at balancing precision and recall, making it more effective overall for fraud detection. The use of class weights helps the model focus on the minority class, improving fraud detection without excessively increasing false positives."
   ]
  },
  {
   "cell_type": "markdown",
   "id": "a8bcb15f",
   "metadata": {},
   "source": [
    "Now let’s apply cross-validation to get a more reliable estimate of CatBoost’s performance across the dataset."
   ]
  },
  {
   "cell_type": "code",
   "execution_count": 105,
   "id": "fcab1a4e",
   "metadata": {},
   "outputs": [
    {
     "name": "stdout",
     "output_type": "stream",
     "text": [
      "CV Average Accuracy: 0.88 ± 0.00\n",
      "CV Average Precision: 0.25 ± 0.00\n",
      "CV Average Recall: 0.56 ± 0.00\n",
      "CV Average F1-score: 0.34 ± 0.00\n",
      "CV Average Fit Time: 44.27 seconds\n",
      "CV Average Score Time: 0.20 seconds\n"
     ]
    }
   ],
   "source": [
    "from catboost import CatBoostClassifier\n",
    "from sklearn.model_selection import cross_validate, StratifiedKFold\n",
    "import numpy as np\n",
    "import time\n",
    "\n",
    "classifier_cb = CatBoostClassifier(\n",
    "    iterations=500,\n",
    "    learning_rate=0.1,\n",
    "    depth=6,\n",
    "    random_seed=1,\n",
    "    verbose=0,\n",
    "    class_weights=[1, 12]\n",
    ")\n",
    "\n",
    "cv = StratifiedKFold(n_splits=5, shuffle=True, random_state=1)\n",
    "\n",
    "\n",
    "cv_results = cross_validate(\n",
    "    classifier_cb,\n",
    "    training_inputs,\n",
    "    training_classes,\n",
    "    cv=cv,\n",
    "    scoring=['accuracy', 'precision', 'recall', 'f1'],\n",
    "    n_jobs=-1,\n",
    "    return_train_score=False\n",
    ")\n",
    "\n",
    "print(f\"CV Average Accuracy: {np.mean(cv_results['test_accuracy']):.2f} ± {np.std(cv_results['test_accuracy']):.2f}\")\n",
    "print(f\"CV Average Precision: {np.mean(cv_results['test_precision']):.2f} ± {np.std(cv_results['test_precision']):.2f}\")\n",
    "print(f\"CV Average Recall: {np.mean(cv_results['test_recall']):.2f} ± {np.std(cv_results['test_recall']):.2f}\")\n",
    "print(f\"CV Average F1-score: {np.mean(cv_results['test_f1']):.2f} ± {np.std(cv_results['test_f1']):.2f}\")\n",
    "print(f\"CV Average Fit Time: {np.mean(cv_results['fit_time']):.2f} seconds\")\n",
    "print(f\"CV Average Score Time: {np.mean(cv_results['score_time']):.2f} seconds\")\n"
   ]
  },
  {
   "cell_type": "markdown",
   "id": "ca750f15",
   "metadata": {},
   "source": [
    "The cross-validation results closely match the single-run metrics, confirming that the model’s performance is stable and generalizes well across different data splits."
   ]
  },
  {
   "cell_type": "markdown",
   "id": "7d0d11b0",
   "metadata": {},
   "source": [
    "### XGBoost\n",
    "XGBoost is a fast, scalable gradient boosting algorithm that handles class imbalance via the scale_pos_weight parameter.\n",
    "This makes it well-suited for fraud detection, where the positive class (fraud) is rare.\n"
   ]
  },
  {
   "cell_type": "code",
   "execution_count": 106,
   "id": "582b6705",
   "metadata": {},
   "outputs": [
    {
     "name": "stdout",
     "output_type": "stream",
     "text": [
      "### XGBoost Classifier\n",
      "XGBoost Accuracy: 0.84\n",
      "XGBoost Precision: 0.20\n",
      "XGBoost Recall: 0.60\n",
      "XGBoost F1-Score: 0.30\n",
      "XGBoost Confusion Matrix:\n",
      "[[65943 10783]\n",
      " [ 1804  2656]]\n",
      "Training time: 2.98 seconds\n",
      "Testing time: 0.15 seconds\n",
      "\n",
      "Cross-Validation Results:\n",
      "CV Average Accuracy: 0.85 ± 0.00\n",
      "CV Average Precision: 0.20 ± 0.00\n",
      "CV Average Recall: 0.58 ± 0.01\n",
      "CV Average F1-score: 0.30 ± 0.00\n",
      "CV Average Fit Time: 10.98 seconds\n",
      "CV Average Score Time: 0.51 seconds\n"
     ]
    }
   ],
   "source": [
    "from xgboost import XGBClassifier\n",
    "from sklearn.metrics import accuracy_score, precision_score, recall_score, f1_score, confusion_matrix\n",
    "import time\n",
    "import numpy as np\n",
    "\n",
    "unique, counts = np.unique(training_classes, return_counts=True)\n",
    "scale_pos_weight = counts[0] / counts[1]\n",
    "\n",
    "classifier_xgb = XGBClassifier(\n",
    "    n_estimators=500,\n",
    "    learning_rate=0.1,\n",
    "    max_depth=6,\n",
    "    random_state=1,\n",
    "    scale_pos_weight=scale_pos_weight,  # boost importance of minority class\n",
    "    eval_metric='logloss',\n",
    "    n_jobs=-1\n",
    ")\n",
    "\n",
    "init_time = time.time()\n",
    "classifier_xgb.fit(training_inputs, training_classes)\n",
    "training_time_xgb = time.time() - init_time\n",
    "\n",
    "init_time = time.time()\n",
    "pred_xgb = classifier_xgb.predict(testing_inputs)\n",
    "testing_time_xgb = time.time() - init_time\n",
    "\n",
    "accuracy_xgb = accuracy_score(testing_classes, pred_xgb)\n",
    "precision_xgb = precision_score(testing_classes, pred_xgb)\n",
    "recall_xgb = recall_score(testing_classes, pred_xgb)\n",
    "f1_xgb = f1_score(testing_classes, pred_xgb)\n",
    "c_matrix_xgb = confusion_matrix(testing_classes, pred_xgb)\n",
    "\n",
    "print(\"### XGBoost Classifier\")\n",
    "print(f\"XGBoost Accuracy: {accuracy_xgb:.2f}\")\n",
    "print(f\"XGBoost Precision: {precision_xgb:.2f}\")\n",
    "print(f\"XGBoost Recall: {recall_xgb:.2f}\")\n",
    "print(f\"XGBoost F1-Score: {f1_xgb:.2f}\")\n",
    "print(f\"XGBoost Confusion Matrix:\\n{c_matrix_xgb}\")\n",
    "print(f\"Training time: {training_time_xgb:.2f} seconds\")\n",
    "print(f\"Testing time: {testing_time_xgb:.2f} seconds\")\n",
    "\n",
    "add_model_results(\"XGBoost\", \"baseline\", accuracy_xgb, precision_xgb, recall_xgb, f1_xgb)\n",
    "\n",
    "\n",
    "cv = StratifiedKFold(n_splits=5, shuffle=True, random_state=1)\n",
    "\n",
    "cv_results = cross_validate(\n",
    "    classifier_xgb,\n",
    "    training_inputs,\n",
    "    training_classes,\n",
    "    cv=cv,\n",
    "    scoring=['accuracy', 'precision', 'recall', 'f1'],\n",
    "    n_jobs=-1,\n",
    "    return_train_score=False\n",
    ")\n",
    "\n",
    "print(\"\\nCross-Validation Results:\")\n",
    "print(f\"CV Average Accuracy: {np.mean(cv_results['test_accuracy']):.2f} ± {np.std(cv_results['test_accuracy']):.2f}\")\n",
    "print(f\"CV Average Precision: {np.mean(cv_results['test_precision']):.2f} ± {np.std(cv_results['test_precision']):.2f}\")\n",
    "print(f\"CV Average Recall: {np.mean(cv_results['test_recall']):.2f} ± {np.std(cv_results['test_recall']):.2f}\")\n",
    "print(f\"CV Average F1-score: {np.mean(cv_results['test_f1']):.2f} ± {np.std(cv_results['test_f1']):.2f}\")\n",
    "print(f\"CV Average Fit Time: {np.mean(cv_results['fit_time']):.2f} seconds\")\n",
    "print(f\"CV Average Score Time: {np.mean(cv_results['score_time']):.2f} seconds\")"
   ]
  },
  {
   "cell_type": "markdown",
   "id": "f2398ab8",
   "metadata": {},
   "source": [
    "### Random Forest Classifier\n",
    "Random Forest is an ensemble learning method that constructs multiple decision trees and outputs the mode of their predictions.\n",
    "It is effective for tabular data and can handle class imbalance using the `class_weight='balanced'` parameter.\n"
   ]
  },
  {
   "cell_type": "code",
   "execution_count": 107,
   "id": "ff37e746",
   "metadata": {},
   "outputs": [
    {
     "name": "stdout",
     "output_type": "stream",
     "text": [
      "Random Forest Accuracy: 0.95\n",
      "Random Forest Precision: 0.76\n",
      "Random Forest Recall: 0.17\n",
      "Random Forest F1-Score: 0.27\n",
      "Random Forest Confusion Matrix:\n",
      "[[76489   237]\n",
      " [ 3712   748]]\n",
      "Training time: 12.28 seconds\n",
      "Testing time: 0.37 seconds\n"
     ]
    }
   ],
   "source": [
    "from sklearn.ensemble import RandomForestClassifier\n",
    "\n",
    "classifier_rf = RandomForestClassifier(\n",
    "    n_estimators=100,\n",
    "    max_depth=None,\n",
    "    random_state=1,\n",
    "    class_weight='balanced',  # automatically adjust weights inversely proportional to class frequencies\n",
    "    n_jobs=-1\n",
    ")\n",
    "\n",
    "init_time = time.time()\n",
    "classifier_rf.fit(training_inputs, training_classes)\n",
    "training_time_rf = time.time() - init_time\n",
    "\n",
    "init_time = time.time()\n",
    "pred_rf = classifier_rf.predict(testing_inputs)\n",
    "testing_time_rf = time.time() - init_time\n",
    "\n",
    "accuracy_rf = accuracy_score(testing_classes, pred_rf)\n",
    "precision_rf = precision_score(testing_classes, pred_rf)\n",
    "recall_rf = recall_score(testing_classes, pred_rf)\n",
    "f1_rf = f1_score(testing_classes, pred_rf)\n",
    "c_matrix_rf = confusion_matrix(testing_classes, pred_rf)\n",
    "\n",
    "add_model_results(\"Random Forest\", \"baseline\", accuracy_rf, precision_rf, recall_rf, f1_rf)\n",
    "\n",
    "print(f\"Random Forest Accuracy: {accuracy_rf:.2f}\")\n",
    "print(f\"Random Forest Precision: {precision_rf:.2f}\")\n",
    "print(f\"Random Forest Recall: {recall_rf:.2f}\")\n",
    "print(f\"Random Forest F1-Score: {f1_rf:.2f}\")\n",
    "print(f\"Random Forest Confusion Matrix:\\n{c_matrix_rf}\")\n",
    "print(f\"Training time: {training_time_rf:.2f} seconds\")\n",
    "print(f\"Testing time: {testing_time_rf:.2f} seconds\")"
   ]
  },
  {
   "cell_type": "markdown",
   "id": "6933cd9b",
   "metadata": {},
   "source": [
    "Now let’s apply cross-validation to get a more reliable estimate of Random Forest performance across the dataset."
   ]
  },
  {
   "cell_type": "code",
   "execution_count": 108,
   "id": "c975b4f8",
   "metadata": {},
   "outputs": [
    {
     "name": "stdout",
     "output_type": "stream",
     "text": [
      "Cross-Validation Results:\n",
      "CV Average Accuracy: 0.95 ± 0.00\n",
      "CV Average Precision: 0.75 ± 0.01\n",
      "CV Average Recall: 0.16 ± 0.00\n",
      "CV Average F1-score: 0.26 ± 0.01\n",
      "CV Average Fit Time: 46.16 seconds\n",
      "CV Average Score Time: 0.81 seconds\n"
     ]
    }
   ],
   "source": [
    "from sklearn.model_selection import cross_validate, StratifiedKFold\n",
    "import numpy as np\n",
    "\n",
    "cv = StratifiedKFold(n_splits=5, shuffle=True, random_state=1)\n",
    "\n",
    "classifier_rf = RandomForestClassifier(\n",
    "    n_estimators=100,\n",
    "    max_depth=None,\n",
    "    random_state=1,\n",
    "    class_weight='balanced',\n",
    "    n_jobs=-1\n",
    ")\n",
    "\n",
    "cv_results_rf = cross_validate(\n",
    "    classifier_rf,\n",
    "    training_inputs,\n",
    "    training_classes,\n",
    "    cv=cv,\n",
    "    scoring=['accuracy', 'precision', 'recall', 'f1'],\n",
    "    n_jobs=-1,\n",
    "    return_train_score=False\n",
    ")\n",
    "\n",
    "print(\"Cross-Validation Results:\")\n",
    "print(f\"CV Average Accuracy: {np.mean(cv_results_rf['test_accuracy']):.2f} ± {np.std(cv_results_rf['test_accuracy']):.2f}\")\n",
    "print(f\"CV Average Precision: {np.mean(cv_results_rf['test_precision']):.2f} ± {np.std(cv_results_rf['test_precision']):.2f}\")\n",
    "print(f\"CV Average Recall: {np.mean(cv_results_rf['test_recall']):.2f} ± {np.std(cv_results_rf['test_recall']):.2f}\")\n",
    "print(f\"CV Average F1-score: {np.mean(cv_results_rf['test_f1']):.2f} ± {np.std(cv_results_rf['test_f1']):.2f}\")\n",
    "print(f\"CV Average Fit Time: {np.mean(cv_results_rf['fit_time']):.2f} seconds\")\n",
    "print(f\"CV Average Score Time: {np.mean(cv_results_rf['score_time']):.2f} seconds\")\n"
   ]
  },
  {
   "cell_type": "markdown",
   "id": "9a89e4fa",
   "metadata": {},
   "source": [
    "## ML Algorithm with enhancements \n",
    "\n",
    "In this section we will improve the results previously obtained. We will try to find the best feature set and parameters for each algorithm in order to get the best results possible.\n",
    "\n",
    "We will use SelectKBest to find the best features."
   ]
  },
  {
   "cell_type": "code",
   "execution_count": 109,
   "id": "0ff0ebcf",
   "metadata": {},
   "outputs": [
    {
     "name": "stdout",
     "output_type": "stream",
     "text": [
      "['Transaction Amount', 'Account Age Days', 'Transaction Hour', 'Address Match', 'Transaction Month']\n"
     ]
    }
   ],
   "source": [
    "from sklearn.feature_selection import RFE, SelectKBest\n",
    "\n",
    "\n",
    "selector = SelectKBest(k=5)  # Select top 5 features\n",
    "X_selected = selector.fit_transform(inputs, labels)\n",
    "selected_indices = selector.get_support(indices=True)\n",
    "selected_features_names = [ data_for_input.iloc[:, idx].name for idx in selected_indices]\n",
    "print(selected_features_names)\n"
   ]
  },
  {
   "cell_type": "markdown",
   "id": "7156db22",
   "metadata": {},
   "source": [
    "It is possible to see that the features selected by the algorithm are the ones we previously analised to be more relevant to the classification of fraudulent transactions.\n",
    "\n",
    "Now we need to create a new testing and training set only with these selected features"
   ]
  },
  {
   "cell_type": "code",
   "execution_count": 110,
   "id": "6abd1f7f",
   "metadata": {},
   "outputs": [],
   "source": [
    "#Get the data from pandas. We are using almost all the columns, except the transation data but we will use the transaction day, month and hour separated. These data is going to get us the base line results \n",
    "data_for_input = merged_data[selected_features_names]\n",
    "inputs = data_for_input.values\n",
    "\n",
    "labels = merged_data[\"Is Fraudulent\"].values\n",
    "\n",
    "(training_inputs,\n",
    " testing_inputs,\n",
    " training_classes,\n",
    " testing_classes) = train_test_split(inputs, labels, test_size=0.25, random_state=1)"
   ]
  },
  {
   "cell_type": "markdown",
   "id": "e9d95960",
   "metadata": {},
   "source": [
    "### Enhanced K Nearest Neighbor\n",
    "\n",
    "The first results we will try to improve are the ones from the k nearest neighbor algorithm. We will be firstly just use the improved feature set"
   ]
  },
  {
   "cell_type": "code",
   "execution_count": 111,
   "id": "8ae0fa0d",
   "metadata": {},
   "outputs": [
    {
     "name": "stdout",
     "output_type": "stream",
     "text": [
      "Model Accuracy: 0.95\n",
      "Model Precision: 0.54\n",
      "Model recall: 0.16\n",
      "Model f1_score: 0.25\n",
      "Model confusion matrix: [[76131   595]\n",
      " [ 3752   708]]\n",
      "Testing time: 3.58\n",
      "Training time: 0.67\n"
     ]
    }
   ],
   "source": [
    "classifier = KNeighborsClassifier(n_neighbors=5,n_jobs=-1)\n",
    "\n",
    "init_time = time.time()\n",
    "#train the model with the training data (not really training but more like a data store on this algorithm)\n",
    "classifier.fit(training_inputs, training_classes)\n",
    "training_time = time.time() - init_time\n",
    "\n",
    "init_time = time.time()\n",
    "#test the model with the testing data\n",
    "pred = classifier.predict(testing_inputs)\n",
    "testing_time = time.time() - init_time\n",
    "\n",
    "#Get the model results\n",
    "accuracy = accuracy_score(testing_classes, pred)\n",
    "precision = precision_score(testing_classes, pred)\n",
    "recall = recall_score(testing_classes, pred)\n",
    "f1= f1_score(testing_classes, pred)\n",
    "c_matrix = confusion_matrix(testing_classes, pred)\n",
    "\n",
    "print(f\"Model Accuracy: {accuracy:.2f}\")\n",
    "print(f\"Model Precision: {precision:.2f}\")\n",
    "print(f\"Model recall: {recall:.2f}\")\n",
    "print(f\"Model f1_score: {f1:.2f}\")\n",
    "print(f\"Model confusion matrix: {c_matrix}\")\n",
    "print(f\"Testing time: {testing_time:.2f}\")\n",
    "print(f\"Training time: {training_time:.2f}\")"
   ]
  },
  {
   "cell_type": "code",
   "execution_count": 112,
   "id": "ab0c0ef9",
   "metadata": {},
   "outputs": [
    {
     "name": "stdout",
     "output_type": "stream",
     "text": [
      "{'fit_time': array([0.81169486, 0.82367992, 0.80976486, 0.81464028, 0.8035934 ,\n",
      "       0.80919695, 0.8303113 , 0.79892826, 0.798491  , 0.79169583]), 'score_time': array([1.47789001, 1.44829655, 1.48833227, 1.44270229, 1.44728327,\n",
      "       1.46222138, 1.43957043, 1.42701125, 1.39211154, 1.41601276]), 'test_precision': array([0.56701031, 0.556     , 0.54043393, 0.52653061, 0.55360624,\n",
      "       0.51663405, 0.5716946 , 0.57936508, 0.53874539, 0.57715431]), 'test_recall': array([0.15492958, 0.15653153, 0.15427928, 0.14535211, 0.16      ,\n",
      "       0.14873239, 0.17295775, 0.16450704, 0.16450704, 0.16225352]), 'test_f1': array([0.24336283, 0.24428822, 0.24003504, 0.22781457, 0.24825175,\n",
      "       0.23097113, 0.26557093, 0.25625274, 0.25205006, 0.25329815]), 'test_accuracy': array([0.94734411, 0.94703618, 0.94657429, 0.94614153, 0.94703455,\n",
      "       0.94586438, 0.94771202, 0.9478044 , 0.94663423, 0.94771202])}\n",
      "Average Model Accuracy: 0.95\n",
      "Average Model Precision: 0.55\n",
      "Average Model Recall: 0.16\n",
      "Average Model f1_score: 0.25\n",
      "Average Testing time: 1.44\n",
      "Training time: 0.81\n"
     ]
    }
   ],
   "source": [
    "cv_decision_tree = cross_validate(classifier, inputs, labels, cv=10, scoring=['precision', 'recall', 'f1', 'accuracy'])\n",
    "\n",
    "print(cv_decision_tree)\n",
    "print(f\"Average Model Accuracy: {cv_decision_tree['test_accuracy'].mean():.2f}\")\n",
    "print(f\"Average Model Precision: {cv_decision_tree['test_precision'].mean():.2f}\")\n",
    "print(f\"Average Model Recall: {cv_decision_tree['test_recall'].mean():.2f}\")\n",
    "print(f\"Average Model f1_score: {cv_decision_tree['test_f1'].mean():.2f}\")\n",
    "print(f\"Average Testing time: {cv_decision_tree['score_time'].mean():.2f}\")\n",
    "print(f\"Training time: {cv_decision_tree['fit_time'].mean():.2f}\")"
   ]
  },
  {
   "cell_type": "markdown",
   "id": "ac228cbe",
   "metadata": {},
   "source": [
    "The enhanced feature set led to a slight improvement in the algorithm's recall and F1-score. However, the overall impact was minimal.\n",
    "\n",
    "To further improve the results, we will perform a GridSearchCV to find the best parameters for this algorithm. Firstly, we are going to focus on the accuracy"
   ]
  },
  {
   "cell_type": "code",
   "execution_count": 113,
   "id": "a6377301",
   "metadata": {},
   "outputs": [
    {
     "name": "stdout",
     "output_type": "stream",
     "text": [
      "Best Parameters: {'algorithm': 'ball_tree', 'n_jobs': -1, 'n_neighbors': 30, 'weights': 'uniform'}\n",
      "Best Accuracy: 0.95\n"
     ]
    }
   ],
   "source": [
    "# Define the hyperparameter grid\n",
    "from sklearn.model_selection import GridSearchCV\n",
    "\n",
    "param_grid = {\n",
    "    'n_neighbors': range(5, 50, 5),\n",
    "    'n_jobs' : [-1],\n",
    "    'weights': ['uniform', 'distance'],  \n",
    "    'algorithm': ['ball_tree', 'kd_tree'],   \n",
    "}\n",
    "\n",
    "# Initialize GridSearchCV\n",
    "grid_search = GridSearchCV(classifier, param_grid, cv=10, scoring=['precision', 'recall', 'f1', 'accuracy'], refit='accuracy', n_jobs=-1)\n",
    "\n",
    "# Fit the model\n",
    "grid_search.fit(training_inputs, training_classes)\n",
    "\n",
    "# Get the best parameters\n",
    "print(f'Best Parameters: {grid_search.best_params_}')\n",
    "print(f'Best Accuracy: {grid_search.best_score_:.2f}')"
   ]
  },
  {
   "cell_type": "code",
   "execution_count": 114,
   "id": "3512c3ee",
   "metadata": {},
   "outputs": [
    {
     "name": "stdout",
     "output_type": "stream",
     "text": [
      "Average Model Accuracy: 0.95\n",
      "Average Model Precision: 0.80\n",
      "Average Model Recall: 0.12\n",
      "Average Model f1_score: 0.20\n",
      "Average Testing time: 3.30\n",
      "Training time: 1.05\n"
     ]
    }
   ],
   "source": [
    "best_index = grid_search.best_index_\n",
    "\n",
    "print(f\"Average Model Accuracy: {grid_search.cv_results_['mean_test_accuracy'][best_index]:.2f}\")\n",
    "print(f\"Average Model Precision: {grid_search.cv_results_['mean_test_precision'][best_index].mean():.2f}\")\n",
    "print(f\"Average Model Recall: {grid_search.cv_results_['mean_test_recall'][best_index].mean():.2f}\")\n",
    "print(f\"Average Model f1_score: {grid_search.cv_results_['mean_test_f1'][best_index].mean():.2f}\")\n",
    "print(f\"Average Testing time: {grid_search.cv_results_['mean_score_time'][best_index].mean():.2f}\")\n",
    "print(f\"Training time: {grid_search.cv_results_['mean_fit_time'][best_index].mean():.2f}\")"
   ]
  },
  {
   "cell_type": "markdown",
   "id": "44bfcdde",
   "metadata": {},
   "source": [
    "By focusing on accuracy in the GridSearch, the results show strong performance in terms of precision and accuracy, achieving **95% accuracy and 80% precision**. However, this approach led to a slight decline in recall and F1-score, which were already suboptimal and have now worsened.\n",
    "\n",
    "To achieve a better balance between precision and recall, we should prioritize F1-score as the optimization metric in the GridSearch"
   ]
  },
  {
   "cell_type": "code",
   "execution_count": 115,
   "id": "a4dd8bb7",
   "metadata": {},
   "outputs": [
    {
     "name": "stdout",
     "output_type": "stream",
     "text": [
      "Best Parameters: {'algorithm': 'kd_tree', 'n_jobs': -1, 'n_neighbors': 5, 'weights': 'distance'}\n",
      "Best F1 Score: 0.24\n"
     ]
    }
   ],
   "source": [
    "# Define the hyperparameter grid\n",
    "from sklearn.model_selection import GridSearchCV\n",
    "\n",
    "param_grid = {\n",
    "    'n_neighbors': range(5, 50, 5),\n",
    "    'n_jobs' : [-1],\n",
    "    'weights': ['uniform', 'distance'],  \n",
    "    'algorithm': ['ball_tree', 'kd_tree'],   \n",
    "}\n",
    "\n",
    "# Initialize GridSearchCV\n",
    "grid_search = GridSearchCV(classifier, param_grid, cv=10, scoring=['precision', 'recall', 'f1', 'accuracy'], refit='f1', n_jobs=-1)\n",
    "\n",
    "# Fit the model\n",
    "grid_search.fit(training_inputs, training_classes)\n",
    "\n",
    "# Get the best parameters\n",
    "print(f'Best Parameters: {grid_search.best_params_}')\n",
    "print(f'Best F1 Score: {grid_search.best_score_:.2f}')"
   ]
  },
  {
   "cell_type": "code",
   "execution_count": 116,
   "id": "63d87161",
   "metadata": {},
   "outputs": [
    {
     "name": "stdout",
     "output_type": "stream",
     "text": [
      "Average Model Accuracy: 0.95\n",
      "Average Model Precision: 0.51\n",
      "Average Model Recall: 0.16\n",
      "Average Model f1_score: 0.24\n",
      "Average Testing time: 0.23\n",
      "Training time: 0.91\n"
     ]
    }
   ],
   "source": [
    "best_index = grid_search.best_index_\n",
    "\n",
    "add_model_results(\"KNN\", \"enhanced\", \n",
    "                 grid_search.cv_results_['mean_test_accuracy'][best_index],\n",
    "                 grid_search.cv_results_['mean_test_precision'][best_index].mean(),\n",
    "                 grid_search.cv_results_['mean_test_recall'][best_index].mean(),\n",
    "                 grid_search.cv_results_['mean_test_f1'][best_index].mean())\n",
    "\n",
    "print(f\"Average Model Accuracy: {grid_search.cv_results_['mean_test_accuracy'][best_index]:.2f}\")\n",
    "print(f\"Average Model Precision: {grid_search.cv_results_['mean_test_precision'][best_index].mean():.2f}\")\n",
    "print(f\"Average Model Recall: {grid_search.cv_results_['mean_test_recall'][best_index].mean():.2f}\")\n",
    "print(f\"Average Model f1_score: {grid_search.cv_results_['mean_test_f1'][best_index].mean():.2f}\")\n",
    "print(f\"Average Testing time: {grid_search.cv_results_['mean_score_time'][best_index].mean():.2f}\")\n",
    "print(f\"Training time: {grid_search.cv_results_['mean_fit_time'][best_index].mean():.2f}\")"
   ]
  },
  {
   "cell_type": "markdown",
   "id": "57e3c80c",
   "metadata": {},
   "source": [
    "The highest achievable **F1-score is only 24%**, likely due to the dataset's imbalance. While accuracy remains high, precision has declined. Despite these limitations, the algorithm shows potential for fraud detection once the imbalance issue is addressed, as it can achieve promising accuracy and precision—especially considering its simplicity. The imbalance problem will be explored in a later section."
   ]
  },
  {
   "cell_type": "markdown",
   "id": "09139966",
   "metadata": {},
   "source": [
    "### Enhanced Decision Tree\n",
    "\n",
    "The first results we will try to improve are the ones from the decision tree algorithm. We will use the improved feature set and set the class weight as balanced."
   ]
  },
  {
   "cell_type": "code",
   "execution_count": 117,
   "id": "786aa25c",
   "metadata": {},
   "outputs": [
    {
     "name": "stdout",
     "output_type": "stream",
     "text": [
      "Model Accuracy: 0.92\n",
      "Model Precision: 0.25\n",
      "Model recall: 0.25\n",
      "Model f1_score: 0.25\n",
      "Model confusion matrix: [[73452  3274]\n",
      " [ 3363  1097]]\n",
      "Testing time: 0.02\n",
      "Training time: 1.71\n"
     ]
    }
   ],
   "source": [
    "#Get the decision tree classifier\n",
    "classifier = DecisionTreeClassifier(class_weight=\"balanced\")\n",
    "\n",
    "init_time = time.time()\n",
    "#train the model with the training data\n",
    "classifier.fit(training_inputs, training_classes)\n",
    "training_time = time.time() - init_time\n",
    "\n",
    "init_time = time.time()\n",
    "#test the model with the testing data\n",
    "pred = classifier.predict(testing_inputs)\n",
    "testing_time = time.time() - init_time\n",
    "\n",
    "#Get the model results\n",
    "accuracy = accuracy_score(testing_classes, pred)\n",
    "precision = precision_score(testing_classes, pred)\n",
    "recall = recall_score(testing_classes, pred)\n",
    "f1= f1_score(testing_classes, pred)\n",
    "c_matrix = confusion_matrix(testing_classes, pred)\n",
    "\n",
    "print(f\"Model Accuracy: {accuracy:.2f}\")\n",
    "print(f\"Model Precision: {precision:.2f}\")\n",
    "print(f\"Model recall: {recall:.2f}\")\n",
    "print(f\"Model f1_score: {f1:.2f}\")\n",
    "print(f\"Model confusion matrix: {c_matrix}\")\n",
    "print(f\"Testing time: {testing_time:.2f}\")\n",
    "print(f\"Training time: {training_time:.2f}\")"
   ]
  },
  {
   "cell_type": "code",
   "execution_count": 118,
   "id": "530327d3",
   "metadata": {},
   "outputs": [
    {
     "name": "stdout",
     "output_type": "stream",
     "text": [
      "{'fit_time': array([2.01916742, 2.02625084, 1.92966151, 2.13210511, 1.93471098,\n",
      "       2.07576752, 2.06688666, 2.03818154, 2.23138022, 1.82201982]), 'score_time': array([0.0252223 , 0.02540469, 0.0232048 , 0.02571344, 0.02758193,\n",
      "       0.02242446, 0.02353835, 0.02424097, 0.0255065 , 0.02289391]), 'test_precision': array([0.2480983 , 0.26547619, 0.27935943, 0.24165708, 0.24472808,\n",
      "       0.26312785, 0.26336746, 0.23755009, 0.249859  , 0.26639102]), 'test_recall': array([0.23887324, 0.25112613, 0.2652027 , 0.23661972, 0.2484507 ,\n",
      "       0.25971831, 0.26084507, 0.23380282, 0.24957746, 0.25408451]), 'test_f1': array([0.24339839, 0.25810185, 0.27209705, 0.23911187, 0.24657534,\n",
      "       0.26141196, 0.2621002 , 0.23566156, 0.24971815, 0.26009227]), 'test_accuracy': array([0.91882987, 0.92104696, 0.92240185, 0.917688  , 0.91701053,\n",
      "       0.91978198, 0.91972039, 0.91710291, 0.91802673, 0.92098294])}\n",
      "Average Model Accuracy: 0.92\n",
      "Average Model Precision: 0.26\n",
      "Average Model Recall: 0.25\n",
      "Average Model f1_score: 0.25\n",
      "Average Testing time: 0.02\n",
      "Training time: 2.03\n"
     ]
    }
   ],
   "source": [
    "cv_decision_tree = cross_validate(classifier, inputs, labels, cv=10, scoring=['precision', 'recall', 'f1', 'accuracy'])\n",
    "\n",
    "print(cv_decision_tree)\n",
    "\n",
    "print(f\"Average Model Accuracy: {cv_decision_tree['test_accuracy'].mean():.2f}\")\n",
    "print(f\"Average Model Precision: {cv_decision_tree['test_precision'].mean():.2f}\")\n",
    "print(f\"Average Model Recall: {cv_decision_tree['test_recall'].mean():.2f}\")\n",
    "print(f\"Average Model f1_score: {cv_decision_tree['test_f1'].mean():.2f}\")\n",
    "print(f\"Average Testing time: {cv_decision_tree['score_time'].mean():.2f}\")\n",
    "print(f\"Training time: {cv_decision_tree['fit_time'].mean():.2f}\")"
   ]
  },
  {
   "cell_type": "markdown",
   "id": "07df8555",
   "metadata": {},
   "source": [
    "The results show that the improved data set is not impacting the results from decision tree algorithm. To help improve even more the results, we will going to perform a parameter tuning using gridSearchCV"
   ]
  },
  {
   "cell_type": "code",
   "execution_count": 119,
   "id": "5349410c",
   "metadata": {},
   "outputs": [
    {
     "name": "stdout",
     "output_type": "stream",
     "text": [
      "Best Parameters: {'class_weight': 'balanced', 'criterion': 'gini', 'max_features': 2, 'splitter': 'best'}\n",
      "Best Accuracy: 0.92\n"
     ]
    }
   ],
   "source": [
    "# Define the hyperparameter grid\n",
    "from sklearn.model_selection import GridSearchCV\n",
    "\n",
    "\n",
    "#we will not use limit depth because the best is the deepest in this dataset\n",
    "param_grid = {\n",
    "    'criterion': ['gini', 'entropy'],\n",
    "    'splitter': ['best', 'random'],\n",
    "    'max_features': [i for i in range(2,11)],\n",
    "    'class_weight' : [\"balanced\"]\n",
    "}\n",
    "\n",
    "# Initialize GridSearchCV\n",
    "grid_search = GridSearchCV(classifier, param_grid, cv=10, scoring=['precision', 'recall', 'f1', 'accuracy'], refit='accuracy', n_jobs=-1)\n",
    "\n",
    "# Fit the model\n",
    "grid_search.fit(training_inputs, training_classes)\n",
    "\n",
    "# Get the best parameters\n",
    "print(f'Best Parameters: {grid_search.best_params_}')\n",
    "print(f'Best Accuracy: {grid_search.best_score_:.2f}')"
   ]
  },
  {
   "cell_type": "code",
   "execution_count": 120,
   "id": "07794b39",
   "metadata": {},
   "outputs": [
    {
     "name": "stdout",
     "output_type": "stream",
     "text": [
      "Average Model Accuracy: 0.92\n",
      "Average Model Precision: 0.25\n",
      "Average Model Recall: 0.23\n",
      "Average Model f1_score: 0.24\n",
      "Average Testing time: 0.03\n",
      "Training time: 0.92\n"
     ]
    }
   ],
   "source": [
    "best_index = grid_search.best_index_\n",
    "\n",
    "print(f\"Average Model Accuracy: {grid_search.cv_results_['mean_test_accuracy'][best_index]:.2f}\")\n",
    "print(f\"Average Model Precision: {grid_search.cv_results_['mean_test_precision'][best_index].mean():.2f}\")\n",
    "print(f\"Average Model Recall: {grid_search.cv_results_['mean_test_recall'][best_index].mean():.2f}\")\n",
    "print(f\"Average Model f1_score: {grid_search.cv_results_['mean_test_f1'][best_index].mean():.2f}\")\n",
    "print(f\"Average Testing time: {grid_search.cv_results_['mean_score_time'][best_index].mean():.2f}\")\n",
    "print(f\"Training time: {grid_search.cv_results_['mean_fit_time'][best_index].mean():.2f}\")"
   ]
  },
  {
   "cell_type": "markdown",
   "id": "253e07db",
   "metadata": {},
   "source": [
    "Using the best possible parameters to get the highest accuracy possible the results were mostly the same. No significant improvements were achieved"
   ]
  },
  {
   "cell_type": "markdown",
   "id": "9e1767fc",
   "metadata": {},
   "source": [
    "To improve the fraud detection while mantaing low the number of false positives and negative, we can use as refit value the f1_score. The f1_score gives the balace between the precision and recall values"
   ]
  },
  {
   "cell_type": "code",
   "execution_count": 121,
   "id": "db152355",
   "metadata": {},
   "outputs": [
    {
     "name": "stdout",
     "output_type": "stream",
     "text": [
      "Best Parameters: {'class_weight': 'balanced', 'criterion': 'entropy', 'max_features': 9, 'splitter': 'best'}\n",
      "Best F1 Score: 0.25\n"
     ]
    }
   ],
   "source": [
    "param_grid = {\n",
    "    'criterion': ['gini', 'entropy'],\n",
    "    'splitter': ['best', 'random'],\n",
    "    'max_features': [i for i in range(2,11)],\n",
    "    'class_weight' : [\"balanced\"]\n",
    "}\n",
    "\n",
    "# Initialize GridSearchCV\n",
    "grid_search = GridSearchCV(classifier, param_grid, cv=10, scoring=['precision', 'recall', 'f1', 'accuracy'], refit='f1', n_jobs=-1)\n",
    "\n",
    "# Fit the model\n",
    "grid_search.fit(training_inputs, training_classes)\n",
    "\n",
    "# Get the best parameters\n",
    "print(f'Best Parameters: {grid_search.best_params_}')\n",
    "print(f'Best F1 Score: {grid_search.best_score_:.2f}')"
   ]
  },
  {
   "cell_type": "code",
   "execution_count": 124,
   "id": "ca651f16",
   "metadata": {},
   "outputs": [
    {
     "name": "stdout",
     "output_type": "stream",
     "text": [
      "Average Model Accuracy: 0.92\n",
      "Average Model Precision: 0.25\n",
      "Average Model Recall: 0.25\n",
      "Average Model f1_score: 0.25\n",
      "Average Testing time: 0.03\n",
      "Training time: 2.55\n"
     ]
    }
   ],
   "source": [
    "best_index = grid_search.best_index_\n",
    "\n",
    "add_model_results(\"Decision Tree\", \"enhanced\",\n",
    "                 grid_search.cv_results_['mean_test_accuracy'][best_index],\n",
    "                 grid_search.cv_results_['mean_test_precision'][best_index].mean(),\n",
    "                 grid_search.cv_results_['mean_test_recall'][best_index].mean(),\n",
    "                 grid_search.cv_results_['mean_test_f1'][best_index].mean())\n",
    "\n",
    "print(f\"Average Model Accuracy: {grid_search.cv_results_['mean_test_accuracy'][best_index]:.2f}\")\n",
    "print(f\"Average Model Precision: {grid_search.cv_results_['mean_test_precision'][best_index].mean():.2f}\")\n",
    "print(f\"Average Model Recall: {grid_search.cv_results_['mean_test_recall'][best_index].mean():.2f}\")\n",
    "print(f\"Average Model f1_score: {grid_search.cv_results_['mean_test_f1'][best_index].mean():.2f}\")\n",
    "print(f\"Average Testing time: {grid_search.cv_results_['mean_score_time'][best_index].mean():.2f}\")\n",
    "print(f\"Training time: {grid_search.cv_results_['mean_fit_time'][best_index].mean():.2f}\")"
   ]
  },
  {
   "cell_type": "markdown",
   "id": "b639dfda",
   "metadata": {},
   "source": [
    "We see that the best f1_score possible to obtain is 0.25 wich is very bad. Both the precision and recall are very low. After all the improvements, we can conclude that this dataset and problem may not be ideal for the Decision tree algorithm."
   ]
  },
  {
   "cell_type": "markdown",
   "id": "02a76472",
   "metadata": {},
   "source": [
    "### Enhanced Support Vector Machine\n",
    "\n",
    "Next we will try to improve the results given by the Support Vector Machine algorithm."
   ]
  },
  {
   "cell_type": "code",
   "execution_count": 125,
   "id": "6db6ddf4",
   "metadata": {},
   "outputs": [
    {
     "name": "stdout",
     "output_type": "stream",
     "text": [
      "Best parameters: {'C': 0.1, 'class_weight': 'balanced'}\n",
      "Best F1-score: 0.19169832283135313\n",
      "\n",
      "Cross-Validation Results on Best Model:\n",
      "CV Average Accuracy: 0.70 ± 0.00\n",
      "CV Average Precision: 0.11 ± 0.00\n",
      "CV Average Recall: 0.65 ± 0.01\n",
      "CV Average F1-Score: 0.19 ± 0.00\n",
      "CV Average Fit Time: 0.41 seconds\n",
      "\n",
      "Test Set Evaluation:\n",
      "Test Accuracy: 0.7\n",
      "Test Precision: 0.11\n",
      "Test Recall: 0.64\n",
      "Test F1-score: 0.19\n",
      "Confusion Matrix:\n",
      " [[54242 22484]\n",
      " [ 1610  2850]]\n"
     ]
    }
   ],
   "source": [
    "from sklearn.svm import LinearSVC\n",
    "from sklearn.model_selection import GridSearchCV, cross_validate\n",
    "from sklearn.preprocessing import StandardScaler\n",
    "from sklearn.metrics import accuracy_score, precision_score, recall_score, f1_score, confusion_matrix\n",
    "\n",
    "# Scale the data\n",
    "scaler = StandardScaler()\n",
    "training_inputs_scaled = scaler.fit_transform(training_inputs)\n",
    "testing_inputs_scaled = scaler.transform(testing_inputs)\n",
    "\n",
    "# Define parameter grid for LinearSVC\n",
    "param_grid = {\n",
    "    'C': [0.1, 1, 10],\n",
    "    'class_weight': ['balanced']\n",
    "}\n",
    "\n",
    "# Step 1: Grid search to find best parameters\n",
    "grid_search = GridSearchCV(\n",
    "    LinearSVC(max_iter=10000, random_state=1, class_weight=\"balanced\"),\n",
    "    param_grid,\n",
    "    cv=5,\n",
    "    scoring='f1',\n",
    "    n_jobs=-1\n",
    ")\n",
    "grid_search.fit(training_inputs_scaled, training_classes)\n",
    "\n",
    "print(\"Best parameters:\", grid_search.best_params_)\n",
    "print(\"Best F1-score:\", grid_search.best_score_)\n",
    "\n",
    "# Step 2: Get best model from grid search\n",
    "best_linear_svm = grid_search.best_estimator_\n",
    "\n",
    "# Step 3: Add cross-validation on the best model\n",
    "cv_results = cross_validate(\n",
    "    best_linear_svm,\n",
    "    training_inputs_scaled,\n",
    "    training_classes,\n",
    "    cv=10,\n",
    "    scoring=['precision', 'recall', 'f1', 'accuracy'],\n",
    "    n_jobs=-1\n",
    ")\n",
    "\n",
    "# Print cross-validation results\n",
    "print(\"\\nCross-Validation Results on Best Model:\")\n",
    "print(f\"CV Average Accuracy: {cv_results['test_accuracy'].mean():.2f} ± {cv_results['test_accuracy'].std():.2f}\")\n",
    "print(f\"CV Average Precision: {cv_results['test_precision'].mean():.2f} ± {cv_results['test_precision'].std():.2f}\")\n",
    "print(f\"CV Average Recall: {cv_results['test_recall'].mean():.2f} ± {cv_results['test_recall'].std():.2f}\")\n",
    "print(f\"CV Average F1-Score: {cv_results['test_f1'].mean():.2f} ± {cv_results['test_f1'].std():.2f}\")\n",
    "print(f\"CV Average Fit Time: {cv_results['fit_time'].mean():.2f} seconds\")\n",
    "\n",
    "\n",
    "# Step 4: Final evaluation on test set\n",
    "pred = best_linear_svm.predict(testing_inputs_scaled)\n",
    "print(\"\\nTest Set Evaluation:\")\n",
    "print(\"Test Accuracy:\", round(accuracy_score(testing_classes, pred), 2))\n",
    "print(\"Test Precision:\", round(precision_score(testing_classes, pred), 2))\n",
    "print(\"Test Recall:\", round(recall_score(testing_classes, pred), 2))\n",
    "print(\"Test F1-score:\", round(f1_score(testing_classes, pred), 2))\n",
    "print(\"Confusion Matrix:\\n\", confusion_matrix(testing_classes, pred))\n",
    "\n",
    "add_model_results(\"SVM\", \"enhanced\",\n",
    "                 accuracy_score(testing_classes, pred),\n",
    "                 precision_score(testing_classes, pred),\n",
    "                 recall_score(testing_classes, pred),\n",
    "                 f1_score(testing_classes, pred))"
   ]
  },
  {
   "cell_type": "markdown",
   "id": "0829fd63",
   "metadata": {},
   "source": [
    "We can see that the linear SVM can identify a good portion of fraudulent transactions (recall ≈ 0.64), but at cost at many false positives since the precision is very low. This is a normal trade-off in imbalanced datasets like ours."
   ]
  },
  {
   "cell_type": "markdown",
   "id": "ad77a55d",
   "metadata": {},
   "source": [
    "### Enhanced Logistic Regression\n",
    "\n",
    "Next we will try to improve the results given by the Logistic Regression algorithm, with class weighting and hyperparamenter tuning using grid search with cross-validation."
   ]
  },
  {
   "cell_type": "code",
   "execution_count": 126,
   "id": "42e75e2f",
   "metadata": {},
   "outputs": [
    {
     "name": "stdout",
     "output_type": "stream",
     "text": [
      "Best parameters: {'C': 0.1, 'class_weight': 'balanced'}\n",
      "Best F1-score: 0.19059881040923857\n",
      "\n",
      "Cross-Validation Results on Best Logistic Regression Model:\n",
      "CV Average Accuracy: 0.70 ± 0.00\n",
      "CV Average Precision: 0.11 ± 0.00\n",
      "CV Average Recall: 0.65 ± 0.01\n",
      "CV Average F1-Score: 0.19 ± 0.00\n",
      "CV Average Fit Time: 0.23 seconds\n",
      "\n",
      "Test Set Evaluation:\n",
      "Test Accuracy: 0.7\n",
      "Test Precision: 0.11\n",
      "Test Recall: 0.64\n",
      "Test F1-score: 0.19\n",
      "Confusion Matrix:\n",
      " [[53980 22746]\n",
      " [ 1590  2870]]\n",
      "Training time: 0.16 seconds\n",
      "Testing time: 0.00 seconds\n"
     ]
    }
   ],
   "source": [
    "from sklearn.linear_model import LogisticRegression\n",
    "from sklearn.model_selection import GridSearchCV, cross_validate\n",
    "from sklearn.preprocessing import StandardScaler\n",
    "from sklearn.metrics import accuracy_score, precision_score, recall_score, f1_score, confusion_matrix\n",
    "import time\n",
    "\n",
    "# Scale data\n",
    "scaler = StandardScaler()\n",
    "training_inputs_scaled = scaler.fit_transform(training_inputs)\n",
    "testing_inputs_scaled = scaler.transform(testing_inputs)\n",
    "\n",
    "# Define parameter grid for LogisticRegression\n",
    "param_grid = {\n",
    "    'C': [0.1, 1, 10],\n",
    "    'class_weight': ['balanced']\n",
    "}\n",
    "\n",
    "# grid search to find best parameters\n",
    "grid_search = GridSearchCV(\n",
    "    LogisticRegression(max_iter=10000, random_state=1),\n",
    "    param_grid,\n",
    "    cv=5,\n",
    "    scoring='f1',\n",
    "    n_jobs=-1\n",
    ")\n",
    "grid_search.fit(training_inputs_scaled, training_classes)\n",
    "\n",
    "print(\"Best parameters:\", grid_search.best_params_)\n",
    "print(\"Best F1-score:\", grid_search.best_score_)\n",
    "\n",
    "# get the best model from grid search\n",
    "best_logreg = grid_search.best_estimator_\n",
    "\n",
    "cv_results = cross_validate(\n",
    "    best_logreg,\n",
    "    training_inputs_scaled,\n",
    "    training_classes,\n",
    "    cv=10,\n",
    "    scoring=['precision', 'recall', 'f1', 'accuracy'],\n",
    "    n_jobs=-1\n",
    ")\n",
    "\n",
    "print(\"\\nCross-Validation Results on Best Logistic Regression Model:\")\n",
    "print(f\"CV Average Accuracy: {cv_results['test_accuracy'].mean():.2f} ± {cv_results['test_accuracy'].std():.2f}\")\n",
    "print(f\"CV Average Precision: {cv_results['test_precision'].mean():.2f} ± {cv_results['test_precision'].std():.2f}\")\n",
    "print(f\"CV Average Recall: {cv_results['test_recall'].mean():.2f} ± {cv_results['test_recall'].std():.2f}\")\n",
    "print(f\"CV Average F1-Score: {cv_results['test_f1'].mean():.2f} ± {cv_results['test_f1'].std():.2f}\")\n",
    "print(f\"CV Average Fit Time: {cv_results['fit_time'].mean():.2f} seconds\")\n",
    "\n",
    "# final evaluation on test set\n",
    "init_time = time.time()\n",
    "best_logreg.fit(training_inputs_scaled, training_classes)\n",
    "training_time = time.time() - init_time\n",
    "\n",
    "init_time = time.time()\n",
    "pred = best_logreg.predict(testing_inputs_scaled)\n",
    "testing_time = time.time() - init_time\n",
    "\n",
    "add_model_results(\"Logistic Regression\", \"enhanced\",\n",
    "                 accuracy_score(testing_classes, pred),\n",
    "                 precision_score(testing_classes, pred),\n",
    "                 recall_score(testing_classes, pred),\n",
    "                 f1_score(testing_classes, pred))\n",
    "\n",
    "print(\"\\nTest Set Evaluation:\")\n",
    "print(\"Test Accuracy:\", round(accuracy_score(testing_classes, pred), 2))\n",
    "print(\"Test Precision:\", round(precision_score(testing_classes, pred), 2))\n",
    "print(\"Test Recall:\", round(recall_score(testing_classes, pred), 2))\n",
    "print(\"Test F1-score:\", round(f1_score(testing_classes, pred), 2))\n",
    "print(\"Confusion Matrix:\\n\", confusion_matrix(testing_classes, pred))\n",
    "print(f\"Training time: {training_time:.2f} seconds\")\n",
    "print(f\"Testing time: {testing_time:.2f} seconds\")\n"
   ]
  },
  {
   "cell_type": "markdown",
   "id": "be7be602",
   "metadata": {},
   "source": [
    "With these enhancements:\n",
    "*    Recall improves dramatically (from 8% to 64%), showing that the model is now much better at detecting fraud.\n",
    "*    However, precision drops to 11%, meaning more false positives (legitimate transactions misclassified as fraud).\n",
    "*    Overall accuracy decreases to 70%, but F1-score increases, indicating a better trade-off between recall and precision."
   ]
  },
  {
   "cell_type": "markdown",
   "id": "3dc97c23",
   "metadata": {},
   "source": [
    "### Enhanced CatBoost Classifier\n",
    "\n",
    "Next we will try to improve the results given by the CatBoost Classifier algorithm."
   ]
  },
  {
   "cell_type": "code",
   "execution_count": 127,
   "id": "93545cf4",
   "metadata": {},
   "outputs": [
    {
     "name": "stdout",
     "output_type": "stream",
     "text": [
      "Fitting 3 folds for each of 16 candidates, totalling 48 fits\n",
      "Best parameters: {'class_weights': [1, 10], 'depth': 6, 'iterations': 200, 'learning_rate': 0.1}\n",
      "Best F1-score from GridSearchCV: 0.34535332146442865\n",
      "\n",
      "Cross-Validation Results on Best CatBoost Model:\n",
      "CV Average Accuracy: 0.88 ± 0.00\n",
      "CV Average Precision: 0.25 ± 0.00\n",
      "CV Average Recall: 0.55 ± 0.01\n",
      "CV Average F1-Score: 0.34 ± 0.00\n",
      "CV Average Fit Time: 16.77 seconds\n",
      "\n",
      "Test Set Evaluation:\n",
      "Test Accuracy: 0.88\n",
      "Test Precision: 0.25\n",
      "Test Recall: 0.57\n",
      "Test F1-score: 0.35\n",
      "Confusion Matrix:\n",
      " [[69267  7459]\n",
      " [ 1938  2522]]\n",
      "Training time (Grid Search + Fit): 88.76 seconds\n",
      "Testing time: 0.22 seconds\n"
     ]
    }
   ],
   "source": [
    "from catboost import CatBoostClassifier\n",
    "from sklearn.model_selection import GridSearchCV, cross_validate\n",
    "from sklearn.metrics import accuracy_score, precision_score, recall_score, f1_score, confusion_matrix\n",
    "import time\n",
    "\n",
    "# Define parameter grid for CatBoostClassifier\n",
    "param_grid = {\n",
    "    'iterations': [100, 200],\n",
    "    'learning_rate': [0.05, 0.1],\n",
    "    'depth': [4, 6],\n",
    "    'class_weights': [[1, 10], [1, 12]]\n",
    "}\n",
    "\n",
    "catboost_model = CatBoostClassifier(\n",
    "    random_seed=1,\n",
    "    verbose=0,\n",
    "    early_stopping_rounds=20,          # stop early if no improvement in 20 rounds\n",
    ")\n",
    "\n",
    "# grid search to find best parameters\n",
    "grid_search = GridSearchCV(\n",
    "    estimator=catboost_model,\n",
    "    param_grid=param_grid,\n",
    "    scoring='f1',\n",
    "    cv=3,\n",
    "    n_jobs=-1,\n",
    "    verbose=1\n",
    ")\n",
    "\n",
    "start_time = time.time()\n",
    "grid_search.fit(training_inputs, training_classes)\n",
    "training_time = time.time() - start_time\n",
    "\n",
    "print(\"Best parameters:\", grid_search.best_params_)\n",
    "print(\"Best F1-score from GridSearchCV:\", grid_search.best_score_)\n",
    "\n",
    "# get best model from grid search\n",
    "best_cb = grid_search.best_estimator_\n",
    "\n",
    "# add cross-validation on the best model\n",
    "cv_results = cross_validate(\n",
    "    best_cb,\n",
    "    training_inputs,\n",
    "    training_classes,\n",
    "    cv=5,\n",
    "    scoring=['precision', 'recall', 'f1', 'accuracy'],\n",
    "    n_jobs=-1\n",
    ")\n",
    "\n",
    "print(\"\\nCross-Validation Results on Best CatBoost Model:\")\n",
    "print(f\"CV Average Accuracy: {cv_results['test_accuracy'].mean():.2f} ± {cv_results['test_accuracy'].std():.2f}\")\n",
    "print(f\"CV Average Precision: {cv_results['test_precision'].mean():.2f} ± {cv_results['test_precision'].std():.2f}\")\n",
    "print(f\"CV Average Recall: {cv_results['test_recall'].mean():.2f} ± {cv_results['test_recall'].std():.2f}\")\n",
    "print(f\"CV Average F1-Score: {cv_results['test_f1'].mean():.2f} ± {cv_results['test_f1'].std():.2f}\")\n",
    "print(f\"CV Average Fit Time: {cv_results['fit_time'].mean():.2f} seconds\")\n",
    "\n",
    "# final evaluation on test set\n",
    "start_time = time.time()\n",
    "pred_cb = best_cb.predict(testing_inputs)\n",
    "testing_time = time.time() - start_time\n",
    "\n",
    "add_model_results(\"CatBoost\", \"enhanced\",\n",
    "                    accuracy_score(testing_classes, pred_cb),\n",
    "                    precision_score(testing_classes, pred_cb),\n",
    "                    recall_score(testing_classes, pred_cb),\n",
    "                    f1_score(testing_classes, pred_cb))\n",
    "\n",
    "print(\"\\nTest Set Evaluation:\")\n",
    "print(\"Test Accuracy:\", round(accuracy_score(testing_classes, pred_cb), 2))\n",
    "print(\"Test Precision:\", round(precision_score(testing_classes, pred_cb), 2))\n",
    "print(\"Test Recall:\", round(recall_score(testing_classes, pred_cb), 2))\n",
    "print(\"Test F1-score:\", round(f1_score(testing_classes, pred_cb), 2))\n",
    "print(\"Confusion Matrix:\\n\", confusion_matrix(testing_classes, pred_cb))\n",
    "print(f\"Training time (Grid Search + Fit): {training_time:.2f} seconds\")\n",
    "print(f\"Testing time: {testing_time:.2f} seconds\")\n"
   ]
  },
  {
   "cell_type": "markdown",
   "id": "75af4ecb",
   "metadata": {},
   "source": [
    "### Enhanced XGBoost Classifier\n",
    "\n",
    "Next we will try to improve the results given by the XGBoost Classifier algorithm."
   ]
  },
  {
   "cell_type": "code",
   "execution_count": 128,
   "id": "4fe3fe51",
   "metadata": {},
   "outputs": [
    {
     "name": "stdout",
     "output_type": "stream",
     "text": [
      "Fitting 3 folds for each of 108 candidates, totalling 324 fits\n",
      "Best parameters: {'colsample_bytree': 1.0, 'learning_rate': 0.01, 'max_depth': 6, 'n_estimators': 100, 'subsample': 1.0}\n",
      "Best F1-score: 0.3062168476658732\n",
      "\n",
      "Cross-Validation Results on Best Model:\n",
      "CV Average Accuracy: 0.85 ± 0.00\n",
      "CV Average Precision: 0.20 ± 0.01\n",
      "CV Average Recall: 0.62 ± 0.01\n",
      "CV Average F1-Score: 0.30 ± 0.01\n",
      "CV Average Fit Time: 2.08 seconds\n",
      "\n",
      "Test Set Evaluation:\n",
      "Test Accuracy: 0.84\n",
      "Test Precision: 0.2\n",
      "Test Recall: 0.63\n",
      "Test F1-score: 0.3\n",
      "Confusion Matrix:\n",
      " [[65394 11332]\n",
      " [ 1653  2807]]\n"
     ]
    }
   ],
   "source": [
    "from xgboost import XGBClassifier\n",
    "from sklearn.model_selection import GridSearchCV, cross_validate, StratifiedKFold\n",
    "from sklearn.metrics import accuracy_score, precision_score, recall_score, f1_score, confusion_matrix\n",
    "import numpy as np\n",
    "\n",
    "unique, counts = np.unique(training_classes, return_counts=True)\n",
    "scale_pos_weight = counts[0] / counts[1]\n",
    "\n",
    "# define parameter grid for XGBoost\n",
    "param_grid = {\n",
    "    'n_estimators': [100, 300, 500],\n",
    "    'learning_rate': [0.01, 0.05, 0.1],\n",
    "    'max_depth': [4, 6, 8],\n",
    "    'subsample': [0.8, 1.0],\n",
    "    'colsample_bytree': [0.8, 1.0]\n",
    "}\n",
    "\n",
    "# grid search to find best parameters\n",
    "xgb = XGBClassifier(\n",
    "    random_state=1,\n",
    "    scale_pos_weight=scale_pos_weight,\n",
    "    eval_metric='logloss',\n",
    "    use_label_encoder=False,\n",
    "    n_jobs=-1,\n",
    "    verbosity=0\n",
    ")\n",
    "\n",
    "cv = StratifiedKFold(n_splits=3, shuffle=True, random_state=1)\n",
    "\n",
    "grid_search = GridSearchCV(\n",
    "    estimator=xgb,\n",
    "    param_grid=param_grid,\n",
    "    scoring='f1',\n",
    "    cv=cv,\n",
    "    n_jobs=-1,\n",
    "    verbose=1\n",
    ")\n",
    "\n",
    "grid_search.fit(training_inputs, training_classes)\n",
    "\n",
    "print(\"Best parameters:\", grid_search.best_params_)\n",
    "print(\"Best F1-score:\", grid_search.best_score_)\n",
    "\n",
    "# get best model from grid search\n",
    "best_xgb = grid_search.best_estimator_\n",
    "\n",
    "# add cross-validation on the best model\n",
    "cv_5fold = StratifiedKFold(n_splits=5, shuffle=True, random_state=1)\n",
    "\n",
    "cv_results = cross_validate(\n",
    "    best_xgb,\n",
    "    training_inputs,\n",
    "    training_classes,\n",
    "    cv=cv_5fold,\n",
    "    scoring=['precision', 'recall', 'f1', 'accuracy'],\n",
    "    n_jobs=-1\n",
    ")\n",
    "\n",
    "print(\"\\nCross-Validation Results on Best Model:\")\n",
    "print(f\"CV Average Accuracy: {cv_results['test_accuracy'].mean():.2f} ± {cv_results['test_accuracy'].std():.2f}\")\n",
    "print(f\"CV Average Precision: {cv_results['test_precision'].mean():.2f} ± {cv_results['test_precision'].std():.2f}\")\n",
    "print(f\"CV Average Recall: {cv_results['test_recall'].mean():.2f} ± {cv_results['test_recall'].std():.2f}\")\n",
    "print(f\"CV Average F1-Score: {cv_results['test_f1'].mean():.2f} ± {cv_results['test_f1'].std():.2f}\")\n",
    "print(f\"CV Average Fit Time: {cv_results['fit_time'].mean():.2f} seconds\")\n",
    "\n",
    "# final evaluation on test set\n",
    "pred = best_xgb.predict(testing_inputs)\n",
    "\n",
    "add_model_results(\"XGBoost\", \"enhanced\",\n",
    "                 accuracy_score(testing_classes, pred),\n",
    "                 precision_score(testing_classes, pred),\n",
    "                 recall_score(testing_classes, pred),\n",
    "                 f1_score(testing_classes, pred))\n",
    "\n",
    "print(\"\\nTest Set Evaluation:\")\n",
    "print(\"Test Accuracy:\", round(accuracy_score(testing_classes, pred), 2))\n",
    "print(\"Test Precision:\", round(precision_score(testing_classes, pred), 2))\n",
    "print(\"Test Recall:\", round(recall_score(testing_classes, pred), 2))\n",
    "print(\"Test F1-score:\", round(f1_score(testing_classes, pred), 2))\n",
    "print(\"Confusion Matrix:\\n\", confusion_matrix(testing_classes, pred))\n"
   ]
  },
  {
   "cell_type": "markdown",
   "id": "57eee498",
   "metadata": {},
   "source": [
    "### Enhanced Random Forest Classifier\n",
    "\n",
    "Next we will try to improve the results given by the Random Forest Classifier algorithm."
   ]
  },
  {
   "cell_type": "code",
   "execution_count": 129,
   "id": "4134917a",
   "metadata": {},
   "outputs": [
    {
     "name": "stdout",
     "output_type": "stream",
     "text": [
      "Fitting 3 folds for each of 36 candidates, totalling 108 fits\n",
      "Best parameters: {'class_weight': 'balanced', 'max_depth': 20, 'min_samples_leaf': 2, 'min_samples_split': 5, 'n_estimators': 300}\n",
      "Best F1-score from GridSearch: 0.3617090329227752\n",
      "\n",
      "Cross-Validation Results on Best Random Forest Model:\n",
      "CV Average Accuracy: 0.93 ± 0.00\n",
      "CV Average Precision: 0.39 ± 0.01\n",
      "CV Average Recall: 0.35 ± 0.01\n",
      "CV Average F1-Score: 0.36 ± 0.01\n",
      "CV Average Fit Time: 95.23 seconds\n",
      "\n",
      "Test Set Evaluation:\n",
      "Test Accuracy: 0.93\n",
      "Test Precision: 0.38\n",
      "Test Recall: 0.36\n",
      "Test F1-score: 0.37\n",
      "Confusion Matrix:\n",
      " [[74136  2590]\n",
      " [ 2850  1610]]\n",
      "Training time (Grid Search + Fit): 1613.30 seconds\n",
      "Testing time: 0.88 seconds\n"
     ]
    }
   ],
   "source": [
    "from sklearn.ensemble import RandomForestClassifier\n",
    "from sklearn.model_selection import GridSearchCV, cross_validate, StratifiedKFold\n",
    "from sklearn.metrics import accuracy_score, precision_score, recall_score, f1_score, confusion_matrix\n",
    "import time\n",
    "import numpy as np\n",
    "\n",
    "# define parameter grid for RandomForest\n",
    "param_grid = {\n",
    "    'n_estimators': [100, 300, 500],\n",
    "    'max_depth': [None, 10, 20],\n",
    "    'min_samples_split': [2, 5],\n",
    "    'min_samples_leaf': [1, 2],\n",
    "    'class_weight': ['balanced']\n",
    "}\n",
    "\n",
    "# setup RandomForestClassifier\n",
    "rf = RandomForestClassifier(\n",
    "    random_state=1,\n",
    "    n_jobs=-1\n",
    ")\n",
    "\n",
    "cv = StratifiedKFold(n_splits=3, shuffle=True, random_state=1)\n",
    "\n",
    "# grid search for best hyperparameters\n",
    "grid_search = GridSearchCV(\n",
    "    estimator=rf,\n",
    "    param_grid=param_grid,\n",
    "    scoring='f1',\n",
    "    cv=cv,\n",
    "    n_jobs=-1,\n",
    "    verbose=1\n",
    ")\n",
    "\n",
    "start_time = time.time()\n",
    "grid_search.fit(training_inputs, training_classes)\n",
    "training_time_grid = time.time() - start_time\n",
    "\n",
    "print(\"Best parameters:\", grid_search.best_params_)\n",
    "print(\"Best F1-score from GridSearch:\", grid_search.best_score_)\n",
    "\n",
    "# get best model from grid search\n",
    "best_rf = grid_search.best_estimator_\n",
    "\n",
    "# cross-validation on the best model (5 folds)\n",
    "cv_5fold = StratifiedKFold(n_splits=5, shuffle=True, random_state=1)\n",
    "\n",
    "cv_results = cross_validate(\n",
    "    best_rf,\n",
    "    training_inputs,\n",
    "    training_classes,\n",
    "    cv=cv_5fold,\n",
    "    scoring=['precision', 'recall', 'f1', 'accuracy'],\n",
    "    n_jobs=-1\n",
    ")\n",
    "\n",
    "print(\"\\nCross-Validation Results on Best Random Forest Model:\")\n",
    "print(f\"CV Average Accuracy: {cv_results['test_accuracy'].mean():.2f} ± {cv_results['test_accuracy'].std():.2f}\")\n",
    "print(f\"CV Average Precision: {cv_results['test_precision'].mean():.2f} ± {cv_results['test_precision'].std():.2f}\")\n",
    "print(f\"CV Average Recall: {cv_results['test_recall'].mean():.2f} ± {cv_results['test_recall'].std():.2f}\")\n",
    "print(f\"CV Average F1-Score: {cv_results['test_f1'].mean():.2f} ± {cv_results['test_f1'].std():.2f}\")\n",
    "print(f\"CV Average Fit Time: {cv_results['fit_time'].mean():.2f} seconds\")\n",
    "\n",
    "# final evaluation on test set\n",
    "start_time = time.time()\n",
    "pred = best_rf.predict(testing_inputs)\n",
    "testing_time = time.time() - start_time\n",
    "\n",
    "add_model_results(\"Random Forest\", \"enhanced\",accuracy_score(testing_classes, pred),\n",
    "                 precision_score(testing_classes, pred),\n",
    "                 recall_score(testing_classes, pred),\n",
    "                 f1_score(testing_classes, pred))\n",
    "\n",
    "print(\"\\nTest Set Evaluation:\")\n",
    "print(\"Test Accuracy:\", round(accuracy_score(testing_classes, pred), 2))\n",
    "print(\"Test Precision:\", round(precision_score(testing_classes, pred), 2))\n",
    "print(\"Test Recall:\", round(recall_score(testing_classes, pred), 2))\n",
    "print(\"Test F1-score:\", round(f1_score(testing_classes, pred), 2))\n",
    "print(\"Confusion Matrix:\\n\", confusion_matrix(testing_classes, pred))\n",
    "print(f\"Training time (Grid Search + Fit): {training_time_grid:.2f} seconds\")\n",
    "print(f\"Testing time: {testing_time:.2f} seconds\")\n"
   ]
  },
  {
   "cell_type": "markdown",
   "id": "1560e805",
   "metadata": {},
   "source": [
    "### Balanced Dataset\n",
    "\n",
    "Our dataset has a lot of non-fraudulent transactions and a lot of lines, this makes it really hard and slow for the algorithms to achieve good results.\n",
    "\n",
    "This significant class imbalance means that most machine learning models tend to favor the majority class (legitimate transactions), resulting in high accuracy but poor recall for fraudulent cases. As a consequence, the models may fail to detect many fraudulent transactions, which is critical in a fraud detection context.\n",
    "\n",
    "To address this, we will apply data balancing techniques. These include:\n",
    "- **Undersampling** the majority class to reduce its dominance (this is the procedure we took),\n",
    "- **Oversampling** the minority class (fraudulent transactions) using methods like SMOTE,\n",
    "- Or a combination of both.\n",
    "\n",
    "By balancing the dataset, we aim to provide the algorithms with a more representative sample of both classes, improving their ability to detect fraud while maintaining reasonable performance on legitimate transactions. This step is essential for building robust and fair fraud detection models."
   ]
  },
  {
   "cell_type": "code",
   "execution_count": 130,
   "id": "d2352c72",
   "metadata": {},
   "outputs": [
    {
     "name": "stdout",
     "output_type": "stream",
     "text": [
      "Is Fraudulent\n",
      "0    17752\n",
      "1    17752\n",
      "Name: count, dtype: int64\n"
     ]
    }
   ],
   "source": [
    "# Separate fraudulent and non-fraudulent transactions\n",
    "fraud = merged_data[merged_data['Is Fraudulent'] == 1]\n",
    "non_fraud = merged_data[merged_data['Is Fraudulent'] == 0]\n",
    "\n",
    "# Randomly sample non-fraudulent transactions to match the number of fraudulent ones\n",
    "non_fraud_sampled = non_fraud.sample(n=len(fraud), random_state=42)\n",
    "\n",
    "# Concatenate the two to form a balanced dataset\n",
    "balanced_data = pd.concat([fraud, non_fraud_sampled])\n",
    "\n",
    "# Shuffle the balanced dataset\n",
    "balanced_data = balanced_data.sample(frac=1, random_state=42).reset_index(drop=True)\n",
    "\n",
    "# Check the new class distribution\n",
    "print(balanced_data['Is Fraudulent'].value_counts())\n"
   ]
  },
  {
   "cell_type": "code",
   "execution_count": 131,
   "id": "a983a4df",
   "metadata": {},
   "outputs": [],
   "source": [
    "\n",
    "balanced_data['Transaction Date'] = pd.to_datetime(balanced_data['Transaction Date'])\n",
    "balanced_data['Transaction Month'] = balanced_data['Transaction Date'].dt.month\n",
    "balanced_data['Transaction Day'] = balanced_data['Transaction Date'].dt.day\n",
    "balanced_data['Transaction Hour'] = balanced_data['Transaction Date'].dt.hour\n",
    "\n",
    "\n",
    "from sklearn.preprocessing import LabelEncoder\n",
    "label_encoder = LabelEncoder()\n",
    "balanced_data['Payment Method Encoded'] = label_encoder.fit_transform(balanced_data['Payment Method'])\n",
    "balanced_data['Product Category Encoded'] = label_encoder.fit_transform(balanced_data['Product Category'])\n",
    "balanced_data['Customer Location Encoded'] = label_encoder.fit_transform(balanced_data['Customer Location'])\n",
    "balanced_data['Device Used Encoded'] = label_encoder.fit_transform(balanced_data['Device Used'])\n",
    "\n",
    "\n",
    "#Selected features previously (best 5)\n",
    "X = balanced_data[selected_features_names].values\n",
    "y = balanced_data[\"Is Fraudulent\"].values\n",
    "\n",
    "\n",
    "from sklearn.model_selection import train_test_split\n",
    "from sklearn.preprocessing import StandardScaler\n",
    "X_train, X_test, y_train, y_test = train_test_split(X, y, test_size=0.25, random_state=1)\n",
    "scaler = StandardScaler()\n",
    "X_train_scaled = scaler.fit_transform(X_train)\n",
    "X_test_scaled = scaler.transform(X_test)"
   ]
  },
  {
   "cell_type": "markdown",
   "id": "c6c596a6",
   "metadata": {},
   "source": [
    "### K-Nearest Neighbors with Balanced Dataset\n",
    "\n",
    "Using the balanced dataset, we will try to improve the previous results obtained with the **K-Nearest Neighbors** algorithm.\n",
    "\n",
    "We will use only GridSearch to perform this improvement because it gives more consistent results. We are also only focusing in the f1 score as the refit because, as we saw before, it gives the best balance between precision and recall."
   ]
  },
  {
   "cell_type": "code",
   "execution_count": 132,
   "id": "f49abfe4",
   "metadata": {},
   "outputs": [
    {
     "name": "stdout",
     "output_type": "stream",
     "text": [
      "Best Parameters: {'algorithm': 'ball_tree', 'n_jobs': -1, 'n_neighbors': 40, 'weights': 'distance'}\n",
      "Best F1 Score: 0.69\n",
      "Average Model Accuracy: 0.71\n",
      "Average Model Precision: 0.76\n",
      "Average Model Recall: 0.63\n",
      "Average Model f1_score: 0.69\n",
      "Average Testing time: 0.51\n",
      "Training time: 0.07\n"
     ]
    }
   ],
   "source": [
    "classifier = KNeighborsClassifier(n_neighbors=5,n_jobs=-1)\n",
    "\n",
    "param_grid = {\n",
    "    'n_neighbors': range(5, 50, 5),\n",
    "    'n_jobs' : [-1],\n",
    "    'weights': ['uniform', 'distance'],  \n",
    "    'algorithm': ['ball_tree', 'kd_tree'],   \n",
    "}\n",
    "\n",
    "# Initialize GridSearchCV\n",
    "grid_search = GridSearchCV(classifier, param_grid, cv=10, scoring=['precision', 'recall', 'f1', 'accuracy'], refit='f1', n_jobs=-1)\n",
    "\n",
    "# Fit the model\n",
    "grid_search.fit(X_train_scaled, y_train)\n",
    "\n",
    "# Get the best parameters\n",
    "print(f'Best Parameters: {grid_search.best_params_}')\n",
    "print(f'Best F1 Score: {grid_search.best_score_:.2f}')\n",
    "\n",
    "add_model_results(\"KNN\", \"balanced\",\n",
    "                 grid_search.best_score_,\n",
    "                 grid_search.cv_results_['mean_test_precision'][grid_search.best_index_].mean(),\n",
    "                 grid_search.cv_results_['mean_test_recall'][grid_search.best_index_].mean(),\n",
    "                 grid_search.cv_results_['mean_test_f1'][grid_search.best_index_].mean())\n",
    "\n",
    "best_index = grid_search.best_index_\n",
    "print(f\"Average Model Accuracy: {grid_search.cv_results_['mean_test_accuracy'][best_index]:.2f}\")\n",
    "print(f\"Average Model Precision: {grid_search.cv_results_['mean_test_precision'][best_index].mean():.2f}\")\n",
    "print(f\"Average Model Recall: {grid_search.cv_results_['mean_test_recall'][best_index].mean():.2f}\")\n",
    "print(f\"Average Model f1_score: {grid_search.cv_results_['mean_test_f1'][best_index].mean():.2f}\")\n",
    "print(f\"Average Testing time: {grid_search.cv_results_['mean_score_time'][best_index].mean():.2f}\")\n",
    "print(f\"Training time: {grid_search.cv_results_['mean_fit_time'][best_index].mean():.2f}\")"
   ]
  },
  {
   "cell_type": "markdown",
   "id": "410d18b9",
   "metadata": {},
   "source": [
    "As we can see, the **results have improved**, particularly in terms of **recall(63%) and F1-score(69%)**, allowing the model to more accurately identify fraudulent transactions. However, accuracy has decreased due to the dataset being smaller and more balanced. Previously, the model favored non-fraudulent transactions because they were the majority, which resulted in a higher overall accuracy"
   ]
  },
  {
   "cell_type": "markdown",
   "id": "3df2669a",
   "metadata": {},
   "source": [
    "### Decision Tree with Balanced Dataset\n",
    "\n",
    "Next, we will attempt to enhance the performance of the **Decision Tree** algorithm using the balanced dataset, following the same approach applied to **k-Nearest Neighbors**."
   ]
  },
  {
   "cell_type": "code",
   "execution_count": 133,
   "id": "4d60b5f3",
   "metadata": {},
   "outputs": [
    {
     "name": "stdout",
     "output_type": "stream",
     "text": [
      "Best Parameters: {'class_weight': 'balanced', 'criterion': 'gini', 'max_features': 10, 'splitter': 'best'}\n",
      "Best F1 Score: 0.64\n",
      "Average Model Accuracy: 0.63\n",
      "Average Model Precision: 0.63\n",
      "Average Model Recall: 0.64\n",
      "Average Model f1_score: 0.64\n",
      "Average Testing time: 0.01\n",
      "Training time: 0.15\n"
     ]
    }
   ],
   "source": [
    "classifier = DecisionTreeClassifier(class_weight=\"balanced\")\n",
    "param_grid = {\n",
    "    'criterion': ['gini', 'entropy'],\n",
    "    'splitter': ['best', 'random'],\n",
    "    'max_features': [i for i in range(2,11)],\n",
    "    'class_weight' : [\"balanced\"]\n",
    "}\n",
    "\n",
    "# Initialize GridSearchCV\n",
    "grid_search = GridSearchCV(classifier, param_grid, cv=10, scoring=['precision', 'recall', 'f1', 'accuracy'], refit='f1', n_jobs=-1)\n",
    "\n",
    "# Fit the model\n",
    "grid_search.fit(X_train_scaled, y_train)\n",
    "\n",
    "# Get the best parameters\n",
    "print(f'Best Parameters: {grid_search.best_params_}')\n",
    "print(f'Best F1 Score: {grid_search.best_score_:.2f}')\n",
    "\n",
    "add_model_results(\"Decision Tree\", \"balanced\",\n",
    "                 grid_search.best_score_,\n",
    "                 grid_search.cv_results_['mean_test_precision'][grid_search.best_index_].mean(),\n",
    "                 grid_search.cv_results_['mean_test_recall'][grid_search.best_index_].mean(),\n",
    "                 grid_search.cv_results_['mean_test_f1'][grid_search.best_index_].mean())\n",
    "\n",
    "best_index = grid_search.best_index_\n",
    "print(f\"Average Model Accuracy: {grid_search.cv_results_['mean_test_accuracy'][best_index]:.2f}\")\n",
    "print(f\"Average Model Precision: {grid_search.cv_results_['mean_test_precision'][best_index].mean():.2f}\")\n",
    "print(f\"Average Model Recall: {grid_search.cv_results_['mean_test_recall'][best_index].mean():.2f}\")\n",
    "print(f\"Average Model f1_score: {grid_search.cv_results_['mean_test_f1'][best_index].mean():.2f}\")\n",
    "print(f\"Average Testing time: {grid_search.cv_results_['mean_score_time'][best_index].mean():.2f}\")\n",
    "print(f\"Training time: {grid_search.cv_results_['mean_fit_time'][best_index].mean():.2f}\")"
   ]
  },
  {
   "cell_type": "markdown",
   "id": "20efda3f",
   "metadata": {},
   "source": [
    "The results show a significant improvement in **precision (63%)**, **recall (64%)**, and **F1-score (64%)**. However, similar to the K-Nearest Neighbors algorithm, **accuracy has dropped to 63%**. The reason behind this decline remains the same as in the KNN model—the dataset's characteristics favor precision and recall at the expense of accuracy. The key difference is that the Decision Tree algorithm performs worse overall, indicating that it may not be the best choice for this problem "
   ]
  },
  {
   "cell_type": "markdown",
   "id": "8fa2b817",
   "metadata": {},
   "source": [
    "### SVM with Balanced Dataset\n",
    "Now we will try Support Vector Machine again, with all its enhancements, but using a balanced dataset.\n",
    "\n",
    "First, we need to encode the categorical variables in the balanced dataset, select the relevant features, split the data, scale it, and then train and evaluate the SVM model:"
   ]
  },
  {
   "cell_type": "code",
   "execution_count": 136,
   "id": "244d410e",
   "metadata": {},
   "outputs": [
    {
     "name": "stderr",
     "output_type": "stream",
     "text": [
      "c:\\Users\\Utilizador\\AppData\\Local\\Programs\\Python\\Python310\\lib\\site-packages\\sklearn\\svm\\_base.py:305: ConvergenceWarning: Solver terminated early (max_iter=40000).  Consider pre-processing your data with StandardScaler or MinMaxScaler.\n",
      "  warnings.warn(\n"
     ]
    },
    {
     "name": "stdout",
     "output_type": "stream",
     "text": [
      "Best parameters: {'C': 10, 'class_weight': 'balanced'}\n",
      "Best F1-score: 0.6806842505989728\n",
      "\n",
      "Cross-Validation Results on Best Model:\n",
      "CV Average Accuracy: 0.72 ± 0.01\n",
      "CV Average Precision: 0.80 ± 0.01\n",
      "CV Average Recall: 0.59 ± 0.02\n",
      "CV Average F1-Score: 0.68 ± 0.01\n",
      "CV Average Fit Time: 25.00 seconds\n",
      "Test Accuracy: 0.72\n",
      "Test Precision: 0.79\n",
      "Test Recall: 0.58\n",
      "Test F1-score: 0.67\n",
      "Confusion Matrix:\n",
      " [[3849  673]\n",
      " [1823 2531]]\n"
     ]
    }
   ],
   "source": [
    "# SVM with GridSearchCV\n",
    "from sklearn.svm import SVC\n",
    "from sklearn.model_selection import GridSearchCV\n",
    "from sklearn.metrics import accuracy_score, precision_score, recall_score, f1_score, confusion_matrix\n",
    "\n",
    "param_grid = {\n",
    "    'C': [0.1, 1, 10],\n",
    "    'class_weight': ['balanced']\n",
    "}\n",
    "\n",
    "grid_search = GridSearchCV(\n",
    "    SVC(max_iter=40000, random_state=1, class_weight=\"balanced\"),\n",
    "    param_grid,\n",
    "    cv=5,\n",
    "    scoring='f1',\n",
    "    n_jobs=-1\n",
    ")\n",
    "grid_search.fit(X_train_scaled, y_train)\n",
    "\n",
    "print(\"Best parameters:\", grid_search.best_params_)\n",
    "print(\"Best F1-score:\", grid_search.best_score_)\n",
    "\n",
    "best_linear_svm = grid_search.best_estimator_\n",
    "\n",
    "cv_results = cross_validate(\n",
    "    best_linear_svm,\n",
    "    X_train_scaled,  # CORRECT: Use balanced dataset's training data\n",
    "    y_train,         # CORRECT: Use balanced dataset's training labels\n",
    "    cv=10,\n",
    "    scoring=['precision', 'recall', 'f1', 'accuracy'],\n",
    "    n_jobs=-1\n",
    ")\n",
    "\n",
    "# Print cross-validation results\n",
    "print(\"\\nCross-Validation Results on Best Model:\")\n",
    "print(f\"CV Average Accuracy: {cv_results['test_accuracy'].mean():.2f} ± {cv_results['test_accuracy'].std():.2f}\")\n",
    "print(f\"CV Average Precision: {cv_results['test_precision'].mean():.2f} ± {cv_results['test_precision'].std():.2f}\")\n",
    "print(f\"CV Average Recall: {cv_results['test_recall'].mean():.2f} ± {cv_results['test_recall'].std():.2f}\")\n",
    "print(f\"CV Average F1-Score: {cv_results['test_f1'].mean():.2f} ± {cv_results['test_f1'].std():.2f}\")\n",
    "print(f\"CV Average Fit Time: {cv_results['fit_time'].mean():.2f} seconds\")\n",
    "\n",
    "# Final evaluation on test set\n",
    "pred = best_linear_svm.predict(X_test_scaled)\n",
    "print(\"Test Accuracy:\", round(accuracy_score(y_test, pred), 2))\n",
    "print(\"Test Precision:\", round(precision_score(y_test, pred), 2))\n",
    "print(\"Test Recall:\", round(recall_score(y_test, pred), 2))\n",
    "print(\"Test F1-score:\", round(f1_score(y_test, pred), 2))\n",
    "print(\"Confusion Matrix:\\n\", confusion_matrix(y_test, pred))\n",
    "\n",
    "add_model_results(\"SVM (Non Linear)\", \"balanced\", round(accuracy_score(y_test, pred), 2),\n",
    "                 round(precision_score(y_test, pred), 2),\n",
    "                 round(recall_score(y_test, pred), 2),\n",
    "                 round(f1_score(y_test, pred), 2))"
   ]
  },
  {
   "cell_type": "markdown",
   "id": "f838bf85",
   "metadata": {},
   "source": [
    "As we can see, using the balanced dataset leads to a significant improvement in the model's ability to detect fraudulent transactions. The SVM achieves a much higher **F1-score (0.67)** compared to previous results with the imbalanced data, indicating a better balance between **precision (0.79) and recall (0.58)**. This means the model is now more effective at identifying fraud while still maintaining a reasonable rate of false positives. The overall **accuracy (0.72) is slightly lower** than with the imbalanced dataset, but this is expected and acceptable, as the main goal in fraud detection is to maximize the detection of fraudulent cases. These results demonstrate that balancing the dataset is a crucial step for building robust and fair fraud detection models."
   ]
  },
  {
   "cell_type": "markdown",
   "id": "84b7f44f",
   "metadata": {},
   "source": [
    "### SVM with balanced dataset (LinearSVM)"
   ]
  },
  {
   "cell_type": "code",
   "execution_count": 137,
   "id": "15a418b1",
   "metadata": {},
   "outputs": [
    {
     "name": "stdout",
     "output_type": "stream",
     "text": [
      "Best parameters: {'C': 0.1, 'class_weight': 'balanced'}\n",
      "Best F1-score: 0.6605150151918794\n",
      "\n",
      "Cross-Validation Results on Best Model:\n",
      "CV Average Accuracy: 0.67 ± 0.01\n",
      "CV Average Precision: 0.68 ± 0.01\n",
      "CV Average Recall: 0.64 ± 0.02\n",
      "CV Average F1-Score: 0.66 ± 0.01\n",
      "CV Average Fit Time: 0.04 seconds\n",
      "\n",
      "Test Set Evaluation:\n",
      "Test Accuracy: 0.67\n",
      "Test Precision: 0.68\n",
      "Test Recall: 0.63\n",
      "Test F1-score: 0.65\n",
      "Confusion Matrix:\n",
      " [[3206 1316]\n",
      " [1611 2743]]\n"
     ]
    }
   ],
   "source": [
    "# SVM with GridSearchCV (LinearSVC)\n",
    "from sklearn.svm import LinearSVC\n",
    "from sklearn.model_selection import GridSearchCV, cross_validate\n",
    "from sklearn.metrics import accuracy_score, precision_score, recall_score, f1_score, confusion_matrix\n",
    "\n",
    "param_grid = {\n",
    "    'C': [0.1, 1, 10],\n",
    "    'class_weight': ['balanced']\n",
    "}\n",
    "\n",
    "# Step 1: Create and fit GridSearchCV\n",
    "grid_search = GridSearchCV(\n",
    "    LinearSVC(max_iter=40000, random_state=1, class_weight=\"balanced\"),\n",
    "    param_grid,\n",
    "    cv=5,\n",
    "    scoring='f1',\n",
    "    n_jobs=-1\n",
    ")\n",
    "grid_search.fit(X_train_scaled, y_train)\n",
    "\n",
    "# Step 2: Get best model from grid search\n",
    "best_linear_svm = grid_search.best_estimator_\n",
    "\n",
    "print(\"Best parameters:\", grid_search.best_params_)\n",
    "print(\"Best F1-score:\", grid_search.best_score_)\n",
    "\n",
    "# Step 3: Add cross-validation on the best model (now that it's defined)\n",
    "cv_results = cross_validate(\n",
    "    best_linear_svm,\n",
    "    X_train_scaled,  # Use the balanced dataset's training data\n",
    "    y_train,         # Use the balanced dataset's training labels\n",
    "    cv=10,\n",
    "    scoring=['precision', 'recall', 'f1', 'accuracy'],\n",
    "    n_jobs=-1\n",
    ")\n",
    "\n",
    "# Print cross-validation results\n",
    "print(\"\\nCross-Validation Results on Best Model:\")\n",
    "print(f\"CV Average Accuracy: {cv_results['test_accuracy'].mean():.2f} ± {cv_results['test_accuracy'].std():.2f}\")\n",
    "print(f\"CV Average Precision: {cv_results['test_precision'].mean():.2f} ± {cv_results['test_precision'].std():.2f}\")\n",
    "print(f\"CV Average Recall: {cv_results['test_recall'].mean():.2f} ± {cv_results['test_recall'].std():.2f}\")\n",
    "print(f\"CV Average F1-Score: {cv_results['test_f1'].mean():.2f} ± {cv_results['test_f1'].std():.2f}\")\n",
    "print(f\"CV Average Fit Time: {cv_results['fit_time'].mean():.2f} seconds\")\n",
    "\n",
    "add_model_results(\"SVM\", \"balanced\",\n",
    "                 accuracy_score(y_test, pred),\n",
    "                 precision_score(y_test, pred),\n",
    "                 recall_score(y_test, pred),\n",
    "                 f1_score(y_test, pred))\n",
    "\n",
    "# Final evaluation on test set\n",
    "pred = best_linear_svm.predict(X_test_scaled)\n",
    "print(\"\\nTest Set Evaluation:\")\n",
    "print(\"Test Accuracy:\", round(accuracy_score(y_test, pred), 2))\n",
    "print(\"Test Precision:\", round(precision_score(y_test, pred), 2))\n",
    "print(\"Test Recall:\", round(recall_score(y_test, pred), 2))\n",
    "print(\"Test F1-score:\", round(f1_score(y_test, pred), 2))\n",
    "print(\"Confusion Matrix:\\n\", confusion_matrix(y_test, pred))"
   ]
  },
  {
   "cell_type": "markdown",
   "id": "1e2eb0b7",
   "metadata": {},
   "source": [
    "### Logistic Regression with Balanced Dataset"
   ]
  },
  {
   "cell_type": "code",
   "execution_count": 138,
   "id": "7eda1f6c",
   "metadata": {},
   "outputs": [
    {
     "name": "stdout",
     "output_type": "stream",
     "text": [
      "Best parameters: {'C': 0.1, 'class_weight': 'balanced'}\n",
      "Best F1-score: 0.6580929224949794\n",
      "\n",
      "Cross-Validation Results on Best Logistic Regression Model:\n",
      "CV Average Accuracy: 0.67 ± 0.01\n",
      "CV Average Precision: 0.68 ± 0.01\n",
      "CV Average Recall: 0.64 ± 0.02\n",
      "CV Average F1-Score: 0.66 ± 0.01\n",
      "CV Average Fit Time: 0.03 seconds\n",
      "\n",
      "Test Set Evaluation:\n",
      "Test Accuracy: 0.67\n",
      "Test Precision: 0.67\n",
      "Test Recall: 0.63\n",
      "Test F1-score: 0.65\n",
      "Confusion Matrix:\n",
      " [[3202 1320]\n",
      " [1615 2739]]\n",
      "Training time: 0.03 seconds\n",
      "Testing time: 0.00 seconds\n"
     ]
    }
   ],
   "source": [
    "from sklearn.linear_model import LogisticRegression\n",
    "from sklearn.model_selection import GridSearchCV, cross_validate\n",
    "from sklearn.metrics import accuracy_score, precision_score, recall_score, f1_score, confusion_matrix\n",
    "from sklearn.preprocessing import StandardScaler\n",
    "import time\n",
    "\n",
    "\n",
    "# scale features\n",
    "scaler = StandardScaler()\n",
    "X_train_scaled = scaler.fit_transform(X_train)\n",
    "X_test_scaled = scaler.transform(X_test)\n",
    "\n",
    "# define param grid (with class_weight balanced)\n",
    "param_grid = {\n",
    "    'C': [0.1, 1, 10],\n",
    "    'class_weight': ['balanced']\n",
    "}\n",
    "\n",
    "# initialize GridSearchCV with LogisticRegression\n",
    "grid_search = GridSearchCV(\n",
    "    LogisticRegression(max_iter=10000, random_state=1),\n",
    "    param_grid,\n",
    "    cv=5,\n",
    "    scoring='f1',\n",
    "    n_jobs=-1\n",
    ")\n",
    "\n",
    "# fit GridSearch on training data\n",
    "grid_search.fit(X_train_scaled, y_train)\n",
    "\n",
    "print(\"Best parameters:\", grid_search.best_params_)\n",
    "print(\"Best F1-score:\", grid_search.best_score_)\n",
    "\n",
    "# best logistic regression model\n",
    "best_logreg = grid_search.best_estimator_\n",
    "\n",
    "# cross-validation results on training data (balanced)\n",
    "cv_results = cross_validate(\n",
    "    best_logreg,\n",
    "    X_train_scaled,\n",
    "    y_train,\n",
    "    cv=10,\n",
    "    scoring=['precision', 'recall', 'f1', 'accuracy'],\n",
    "    n_jobs=-1\n",
    ")\n",
    "\n",
    "print(\"\\nCross-Validation Results on Best Logistic Regression Model:\")\n",
    "print(f\"CV Average Accuracy: {cv_results['test_accuracy'].mean():.2f} ± {cv_results['test_accuracy'].std():.2f}\")\n",
    "print(f\"CV Average Precision: {cv_results['test_precision'].mean():.2f} ± {cv_results['test_precision'].std():.2f}\")\n",
    "print(f\"CV Average Recall: {cv_results['test_recall'].mean():.2f} ± {cv_results['test_recall'].std():.2f}\")\n",
    "print(f\"CV Average F1-Score: {cv_results['test_f1'].mean():.2f} ± {cv_results['test_f1'].std():.2f}\")\n",
    "print(f\"CV Average Fit Time: {cv_results['fit_time'].mean():.2f} seconds\")\n",
    "\n",
    "# final evaluation on test set\n",
    "start_time = time.time()\n",
    "best_logreg.fit(X_train_scaled, y_train)\n",
    "train_time = time.time() - start_time\n",
    "\n",
    "start_time = time.time()\n",
    "y_pred = best_logreg.predict(X_test_scaled)\n",
    "test_time = time.time() - start_time\n",
    "\n",
    "add_model_results(\"Logistic Regression\", \"balanced\",\n",
    "                 accuracy_score(y_test, y_pred),\n",
    "                 precision_score(y_test, y_pred),\n",
    "                 recall_score(y_test, y_pred),\n",
    "                 f1_score(y_test, y_pred))\n",
    "\n",
    "print(\"\\nTest Set Evaluation:\")\n",
    "print(\"Test Accuracy:\", round(accuracy_score(y_test, y_pred), 2))\n",
    "print(\"Test Precision:\", round(precision_score(y_test, y_pred), 2))\n",
    "print(\"Test Recall:\", round(recall_score(y_test, y_pred), 2))\n",
    "print(\"Test F1-score:\", round(f1_score(y_test, y_pred), 2))\n",
    "print(\"Confusion Matrix:\\n\", confusion_matrix(y_test, y_pred))\n",
    "print(f\"Training time: {train_time:.2f} seconds\")\n",
    "print(f\"Testing time: {test_time:.2f} seconds\")\n"
   ]
  },
  {
   "cell_type": "markdown",
   "id": "146717c4",
   "metadata": {},
   "source": [
    "### CatBoost Classifier with Balanced Dataset\n"
   ]
  },
  {
   "cell_type": "code",
   "execution_count": 139,
   "id": "baef2469",
   "metadata": {},
   "outputs": [
    {
     "name": "stdout",
     "output_type": "stream",
     "text": [
      "Fitting 5 folds for each of 8 candidates, totalling 40 fits\n",
      "Best parameters: {'depth': 6, 'iterations': 200, 'learning_rate': 0.1}\n",
      "Best F1-score from GridSearchCV: 0.6888659935208041\n",
      "\n",
      "Cross-Validation Results on Best CatBoost Model:\n",
      "CV Average Accuracy: 0.73 ± 0.00\n",
      "CV Average Precision: 0.81 ± 0.01\n",
      "CV Average Recall: 0.60 ± 0.01\n",
      "CV Average F1-Score: 0.69 ± 0.00\n",
      "CV Average Fit Time: 3.97 seconds\n",
      "\n",
      "Test Set Evaluation:\n",
      "Test Accuracy: 0.73\n",
      "Test Precision: 0.81\n",
      "Test Recall: 0.59\n",
      "Test F1-score: 0.68\n",
      "Confusion Matrix:\n",
      " [[3902  620]\n",
      " [1781 2573]]\n",
      "Training time (Grid Search): 21.36 seconds\n",
      "Training time (Final fit): 1.35 seconds\n",
      "Testing time: 0.02 seconds\n"
     ]
    }
   ],
   "source": [
    "from catboost import CatBoostClassifier\n",
    "from sklearn.model_selection import GridSearchCV, cross_validate\n",
    "from sklearn.metrics import accuracy_score, precision_score, recall_score, f1_score, confusion_matrix\n",
    "import time\n",
    "\n",
    "# parameter grid\n",
    "param_grid = {\n",
    "    'iterations': [100, 200],\n",
    "    'learning_rate': [0.05, 0.1],\n",
    "    'depth': [4, 6]\n",
    "}\n",
    "\n",
    "# initialize CatBoostClassifier\n",
    "catboost_model = CatBoostClassifier(\n",
    "    random_seed=1,\n",
    "    verbose=0,\n",
    "    early_stopping_rounds=20\n",
    ")\n",
    "\n",
    "# gridSearchCV for hyperparameter tuning\n",
    "grid_search = GridSearchCV(\n",
    "    estimator=catboost_model,\n",
    "    param_grid=param_grid,\n",
    "    scoring='f1',\n",
    "    cv=5,\n",
    "    n_jobs=-1,\n",
    "    verbose=1\n",
    ")\n",
    "\n",
    "# fit grid search on balanced training data\n",
    "start_time = time.time()\n",
    "grid_search.fit(X_train, y_train)\n",
    "training_time = time.time() - start_time\n",
    "\n",
    "print(\"Best parameters:\", grid_search.best_params_)\n",
    "print(\"Best F1-score from GridSearchCV:\", grid_search.best_score_)\n",
    "\n",
    "# get best model\n",
    "best_cb = grid_search.best_estimator_\n",
    "\n",
    "# cross-validation on best model\n",
    "cv_results = cross_validate(\n",
    "    best_cb,\n",
    "    X_train,\n",
    "    y_train,\n",
    "    cv=5,\n",
    "    scoring=['precision', 'recall', 'f1', 'accuracy'],\n",
    "    n_jobs=-1\n",
    ")\n",
    "\n",
    "print(\"\\nCross-Validation Results on Best CatBoost Model:\")\n",
    "print(f\"CV Average Accuracy: {cv_results['test_accuracy'].mean():.2f} ± {cv_results['test_accuracy'].std():.2f}\")\n",
    "print(f\"CV Average Precision: {cv_results['test_precision'].mean():.2f} ± {cv_results['test_precision'].std():.2f}\")\n",
    "print(f\"CV Average Recall: {cv_results['test_recall'].mean():.2f} ± {cv_results['test_recall'].std():.2f}\")\n",
    "print(f\"CV Average F1-Score: {cv_results['test_f1'].mean():.2f} ± {cv_results['test_f1'].std():.2f}\")\n",
    "print(f\"CV Average Fit Time: {cv_results['fit_time'].mean():.2f} seconds\")\n",
    "\n",
    "# final training on full training set\n",
    "start_time = time.time()\n",
    "best_cb.fit(X_train, y_train)\n",
    "fit_time_final = time.time() - start_time\n",
    "\n",
    "# predict and evaluate on test set \n",
    "start_time = time.time()\n",
    "pred_cb = best_cb.predict(X_test)\n",
    "testing_time = time.time() - start_time\n",
    "\n",
    "add_model_results(\"CatBoost\", \"balanced\",\n",
    "                 accuracy_score(y_test, pred_cb),\n",
    "                 precision_score(y_test, pred_cb),\n",
    "                 recall_score(y_test, pred_cb),\n",
    "                 f1_score(y_test, pred_cb))\n",
    "\n",
    "print(\"\\nTest Set Evaluation:\")\n",
    "print(\"Test Accuracy:\", round(accuracy_score(y_test, pred_cb), 2))\n",
    "print(\"Test Precision:\", round(precision_score(y_test, pred_cb), 2))\n",
    "print(\"Test Recall:\", round(recall_score(y_test, pred_cb), 2))\n",
    "print(\"Test F1-score:\", round(f1_score(y_test, pred_cb), 2))\n",
    "print(\"Confusion Matrix:\\n\", confusion_matrix(y_test, pred_cb))\n",
    "print(f\"Training time (Grid Search): {training_time:.2f} seconds\")\n",
    "print(f\"Training time (Final fit): {fit_time_final:.2f} seconds\")\n",
    "print(f\"Testing time: {testing_time:.2f} seconds\")\n"
   ]
  },
  {
   "cell_type": "markdown",
   "id": "a17fccad",
   "metadata": {},
   "source": [
    "### XGBoost Classifier with Balanced Dataset\n"
   ]
  },
  {
   "cell_type": "code",
   "execution_count": 140,
   "id": "b5b2a1d4",
   "metadata": {},
   "outputs": [
    {
     "name": "stdout",
     "output_type": "stream",
     "text": [
      "Fitting 3 folds for each of 108 candidates, totalling 324 fits\n",
      "Best parameters: {'colsample_bytree': 0.8, 'learning_rate': 0.01, 'max_depth': 8, 'n_estimators': 100, 'subsample': 0.8}\n",
      "Best F1-score from GridSearchCV: 0.6915528880181515\n",
      "\n",
      "Cross-Validation Results on Best Model:\n",
      "CV Average Accuracy: 0.73 ± 0.01\n",
      "CV Average Precision: 0.81 ± 0.01\n",
      "CV Average Recall: 0.60 ± 0.02\n",
      "CV Average F1-Score: 0.69 ± 0.01\n",
      "CV Average Fit Time: 0.41 seconds\n",
      "\n",
      "Test Set Evaluation:\n",
      "Test Accuracy: 0.73\n",
      "Test Precision: 0.81\n",
      "Test Recall: 0.59\n",
      "Test F1-score: 0.68\n",
      "Confusion Matrix:\n",
      " [[3910  612]\n",
      " [1768 2586]]\n",
      "Training time (Grid Search): 43.32 seconds\n",
      "Training time (Final fit): 0.20 seconds\n",
      "Testing time: 0.01 seconds\n"
     ]
    }
   ],
   "source": [
    "from xgboost import XGBClassifier\n",
    "from sklearn.model_selection import GridSearchCV, cross_validate, StratifiedKFold\n",
    "from sklearn.metrics import accuracy_score, precision_score, recall_score, f1_score, confusion_matrix\n",
    "import time\n",
    "\n",
    "xgb = XGBClassifier(\n",
    "    random_state=1,\n",
    "    eval_metric='logloss',\n",
    "    use_label_encoder=False,\n",
    "    n_jobs=-1,\n",
    "    verbosity=0\n",
    ")\n",
    "\n",
    "# parameter grid for hyperparameter tuning\n",
    "param_grid = {\n",
    "    'n_estimators': [100, 300, 500],\n",
    "    'learning_rate': [0.01, 0.05, 0.1],\n",
    "    'max_depth': [4, 6, 8],\n",
    "    'subsample': [0.8, 1.0],\n",
    "    'colsample_bytree': [0.8, 1.0]\n",
    "}\n",
    "\n",
    "cv = StratifiedKFold(n_splits=3, shuffle=True, random_state=1)\n",
    "\n",
    "# grid search for best hyperparameters using f1 score\n",
    "grid_search = GridSearchCV(\n",
    "    estimator=xgb,\n",
    "    param_grid=param_grid,\n",
    "    scoring='f1',\n",
    "    cv=cv,\n",
    "    n_jobs=-1,\n",
    "    verbose=1\n",
    ")\n",
    "\n",
    "start_time = time.time()\n",
    "grid_search.fit(X_train, y_train)\n",
    "training_time = time.time() - start_time\n",
    "\n",
    "print(\"Best parameters:\", grid_search.best_params_)\n",
    "print(\"Best F1-score from GridSearchCV:\", grid_search.best_score_)\n",
    "\n",
    "# get best model after grid search\n",
    "best_xgb = grid_search.best_estimator_\n",
    "\n",
    "# 5-fold cv on the best model\n",
    "cv_5fold = StratifiedKFold(n_splits=5, shuffle=True, random_state=1)\n",
    "\n",
    "cv_results = cross_validate(\n",
    "    best_xgb,\n",
    "    X_train,\n",
    "    y_train,\n",
    "    cv=cv_5fold,\n",
    "    scoring=['precision', 'recall', 'f1', 'accuracy'],\n",
    "    n_jobs=-1\n",
    ")\n",
    "\n",
    "print(\"\\nCross-Validation Results on Best Model:\")\n",
    "print(f\"CV Average Accuracy: {cv_results['test_accuracy'].mean():.2f} ± {cv_results['test_accuracy'].std():.2f}\")\n",
    "print(f\"CV Average Precision: {cv_results['test_precision'].mean():.2f} ± {cv_results['test_precision'].std():.2f}\")\n",
    "print(f\"CV Average Recall: {cv_results['test_recall'].mean():.2f} ± {cv_results['test_recall'].std():.2f}\")\n",
    "print(f\"CV Average F1-Score: {cv_results['test_f1'].mean():.2f} ± {cv_results['test_f1'].std():.2f}\")\n",
    "print(f\"CV Average Fit Time: {cv_results['fit_time'].mean():.2f} seconds\")\n",
    "\n",
    "# final training on full training set\n",
    "start_time = time.time()\n",
    "best_xgb.fit(X_train, y_train)\n",
    "fit_time_final = time.time() - start_time\n",
    "\n",
    "# predict and evaluate on test set\n",
    "start_time = time.time()\n",
    "pred = best_xgb.predict(X_test)\n",
    "testing_time = time.time() - start_time\n",
    "\n",
    "add_model_results(\"XGBoost\", \"balanced\",\n",
    "                 accuracy_score(y_test, pred),\n",
    "                 precision_score(y_test, pred),\n",
    "                 recall_score(y_test, pred),\n",
    "                 f1_score(y_test, pred))\n",
    "\n",
    "print(\"\\nTest Set Evaluation:\")\n",
    "print(\"Test Accuracy:\", round(accuracy_score(y_test, pred), 2))\n",
    "print(\"Test Precision:\", round(precision_score(y_test, pred), 2))\n",
    "print(\"Test Recall:\", round(recall_score(y_test, pred), 2))\n",
    "print(\"Test F1-score:\", round(f1_score(y_test, pred), 2))\n",
    "print(\"Confusion Matrix:\\n\", confusion_matrix(y_test, pred))\n",
    "print(f\"Training time (Grid Search): {training_time:.2f} seconds\")\n",
    "print(f\"Training time (Final fit): {fit_time_final:.2f} seconds\")\n",
    "print(f\"Testing time: {testing_time:.2f} seconds\")\n"
   ]
  },
  {
   "cell_type": "markdown",
   "id": "eeafa637",
   "metadata": {},
   "source": [
    "### Random Forest Classifier with Balanced Dataset\n"
   ]
  },
  {
   "cell_type": "code",
   "execution_count": 141,
   "id": "9c18b7c2",
   "metadata": {},
   "outputs": [
    {
     "name": "stdout",
     "output_type": "stream",
     "text": [
      "Fitting 3 folds for each of 36 candidates, totalling 108 fits\n",
      "Best parameters: {'class_weight': 'balanced', 'max_depth': 10, 'min_samples_leaf': 1, 'min_samples_split': 2, 'n_estimators': 300}\n",
      "Best F1-score from GridSearch: 0.6883846125637141\n",
      "\n",
      "Cross-Validation Results on Best Random Forest Model:\n",
      "CV Average Accuracy: 0.73 ± 0.01\n",
      "CV Average Precision: 0.83 ± 0.01\n",
      "CV Average Recall: 0.59 ± 0.01\n",
      "CV Average F1-Score: 0.69 ± 0.01\n",
      "CV Average Fit Time: 4.57 seconds\n",
      "\n",
      "Test Set Evaluation:\n",
      "Test Accuracy: 0.73\n",
      "Test Precision: 0.82\n",
      "Test Recall: 0.58\n",
      "Test F1-score: 0.68\n",
      "Confusion Matrix:\n",
      " [[3982  540]\n",
      " [1841 2513]]\n",
      "Training time (Grid Search + Fit): 142.82 seconds\n",
      "Testing time: 0.10 seconds\n"
     ]
    }
   ],
   "source": [
    "from sklearn.ensemble import RandomForestClassifier\n",
    "from sklearn.model_selection import GridSearchCV, cross_validate, StratifiedKFold\n",
    "from sklearn.metrics import accuracy_score, precision_score, recall_score, f1_score, confusion_matrix\n",
    "import time\n",
    "\n",
    "# parameter grid for Random Forest hyperparameter tuning\n",
    "param_grid = {\n",
    "    'n_estimators': [100, 300, 500],\n",
    "    'max_depth': [None, 10, 20],\n",
    "    'min_samples_split': [2, 5],\n",
    "    'min_samples_leaf': [1, 2],\n",
    "    'class_weight': ['balanced']\n",
    "}\n",
    "\n",
    "# setup RandomForestClassifier\n",
    "rf = RandomForestClassifier(\n",
    "    random_state=1,\n",
    "    n_jobs=-1\n",
    ")\n",
    "\n",
    "cv = StratifiedKFold(n_splits=3, shuffle=True, random_state=1)\n",
    "\n",
    "# grid search for best hyperparameters\n",
    "grid_search = GridSearchCV(\n",
    "    estimator=rf,\n",
    "    param_grid=param_grid,\n",
    "    scoring='f1',\n",
    "    cv=cv,\n",
    "    n_jobs=-1,\n",
    "    verbose=1\n",
    ")\n",
    "\n",
    "start_time = time.time()\n",
    "grid_search.fit(X_train, y_train)\n",
    "training_time_grid = time.time() - start_time\n",
    "\n",
    "print(\"Best parameters:\", grid_search.best_params_)\n",
    "print(\"Best F1-score from GridSearch:\", grid_search.best_score_)\n",
    "\n",
    "# get best model from grid search\n",
    "best_rf = grid_search.best_estimator_\n",
    "\n",
    "# 5-fold cv on best model\n",
    "cv_5fold = StratifiedKFold(n_splits=5, shuffle=True, random_state=1)\n",
    "\n",
    "cv_results = cross_validate(\n",
    "    best_rf,\n",
    "    X_train,\n",
    "    y_train,\n",
    "    cv=cv_5fold,\n",
    "    scoring=['precision', 'recall', 'f1', 'accuracy'],\n",
    "    n_jobs=-1\n",
    ")\n",
    "\n",
    "print(\"\\nCross-Validation Results on Best Random Forest Model:\")\n",
    "print(f\"CV Average Accuracy: {cv_results['test_accuracy'].mean():.2f} ± {cv_results['test_accuracy'].std():.2f}\")\n",
    "print(f\"CV Average Precision: {cv_results['test_precision'].mean():.2f} ± {cv_results['test_precision'].std():.2f}\")\n",
    "print(f\"CV Average Recall: {cv_results['test_recall'].mean():.2f} ± {cv_results['test_recall'].std():.2f}\")\n",
    "print(f\"CV Average F1-Score: {cv_results['test_f1'].mean():.2f} ± {cv_results['test_f1'].std():.2f}\")\n",
    "print(f\"CV Average Fit Time: {cv_results['fit_time'].mean():.2f} seconds\")\n",
    "\n",
    "# final evaluation on test set\n",
    "start_time = time.time()\n",
    "pred = best_rf.predict(X_test)\n",
    "testing_time = time.time() - start_time\n",
    "\n",
    "add_model_results(\"Random Forest\", \"balanced\",\n",
    "                 accuracy_score(y_test, pred),\n",
    "                 precision_score(y_test, pred),\n",
    "                 recall_score(y_test, pred),\n",
    "                 f1_score(y_test, pred))\n",
    "\n",
    "print(\"\\nTest Set Evaluation:\")\n",
    "print(\"Test Accuracy:\", round(accuracy_score(y_test, pred), 2))\n",
    "print(\"Test Precision:\", round(precision_score(y_test, pred), 2))\n",
    "print(\"Test Recall:\", round(recall_score(y_test, pred), 2))\n",
    "print(\"Test F1-score:\", round(f1_score(y_test, pred), 2))\n",
    "print(\"Confusion Matrix:\\n\", confusion_matrix(y_test, pred))\n",
    "print(f\"Training time (Grid Search + Fit): {training_time_grid:.2f} seconds\")\n",
    "print(f\"Testing time: {testing_time:.2f} seconds\")\n"
   ]
  },
  {
   "cell_type": "code",
   "execution_count": null,
   "id": "23f81a0d",
   "metadata": {},
   "outputs": [
    {
     "name": "stderr",
     "output_type": "stream",
     "text": [
      "C:\\Users\\Utilizador\\AppData\\Local\\Temp\\ipykernel_22196\\1476445040.py:15: UserWarning: \n",
      "The palette list has fewer values (3) than needed (4) and will cycle, which may produce an uninterpretable plot.\n",
      "  f1_plot = sns.barplot(\n"
     ]
    },
    {
     "data": {
      "image/png": "[encoded data removed]",
      "text/plain": [
       "<Figure size 1400x800 with 1 Axes>"
      ]
     },
     "metadata": {},
     "output_type": "display_data"
    },
    {
     "name": "stderr",
     "output_type": "stream",
     "text": [
      "C:\\Users\\Utilizador\\AppData\\Local\\Temp\\ipykernel_22196\\1476445040.py:38: UserWarning: \n",
      "The palette list has fewer values (3) than needed (4) and will cycle, which may produce an uninterpretable plot.\n",
      "  sns.barplot(\n",
      "C:\\Users\\Utilizador\\AppData\\Local\\Temp\\ipykernel_22196\\1476445040.py:38: UserWarning: \n",
      "The palette list has fewer values (3) than needed (4) and will cycle, which may produce an uninterpretable plot.\n",
      "  sns.barplot(\n",
      "C:\\Users\\Utilizador\\AppData\\Local\\Temp\\ipykernel_22196\\1476445040.py:38: UserWarning: \n",
      "The palette list has fewer values (3) than needed (4) and will cycle, which may produce an uninterpretable plot.\n",
      "  sns.barplot(\n",
      "C:\\Users\\Utilizador\\AppData\\Local\\Temp\\ipykernel_22196\\1476445040.py:38: UserWarning: \n",
      "The palette list has fewer values (3) than needed (4) and will cycle, which may produce an uninterpretable plot.\n",
      "  sns.barplot(\n"
     ]
    },
    {
     "data": {
      "image/png": "[encoded data removed]",
      "text/plain": [
       "<Figure size 1800x1200 with 4 Axes>"
      ]
     },
     "metadata": {},
     "output_type": "display_data"
    }
   ],
   "source": [
    "\n",
    "results_df = pd.DataFrame([\n",
    "    {'Model': model, \n",
    "     'Stage': stage, \n",
    "     'Metric': metric, \n",
    "     'Value': value} \n",
    "    for model, stages in results.items() \n",
    "    for stage, metrics in stages.items() \n",
    "    for metric, value in metrics.items()\n",
    "])\n",
    "\n",
    "# visualization of results\n",
    "plt.figure(figsize=(14, 8))\n",
    "f1_plot = sns.barplot(\n",
    "    data=results_df[results_df['Metric'] == 'f1'],\n",
    "    x='Model', \n",
    "    y='Value', \n",
    "    hue='Stage',\n",
    "    palette=['#2c3e50', '#3498db', '#27ae60']\n",
    ")\n",
    "plt.title('F1 Score Comparison Across Model Enhancements', fontsize=16)\n",
    "plt.xlabel('Model', fontsize=14)\n",
    "plt.ylabel('F1 Score', fontsize=14)\n",
    "plt.xticks(rotation=30)\n",
    "plt.ylim(0, 1.0)\n",
    "plt.legend(title='Stage')\n",
    "plt.tight_layout()\n",
    "plt.show()\n",
    "\n",
    "# Create comparison for metrics\n",
    "metrics = ['accuracy', 'precision', 'recall', 'f1']\n",
    "fig, axes = plt.subplots(2, 2, figsize=(18, 12))\n",
    "axes = axes.flatten()\n",
    "\n",
    "for i, metric in enumerate(metrics):\n",
    "    ax = axes[i]\n",
    "    sns.barplot(\n",
    "        data=results_df[results_df['Metric'] == metric],\n",
    "        x='Model', \n",
    "        y='Value', \n",
    "        hue='Stage',\n",
    "        palette=['#2c3e50', '#3498db', '#27ae60'],\n",
    "        ax=ax\n",
    "    )\n",
    "    ax.set_title(f'{metric.capitalize()} Comparison', fontsize=14)\n",
    "    ax.set_xlabel('Model', fontsize=12)\n",
    "    ax.set_ylabel(metric.capitalize(), fontsize=12)\n",
    "    ax.set_ylim(0, 1.0)\n",
    "    ax.tick_params(axis='x', rotation=30)\n",
    "    if i == 0:\n",
    "        ax.legend(title='Stage')\n",
    "    else:\n",
    "        ax.legend([],[], frameon=False)\n",
    "\n",
    "plt.tight_layout()\n",
    "plt.subplots_adjust(top=0.9)\n",
    "fig.suptitle('Performance Metrics Across Model Enhancements', fontsize=16)\n",
    "plt.show()"
   ]
  }
 ],
 "metadata": {
  "kernelspec": {
   "display_name": "Python 3",
   "language": "python",
   "name": "python3"
  },
  "language_info": {
   "codemirror_mode": {
    "name": "ipython",
    "version": 3
   },
   "file_extension": ".py",
   "mimetype": "text/x-python",
   "name": "python",
   "nbconvert_exporter": "python",
   "pygments_lexer": "ipython3",
   "version": "3.10.7"
  }
 },
 "nbformat": 4,
 "nbformat_minor": 5
}
